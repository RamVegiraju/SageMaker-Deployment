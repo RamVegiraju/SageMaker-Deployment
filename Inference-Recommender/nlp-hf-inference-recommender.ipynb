{
 "cells": [
  {
   "cell_type": "markdown",
   "metadata": {},
   "source": [
    "# SageMaker Inference Recommender for a NLP transformer model\n",
    "\n",
    "## Contents\n",
    "[1. Introduction](#1.-Introduction)  \n",
    "[2. Download HuggingFace Pretrained Model](#2.-Download-HuggingFace-Pretrained-Model)  \n",
    "[3. Deploy HuggingFace model](#3.-Deploy-HuggingFace-model)  \n",
    "[4. Register Model Version/Package](#4.-Register-Model-Version/Package)  \n",
    "[5. Create a SageMaker Inference Recommender Default Job](#5:-Create-a-SageMaker-Inference-Recommender-Default-Job)   \n",
    "[6. Instance Recommendation Results](#6.-Instance-Recommendation-Results)   \n",
    "[7. Create a SageMaker Inference Recommender Advanced Job](#7.-Custom-Load-Test)  \n",
    "[8. Describe result of an Advanced Job](#8.-Custom-Load-Test-Results)  "
   ]
  },
  {
   "cell_type": "markdown",
   "metadata": {},
   "source": [
    "## 1. Introduction\n",
    "\n",
    "Deploying and scaling NLP models in a production set up can be a hard engineering problem\n",
    "1. NLP models are very large in size, often contain millions of model parameters\n",
    "2. Requires accelerated compute infrastructure(GPUs) to speed up huge and complex calculations during inference\n",
    "3. Scaling requirements to satisfy concurreny,latency and throughput of ML applications\n",
    "4. Finding best instance type and configurations can be expensive and time consuming\n",
    "\n",
    "SageMaker Inference Recommender is a new capability of SageMaker that reduces the time required to get machine learning (ML) models in production by automating performance benchmarking and load testing models across SageMaker ML instances. You can use Inference Recommender to deploy your model to a real-time inference endpoint that delivers the best performance at the lowest cost.Inference Recommender helps you select the best instance type and configuration (such as instance count, container parameters, and model optimizations) for your ML models and workloads.\n"
   ]
  },
  {
   "cell_type": "markdown",
   "metadata": {},
   "source": [
    "#### Installs and Set Up\n",
    "To begin, let's update the required packages i.e. SageMaker Python SDK, `boto3`, `botocore` and `awscli`"
   ]
  },
  {
   "cell_type": "code",
   "execution_count": null,
   "metadata": {
    "scrolled": true
   },
   "outputs": [],
   "source": [
    "import sys\n",
    "\n",
    "!{sys.executable} -m pip3 install botocore boto3 awscli ipywidgets seaborn --upgrade -q\n",
    "!pip3 install sagemaker --upgrade\n",
    "!pip3 install torch -q\n",
    "!pip3 install transformers"
   ]
  },
  {
   "cell_type": "markdown",
   "metadata": {},
   "source": [
    "#### **Note: Restart the notebook after installing the above packages.**"
   ]
  },
  {
   "cell_type": "code",
   "execution_count": 3,
   "metadata": {},
   "outputs": [],
   "source": [
    "from IPython.display import display_html\n",
    "def restartkernel() :\n",
    "    display_html(\"<script>Jupyter.notebook.kernel.restart()</script>\",raw=True)"
   ]
  },
  {
   "cell_type": "code",
   "execution_count": 4,
   "metadata": {},
   "outputs": [
    {
     "data": {
      "text/html": [
       "<script>Jupyter.notebook.kernel.restart()</script>"
      ]
     },
     "metadata": {},
     "output_type": "display_data"
    }
   ],
   "source": [
    "restartkernel()"
   ]
  },
  {
   "cell_type": "markdown",
   "metadata": {},
   "source": [
    "#### Imports"
   ]
  },
  {
   "cell_type": "code",
   "execution_count": 7,
   "metadata": {},
   "outputs": [],
   "source": [
    "#generic packages\n",
    "import sys\n",
    "from time import gmtime, strftime\n",
    "import datetime\n",
    "import boto3\n",
    "import pprint\n",
    "import pandas as pd\n",
    "import time\n",
    "\n",
    "#sagemaker\n",
    "import sagemaker\n",
    "from sagemaker.s3 import S3Uploader,s3_path_join\n",
    "from sagemaker.huggingface import HuggingFaceModel\n",
    "from sagemaker import get_execution_role\n",
    "import sagemaker\n",
    "from sagemaker.s3 import S3Uploader,s3_path_join\n",
    "\n",
    "#visualization\n",
    "import matplotlib\n",
    "import matplotlib.pyplot as plt\n",
    "import seaborn as sns\n",
    "\n",
    "#hugging face transformers\n",
    "from transformers import AutoModelForSequenceClassification, AutoTokenizer"
   ]
  },
  {
   "cell_type": "markdown",
   "metadata": {},
   "source": [
    "#### Variables"
   ]
  },
  {
   "cell_type": "code",
   "execution_count": 9,
   "metadata": {},
   "outputs": [],
   "source": [
    "#sagemaker\n",
    "sess = sagemaker.Session()\n",
    "role = 'arn:aws:iam::156991241640:role/service-role/AmazonSageMaker-ExecutionRole-20210302T095973' #sagemaker.get_execution_role()\n",
    "sagemaker_session_bucket = sess.default_bucket()\n",
    "prefix = \"inference-receommender\"\n",
    "client = boto3.client(\"sagemaker\")\n",
    "\n",
    "current_timestamp = strftime('%m-%d-%H-%M', gmtime())\n",
    "endpoint_name=f\"nlp-benchmark-bert-base-uncased-{current_timestamp}\"\n",
    "MODEL = \"bert-base-uncased\""
   ]
  },
  {
   "cell_type": "markdown",
   "metadata": {},
   "source": [
    "## 2. Download HuggingFace Pretrained Model\n",
    "\n"
   ]
  },
  {
   "cell_type": "markdown",
   "metadata": {},
   "source": [
    "In this notebook, we will download pre-trained `bert-base-uncased` model from HuggingFace package and use it for Sequence classification task. We will use `AutoModelForSequenceClassification`, a generic sequence classification model class to load pre-trained model weights and `AutoTokenizer`, a generic tokenizer classes to instantiate a tokenizer from a pre-trained model vocabulary. Once you instantiate model and tokenizer, we will save them to `model_artifacts` directory locally."
   ]
  },
  {
   "cell_type": "code",
   "execution_count": null,
   "metadata": {},
   "outputs": [],
   "source": [
    "!mkdir model_artifacts"
   ]
  },
  {
   "cell_type": "code",
   "execution_count": 11,
   "metadata": {},
   "outputs": [
    {
     "data": {
      "text/plain": [
       "('model_artifacts/vocab.txt',\n",
       " 'model_artifacts/special_tokens_map.json',\n",
       " 'model_artifacts/added_tokens.json')"
      ]
     },
     "execution_count": 11,
     "metadata": {},
     "output_type": "execute_result"
    }
   ],
   "source": [
    "model = AutoModelForSequenceClassification.from_pretrained(MODEL)\n",
    "tokenizer = AutoTokenizer.from_pretrained(MODEL)\n",
    "model.save_pretrained('model_artifacts')\n",
    "tokenizer.save_pretrained('model_artifacts')"
   ]
  },
  {
   "cell_type": "markdown",
   "metadata": {},
   "source": [
    "#### Package the saved model to tar.gz format\n",
    "\n",
    "Once the model is downloaded, we need to package (tokenizer and model weights) it to `.tar.gz` format as expected by Amazon SageMaker. "
   ]
  },
  {
   "cell_type": "code",
   "execution_count": 12,
   "metadata": {},
   "outputs": [
    {
     "name": "stdout",
     "output_type": "stream",
     "text": [
      "a config.json\n",
      "a pytorch_model.bin\n",
      "a special_tokens_map.json\n",
      "a tokenizer_config.json\n",
      "a vocab.txt\n"
     ]
    }
   ],
   "source": [
    "!cd model_artifacts && tar zcvf bert_model.tar.gz * \n",
    "!mv model_artifacts/bert_model.tar.gz ./bert_model.tar.gz"
   ]
  },
  {
   "cell_type": "markdown",
   "metadata": {},
   "source": [
    "#### Upload Pre-trained Model to S3"
   ]
  },
  {
   "cell_type": "markdown",
   "metadata": {},
   "source": [
    "We are going to use the `sagemaker.s3.S3Uploader` api to upload our model to an S3 location. We will provide this s3 path to the `HuggingFaceModel` class during deployment."
   ]
  },
  {
   "cell_type": "code",
   "execution_count": 14,
   "metadata": {},
   "outputs": [
    {
     "name": "stdout",
     "output_type": "stream",
     "text": [
      "Uploading Model to s3://sagemaker-us-east-2-156991241640/inference-receommender\n",
      "Uploaded model to s3://sagemaker-us-east-2-156991241640/inference-receommender/bert_model.tar.gz\n"
     ]
    }
   ],
   "source": [
    "# uploads a given file to S3.\n",
    "upload_path = s3_path_join(\"s3://\",sagemaker_session_bucket,prefix)\n",
    "print(f\"Uploading Model to {upload_path}\")\n",
    "model_uri = S3Uploader.upload('bert_model.tar.gz',upload_path)\n",
    "print(f\"Uploaded model to {model_uri}\")"
   ]
  },
  {
   "cell_type": "markdown",
   "metadata": {},
   "source": [
    "## 3. Deploy HuggingFace model\n",
    "\n",
    "We will deploy our pre-trained model which we packaged and uploaded to s3 in the previous steps, using the model_data argument to specify the s3 location of your tokenizer and model weights.\n",
    "\n",
    "#### Parameters for `HuggingFaceModel` class\n",
    "We will use following parameters in this lab for deploying the model. \n",
    "* `model_data (str)` – The Amazon S3 location of a SageMaker model data .tar.gz file.\n",
    "\n",
    "* `role (str)` – An AWS IAM role specified with either the name or full ARN. The Amazon SageMaker training jobs and APIs that create Amazon SageMaker endpoints use this role to access training data and model artifacts. After the endpoint is created, the inference code might use the IAM role, if it needs to access an AWS resource.\n",
    "\n",
    "* `transformers_version (str)` – Transformers version you want to use for executing your model training code. Defaults to None. Required unless image_uri is provided.\n",
    "\n",
    "* `pytorch_version (str)` – PyTorch version you want to use for executing your inference code. Defaults to None. Required unless tensorflow_version is provided. List of supported versions: https://github.com/aws/sagemaker-python-sdk#huggingface-sagemaker-estimators.\n",
    "\n",
    "* `py_version (str)` – Python version you want to use for executing your model training code. Defaults to None. Required unless image_uri is provided.\n",
    "\n",
    "For details about other paramets, please click [here](#https://sagemaker.readthedocs.io/en/stable/frameworks/huggingface/sagemaker.huggingface.html?highlight=huggingfacemodel#sagemaker.huggingface.model.HuggingFaceModel)."
   ]
  },
  {
   "cell_type": "code",
   "execution_count": 15,
   "metadata": {},
   "outputs": [],
   "source": [
    "# create Hugging Face Model Class\n",
    "huggingface_model = HuggingFaceModel(\n",
    "   model_data=model_uri,  # path to your trained sagemaker model\n",
    "   role=role, # iam role with permissions to create an Endpoint\n",
    "   transformers_version=\"4.6\", # transformers version used\n",
    "   pytorch_version=\"1.7\", # pytorch version used\n",
    "   py_version=\"py36\", # python version of the DLC\n",
    ")"
   ]
  },
  {
   "cell_type": "markdown",
   "metadata": {},
   "source": [
    "We created a HuggingFace model class in the above step. Now, we will deploy the model to a SageMaker real time endpoint. We are deploying the model to a GPU accelerated instance type. \n",
    "Note: For the inference recommender we will retrieve the image_uri based on this endpoint, if you wish to run inference recommender on CPU based instance, change deploy step with CPU based instance type and run inference recommender. "
   ]
  },
  {
   "cell_type": "code",
   "execution_count": 16,
   "metadata": {},
   "outputs": [
    {
     "name": "stdout",
     "output_type": "stream",
     "text": [
      "------!"
     ]
    }
   ],
   "source": [
    "# deploy model to SageMaker Inference\n",
    "predictor = huggingface_model.deploy(\n",
    "   initial_instance_count=1,\n",
    "   instance_type=\"ml.g4dn.xlarge\",\n",
    "   endpoint_name=endpoint_name\n",
    ")"
   ]
  },
  {
   "cell_type": "markdown",
   "metadata": {},
   "source": [
    "### Sample Inference\n",
    "\n",
    "We use below sample inference payload, pass it to the predictor to get inference results. "
   ]
  },
  {
   "cell_type": "code",
   "execution_count": 17,
   "metadata": {},
   "outputs": [
    {
     "data": {
      "text/plain": [
       "[{'label': 'LABEL_0', 'score': 0.548836350440979}]"
      ]
     },
     "execution_count": 17,
     "metadata": {},
     "output_type": "execute_result"
    }
   ],
   "source": [
    "data = {\n",
    "   \"inputs\": \"This is really exciting! The new Hugging Face SageMaker DLC makes it super easy to deploy large NLP models in production.\"\n",
    "}\n",
    "\n",
    "# request\n",
    "predictor.predict(data)"
   ]
  },
  {
   "cell_type": "markdown",
   "metadata": {},
   "source": [
    "### Tar the payload and upload to S3\n",
    "We need to create an archive that contains individual files that Inference Recommender can send to your SageMaker Endpoints. Inference Recommender will randomly sample files from this archive so make sure it contains a similar distribution of payloads you'd expect in production. Note that your inference code must be able to read in the file formats from the sample payload.\n",
    "\n",
    "We now have a model archive ready. We need to upload it to S3 before we can use it with Inference Recommender, so we will use the SageMaker Python SDK to handle the upload."
   ]
  },
  {
   "cell_type": "code",
   "execution_count": 22,
   "metadata": {},
   "outputs": [],
   "source": [
    "import json\n",
    "with open('payload.json', 'w') as fp:\n",
    "    json.dump(data, fp)"
   ]
  },
  {
   "cell_type": "code",
   "execution_count": 23,
   "metadata": {},
   "outputs": [
    {
     "name": "stdout",
     "output_type": "stream",
     "text": [
      "a payload.json\n",
      "upload: ./payload.tar.gz to s3://sagemaker-us-east-2-156991241640/inference-receommender/payload.tar.gz\n"
     ]
    },
    {
     "data": {
      "text/plain": [
       "'s3://sagemaker-us-east-2-156991241640/inference-receommender/payload.tar.gz'"
      ]
     },
     "execution_count": 23,
     "metadata": {},
     "output_type": "execute_result"
    }
   ],
   "source": [
    "!tar -cvzf payload.tar.gz payload.json\n",
    "!aws s3 cp payload.tar.gz s3://{sagemaker_session_bucket}/{prefix}/\n",
    "    \n",
    "sample_payload_url= f\"s3://{sagemaker_session_bucket}/{prefix}/payload.tar.gz\"\n",
    "sample_payload_url"
   ]
  },
  {
   "cell_type": "markdown",
   "metadata": {},
   "source": [
    "### Container Images and Model URL\n",
    "\n",
    "Now that we deployed the model, we will retrieve model artifacts and Inference container image and use it in SageMaker inference recommender."
   ]
  },
  {
   "cell_type": "code",
   "execution_count": 24,
   "metadata": {},
   "outputs": [
    {
     "name": "stdout",
     "output_type": "stream",
     "text": [
      "763104351884.dkr.ecr.us-east-2.amazonaws.com/huggingface-pytorch-inference:1.7-transformers4.6-gpu-py36-cu110-ubuntu18.04\n",
      "s3://sagemaker-us-east-2-156991241640/inference-receommender/bert_model.tar.gz\n",
      "Endpoint creation completed\n",
      "CPU times: user 31.7 ms, sys: 10.3 ms, total: 42 ms\n",
      "Wall time: 587 ms\n"
     ]
    }
   ],
   "source": [
    "%%time\n",
    "\n",
    "ended = False\n",
    "while not ended:\n",
    "    endpoint_response = client.describe_endpoint(EndpointName=endpoint_name)\n",
    "    if endpoint_response[\"EndpointStatus\"] in [\"InService\", \"Failed\"]:\n",
    "        ended = True\n",
    "    else:\n",
    "        print(\"Endpoint Creation in progress\")\n",
    "        time.sleep(300)\n",
    "\n",
    "if endpoint_response[\"EndpointStatus\"] == \"Failed\":\n",
    "    print(\"Endpoint creation failed \")\n",
    "    print(\"Failed Reason: {}\".endpoint_response[\"FailureReason\"])\n",
    "else:\n",
    "    endpoint_config_name = endpoint_response[\"EndpointConfigName\"]\n",
    "    image_uri = endpoint_response[\"ProductionVariants\"][0][\"DeployedImages\"][0][\"SpecifiedImage\"]\n",
    "    endpoint_config_response = client.describe_endpoint_config(EndpointConfigName=endpoint_config_name)\n",
    "    model_name = endpoint_config_response[\"ProductionVariants\"][0][\"ModelName\"]\n",
    "    endpoint_model_response = client.describe_model(ModelName=model_name)\n",
    "    model_url = endpoint_model_response[\"PrimaryContainer\"][\"ModelDataUrl\"]\n",
    "    print(image_uri)\n",
    "    print(model_url)\n",
    "    print(\"Endpoint creation completed\")"
   ]
  },
  {
   "cell_type": "markdown",
   "metadata": {},
   "source": [
    "## 4. Register Model Version/Package\n",
    "\n",
    "Inference Recommender expects the model to be packaged in the model registry. Here, we are creating a model package group and a model package version. The model package version which takes container, model `URL` etc. will now allow you to pass additional information about the model like `Domain`, `Task`, `Framework`, `FrameworkVersion`, `NearestModelName`, `SamplePayloadUrl`\n",
    "You specify a list of the instance types that are used to generate inferences in real-time in`SupportedRealtimeInferenceInstanceTypes` parameter.\n",
    "\n",
    "For Inference on NLP data, e.g. HuggingFace Models you want to use accelerated GPU based computing instances. Here, we have used ml.p2, ml.p3, ml.g4dn type instances in `SupportedRealtimeInferenceInstanceTypes` parameter\n",
    "\n",
    "\n",
    "\n",
    "As `SamplePayloadUrl` and `SupportedContentTypes` parameters are essential for benchmarking the endpoint, we also highly recommend that you specify `Domain`, `Task`, `Framework`, `FrameworkVersion`, `NearestModelName` for better inference recommendation.\n"
   ]
  },
  {
   "cell_type": "code",
   "execution_count": 25,
   "metadata": {},
   "outputs": [],
   "source": [
    "ml_domain = \"NATURAL_LANGUAGE_PROCESSING\"    \n",
    "ml_task = \"FILL_MASK\"\n",
    "framework = \"PYTORCH\"\n",
    "framework_version = \"1.7\"\n",
    "\n",
    "#sagemaker model registry\n",
    "model_package_group_name = f\"nlp-bert-mg-{current_timestamp}\"\n",
    "model_package_group_description = \"model benchmark use case\"\n",
    "nearest_model_name = \"bert-base-uncased\"                          #The name of the ML model as standardized by common model zoos\n",
    "input_content_type=\"application/json\"                             #MIME types for input\n",
    "response_content_type=\"application/json\"                          #MIME types for input\n",
    "model_package_description = \"model bert-base-uncased benchmark\"\n",
    "default_job = f\"nlp-basic-inference-recommender-job-{current_timestamp}\"\n",
    "advanced_job = f\"nlp-advanced-inference-recommender-job-{current_timestamp}\""
   ]
  },
  {
   "cell_type": "code",
   "execution_count": 26,
   "metadata": {},
   "outputs": [],
   "source": [
    "model_package_group_input_dict = {\n",
    " \"ModelPackageGroupName\" : model_package_group_name,\n",
    " \"ModelPackageGroupDescription\" : model_package_group_description,\n",
    "}\n",
    "\n",
    "model_package_group_response = client.create_model_package_group(**model_package_group_input_dict)"
   ]
  },
  {
   "cell_type": "code",
   "execution_count": 27,
   "metadata": {},
   "outputs": [
    {
     "name": "stdout",
     "output_type": "stream",
     "text": [
      "ModelPackage Version ARN : arn:aws:sagemaker:us-east-2:156991241640:model-package/nlp-bert-mg-01-04-16-33/1\n"
     ]
    }
   ],
   "source": [
    "model_package_input_dict = {\n",
    "        \"ModelPackageGroupName\" :model_package_group_name,\n",
    "        \"Domain\": ml_domain,\n",
    "        \"Task\": ml_task,\n",
    "        \"SamplePayloadUrl\": sample_payload_url,\n",
    "        \"ModelPackageDescription\" : model_package_group_description,\n",
    "            \"InferenceSpecification\": {\n",
    "                    \"Containers\": [\n",
    "                        {\n",
    "                            \"Image\": image_uri,\n",
    "                            \"ModelDataUrl\": model_url,\n",
    "                            \"Framework\": framework.upper(), \n",
    "                            \"FrameworkVersion\": framework_version,\n",
    "                            \"NearestModelName\": nearest_model_name\n",
    "                        }\n",
    "                        ],\n",
    "                    \"SupportedContentTypes\": [input_content_type],\n",
    "                    \"SupportedResponseMIMETypes\": [response_content_type],\n",
    "                    \"SupportedRealtimeInferenceInstanceTypes\": ['ml.p3.8xlarge','ml.p3.2xlarge','ml.p3.16xlarge','ml.p2.16xlarge',\n",
    "                                                                'ml.g4dn.xlarge','ml.g4dn.8xlarge','ml.g4dn.4xlarge','ml.g4dn.2xlarge',\n",
    "                                                                'ml.g4dn.16xlarge','ml.g4dn.12xlarge']\n",
    "            }\n",
    "        }\n",
    "\n",
    "model_package_response = client.create_model_package(**model_package_input_dict)\n",
    "model_package_arn = model_package_response[\"ModelPackageArn\"]\n",
    "print('ModelPackage Version ARN : {}'.format(model_package_arn))"
   ]
  },
  {
   "cell_type": "markdown",
   "metadata": {},
   "source": [
    "## 5: Create a SageMaker Inference Recommender Default Job\n",
    "\n",
    "Now with your model in Model Registry, you can kick off a 'Default' job to get instance recommendations. This only requires your `ModelPackageVersionArn` and comes back with recommendations within an hour. \n",
    "\n",
    "The output is a list of instance type recommendations with associated environment variables, cost, throughput and latency metrics."
   ]
  },
  {
   "cell_type": "code",
   "execution_count": 28,
   "metadata": {},
   "outputs": [
    {
     "name": "stdout",
     "output_type": "stream",
     "text": [
      "{'JobArn': 'arn:aws:sagemaker:us-east-2:156991241640:inference-recommendations-job/nlp-basic-inference-recommender-job-01-04-16-33', 'ResponseMetadata': {'RequestId': '07f4fd6d-4a69-4035-93d8-0ac5fcde675c', 'HTTPStatusCode': 200, 'HTTPHeaders': {'x-amzn-requestid': '07f4fd6d-4a69-4035-93d8-0ac5fcde675c', 'content-type': 'application/x-amz-json-1.1', 'content-length': '131', 'date': 'Tue, 04 Jan 2022 17:11:30 GMT'}, 'RetryAttempts': 0}}\n"
     ]
    }
   ],
   "source": [
    "default_response = client.create_inference_recommendations_job(\n",
    "    JobName=str(default_job),\n",
    "    JobDescription=\"NLP Inference Basic Recommender Job\",\n",
    "    JobType=\"Default\",\n",
    "    RoleArn=role,\n",
    "    InputConfig={\"ModelPackageVersionArn\": model_package_response[\"ModelPackageArn\"]},\n",
    ")\n",
    "\n",
    "print(default_response)"
   ]
  },
  {
   "cell_type": "markdown",
   "metadata": {},
   "source": [
    "### 6. Instance Recommendation Results\n",
    "\n",
    "The inference recommender job provides multiple endpoint recommendations in its result. The recommendation includes `InstanceType`, `InitialInstanceCount`, `EnvironmentParameters` which includes tuned parameters for better performance. We also include the benchmarking results like `MaxInvocations`, `ModelLatency`, `CostPerHour` and `CostPerInference` for deeper analysis. The information provided will help you narrow down to a specific endpoint configuration that suits your use case.\n",
    "\n",
    "Example:   \n",
    "\n",
    "If your motivation is overall price-performance, then you should focus on `CostPerInference` metrics  \n",
    "If your motivation is latency/throughput, then you should focus on `ModelLatency` / `MaxInvocations` metrics"
   ]
  },
  {
   "cell_type": "markdown",
   "metadata": {},
   "source": [
    "Running the Inference recommender job will take ~35 minutes."
   ]
  },
  {
   "cell_type": "code",
   "execution_count": 29,
   "metadata": {},
   "outputs": [
    {
     "name": "stdout",
     "output_type": "stream",
     "text": [
      "Inference recommender job in progress\n",
      "Inference recommender job in progress\n",
      "Inference recommender job in progress\n",
      "Inference recommender job in progress\n",
      "Inference recommender job in progress\n",
      "Inference recommender job in progress\n",
      "Inference recommender job completed\n",
      "CPU times: user 298 ms, sys: 60.6 ms, total: 358 ms\n",
      "Wall time: 30min 5s\n"
     ]
    }
   ],
   "source": [
    "%%time\n",
    "\n",
    "ended = False\n",
    "while not ended:\n",
    "    inference_recommender_job = client.describe_inference_recommendations_job(\n",
    "        JobName=str(default_job)\n",
    "    )\n",
    "    if inference_recommender_job[\"Status\"] in [\"COMPLETED\", \"STOPPED\", \"FAILED\"]:\n",
    "        ended = True\n",
    "    else:\n",
    "        print(\"Inference recommender job in progress\")\n",
    "        time.sleep(300)\n",
    "\n",
    "if inference_recommender_job[\"Status\"] == \"FAILED\":\n",
    "    print(\"Inference recommender job failed \")\n",
    "    print(\"Failed Reason: {}\".format(inference_recommender_job[\"FailedReason\"]))\n",
    "else:\n",
    "    print(\"Inference recommender job completed\")"
   ]
  },
  {
   "cell_type": "markdown",
   "metadata": {},
   "source": [
    "### Detailing out the result"
   ]
  },
  {
   "cell_type": "code",
   "execution_count": 30,
   "metadata": {},
   "outputs": [],
   "source": [
    "data = [\n",
    "    {**x[\"EndpointConfiguration\"], **x[\"ModelConfiguration\"], **x[\"Metrics\"]}\n",
    "    for x in inference_recommender_job[\"InferenceRecommendations\"]\n",
    "]\n",
    "df = pd.DataFrame(data)\n",
    "df.drop(\"VariantName\", inplace=True, axis=1)\n",
    "pd.set_option(\"max_colwidth\", 400)"
   ]
  },
  {
   "cell_type": "markdown",
   "metadata": {},
   "source": [
    "By `MaxInvocations` - The maximum number of requests per minute expected for the endpoint."
   ]
  },
  {
   "cell_type": "code",
   "execution_count": 31,
   "metadata": {},
   "outputs": [
    {
     "data": {
      "text/html": [
       "<div>\n",
       "<style scoped>\n",
       "    .dataframe tbody tr th:only-of-type {\n",
       "        vertical-align: middle;\n",
       "    }\n",
       "\n",
       "    .dataframe tbody tr th {\n",
       "        vertical-align: top;\n",
       "    }\n",
       "\n",
       "    .dataframe thead th {\n",
       "        text-align: right;\n",
       "    }\n",
       "</style>\n",
       "<table border=\"1\" class=\"dataframe\">\n",
       "  <thead>\n",
       "    <tr style=\"text-align: right;\">\n",
       "      <th></th>\n",
       "      <th>EndpointName</th>\n",
       "      <th>InstanceType</th>\n",
       "      <th>InitialInstanceCount</th>\n",
       "      <th>EnvironmentParameters</th>\n",
       "      <th>CostPerHour</th>\n",
       "      <th>CostPerInference</th>\n",
       "      <th>MaxInvocations</th>\n",
       "      <th>ModelLatency</th>\n",
       "    </tr>\n",
       "  </thead>\n",
       "  <tbody>\n",
       "    <tr>\n",
       "      <th>2</th>\n",
       "      <td>sm-epc-d95508cc-794c-482c-bc1a-03078559c8b3</td>\n",
       "      <td>ml.p2.16xlarge</td>\n",
       "      <td>1</td>\n",
       "      <td>[]</td>\n",
       "      <td>16.559999</td>\n",
       "      <td>0.000008</td>\n",
       "      <td>33403</td>\n",
       "      <td>25</td>\n",
       "    </tr>\n",
       "    <tr>\n",
       "      <th>0</th>\n",
       "      <td>sm-epc-9c4282ab-8928-4740-94e1-dff3c32ea1ce</td>\n",
       "      <td>ml.g4dn.xlarge</td>\n",
       "      <td>1</td>\n",
       "      <td>[]</td>\n",
       "      <td>0.736000</td>\n",
       "      <td>0.000003</td>\n",
       "      <td>4822</td>\n",
       "      <td>75</td>\n",
       "    </tr>\n",
       "    <tr>\n",
       "      <th>1</th>\n",
       "      <td>sm-epc-6a316092-2388-474c-9f73-d20efa2c659c</td>\n",
       "      <td>ml.p3.2xlarge</td>\n",
       "      <td>1</td>\n",
       "      <td>[]</td>\n",
       "      <td>3.825000</td>\n",
       "      <td>0.000021</td>\n",
       "      <td>3026</td>\n",
       "      <td>129</td>\n",
       "    </tr>\n",
       "  </tbody>\n",
       "</table>\n",
       "</div>"
      ],
      "text/plain": [
       "                                  EndpointName    InstanceType  \\\n",
       "2  sm-epc-d95508cc-794c-482c-bc1a-03078559c8b3  ml.p2.16xlarge   \n",
       "0  sm-epc-9c4282ab-8928-4740-94e1-dff3c32ea1ce  ml.g4dn.xlarge   \n",
       "1  sm-epc-6a316092-2388-474c-9f73-d20efa2c659c   ml.p3.2xlarge   \n",
       "\n",
       "   InitialInstanceCount EnvironmentParameters  CostPerHour  CostPerInference  \\\n",
       "2                     1                    []    16.559999          0.000008   \n",
       "0                     1                    []     0.736000          0.000003   \n",
       "1                     1                    []     3.825000          0.000021   \n",
       "\n",
       "   MaxInvocations  ModelLatency  \n",
       "2           33403            25  \n",
       "0            4822            75  \n",
       "1            3026           129  "
      ]
     },
     "execution_count": 31,
     "metadata": {},
     "output_type": "execute_result"
    }
   ],
   "source": [
    "df.sort_values(by=[\"MaxInvocations\"], ascending=False)"
   ]
  },
  {
   "cell_type": "markdown",
   "metadata": {},
   "source": [
    "By `ModelLatencyThresholds` - The interval of time taken by a model to respond as viewed from SageMaker. The interval includes the local communication time taken to send the request and to fetch the response from the container of a model and the time taken to complete the inference in the container."
   ]
  },
  {
   "cell_type": "code",
   "execution_count": 32,
   "metadata": {},
   "outputs": [
    {
     "data": {
      "text/html": [
       "<div>\n",
       "<style scoped>\n",
       "    .dataframe tbody tr th:only-of-type {\n",
       "        vertical-align: middle;\n",
       "    }\n",
       "\n",
       "    .dataframe tbody tr th {\n",
       "        vertical-align: top;\n",
       "    }\n",
       "\n",
       "    .dataframe thead th {\n",
       "        text-align: right;\n",
       "    }\n",
       "</style>\n",
       "<table border=\"1\" class=\"dataframe\">\n",
       "  <thead>\n",
       "    <tr style=\"text-align: right;\">\n",
       "      <th></th>\n",
       "      <th>EndpointName</th>\n",
       "      <th>InstanceType</th>\n",
       "      <th>InitialInstanceCount</th>\n",
       "      <th>EnvironmentParameters</th>\n",
       "      <th>CostPerHour</th>\n",
       "      <th>CostPerInference</th>\n",
       "      <th>MaxInvocations</th>\n",
       "      <th>ModelLatency</th>\n",
       "    </tr>\n",
       "  </thead>\n",
       "  <tbody>\n",
       "    <tr>\n",
       "      <th>2</th>\n",
       "      <td>sm-epc-d95508cc-794c-482c-bc1a-03078559c8b3</td>\n",
       "      <td>ml.p2.16xlarge</td>\n",
       "      <td>1</td>\n",
       "      <td>[]</td>\n",
       "      <td>16.559999</td>\n",
       "      <td>0.000008</td>\n",
       "      <td>33403</td>\n",
       "      <td>25</td>\n",
       "    </tr>\n",
       "    <tr>\n",
       "      <th>0</th>\n",
       "      <td>sm-epc-9c4282ab-8928-4740-94e1-dff3c32ea1ce</td>\n",
       "      <td>ml.g4dn.xlarge</td>\n",
       "      <td>1</td>\n",
       "      <td>[]</td>\n",
       "      <td>0.736000</td>\n",
       "      <td>0.000003</td>\n",
       "      <td>4822</td>\n",
       "      <td>75</td>\n",
       "    </tr>\n",
       "    <tr>\n",
       "      <th>1</th>\n",
       "      <td>sm-epc-6a316092-2388-474c-9f73-d20efa2c659c</td>\n",
       "      <td>ml.p3.2xlarge</td>\n",
       "      <td>1</td>\n",
       "      <td>[]</td>\n",
       "      <td>3.825000</td>\n",
       "      <td>0.000021</td>\n",
       "      <td>3026</td>\n",
       "      <td>129</td>\n",
       "    </tr>\n",
       "  </tbody>\n",
       "</table>\n",
       "</div>"
      ],
      "text/plain": [
       "                                  EndpointName    InstanceType  \\\n",
       "2  sm-epc-d95508cc-794c-482c-bc1a-03078559c8b3  ml.p2.16xlarge   \n",
       "0  sm-epc-9c4282ab-8928-4740-94e1-dff3c32ea1ce  ml.g4dn.xlarge   \n",
       "1  sm-epc-6a316092-2388-474c-9f73-d20efa2c659c   ml.p3.2xlarge   \n",
       "\n",
       "   InitialInstanceCount EnvironmentParameters  CostPerHour  CostPerInference  \\\n",
       "2                     1                    []    16.559999          0.000008   \n",
       "0                     1                    []     0.736000          0.000003   \n",
       "1                     1                    []     3.825000          0.000021   \n",
       "\n",
       "   MaxInvocations  ModelLatency  \n",
       "2           33403            25  \n",
       "0            4822            75  \n",
       "1            3026           129  "
      ]
     },
     "execution_count": 32,
     "metadata": {},
     "output_type": "execute_result"
    }
   ],
   "source": [
    "df.sort_values(by=[\"ModelLatency\"])"
   ]
  },
  {
   "cell_type": "markdown",
   "metadata": {},
   "source": [
    "#### Visualization\n",
    "\n",
    "Let's plot the results to visualize the trade-off in terms cost of inference and maximum invocations for different GPU based instance types"
   ]
  },
  {
   "cell_type": "code",
   "execution_count": 33,
   "metadata": {},
   "outputs": [
    {
     "data": {
      "text/plain": [
       "<AxesSubplot:xlabel='InstanceType', ylabel='CostPerHour'>"
      ]
     },
     "execution_count": 33,
     "metadata": {},
     "output_type": "execute_result"
    },
    {
     "data": {
      "image/png": "[encoded data removed]",
      "text/plain": [
       "<Figure size 1200x600 with 2 Axes>"
      ]
     },
     "metadata": {},
     "output_type": "display_data"
    }
   ],
   "source": [
    "matplotlib.rc_file_defaults()\n",
    "ax1 = sns.set_style(style=None, rc=None )\n",
    "\n",
    "fig, ax1 = plt.subplots(figsize=(12,6))\n",
    "\n",
    "ax2 = ax1.twinx()\n",
    "\n",
    "sns.barplot(data = df, x='InstanceType', y='MaxInvocations', ax=ax1)\n",
    "sns.lineplot( x='InstanceType', y='CostPerHour',data= df, ax=ax2)"
   ]
  },
  {
   "cell_type": "markdown",
   "metadata": {},
   "source": [
    "## 7. Custom Load Test\n",
    "\n",
    "With an 'Advanced' job, you can provide your production requirements, select instance types, tune environment variables and perform more extensive load tests. This typically takes 2 hours depending on your traffic pattern and number of instance types. \n",
    "\n",
    "The output is a list of endpoint configuration recommendations (instance type, instance count, environment variables) with associated cost, throughput and latency metrics.\n",
    "\n",
    "In the below example, we aim to limit the latency requirement to 50 ms. The goal is to find the best performance in the sense of the maximum number of requests per minute expected for the endpoint for a `ml.m5.2xlarge` instance.\n",
    "We specify `DurationInSeconds`, how long traffic phase should be, to be 120, and the maximum duration of the job, in seconds `JobDurationInSeconds` to 7200."
   ]
  },
  {
   "cell_type": "code",
   "execution_count": 22,
   "metadata": {},
   "outputs": [
    {
     "name": "stdout",
     "output_type": "stream",
     "text": [
      "{'JobArn': 'arn:aws:sagemaker:us-east-1:917092859813:inference-recommendations-job/nlp-advanced-inference-recommender-job-01-03-20-55', 'ResponseMetadata': {'RequestId': '2a75020d-3d62-486d-9301-da30f5299598', 'HTTPStatusCode': 200, 'HTTPHeaders': {'x-amzn-requestid': '2a75020d-3d62-486d-9301-da30f5299598', 'content-type': 'application/x-amz-json-1.1', 'content-length': '134', 'date': 'Tue, 04 Jan 2022 00:54:10 GMT'}, 'RetryAttempts': 0}}\n"
     ]
    }
   ],
   "source": [
    "advanced_response = client.create_inference_recommendations_job(\n",
    "    JobName=advanced_job,\n",
    "    JobDescription=\"NLP bert Inference Advanced Recommender Job\",\n",
    "    JobType=\"Advanced\",\n",
    "    RoleArn=role,\n",
    "    InputConfig={\n",
    "        \"ModelPackageVersionArn\": model_package_arn,\n",
    "        \"JobDurationInSeconds\": 7200,\n",
    "        \"EndpointConfigurations\": [{'InstanceType': 'ml.p3.8xlarge'},\n",
    "                                {'InstanceType': 'ml.p3.2xlarge'},\n",
    "                                {'InstanceType': 'ml.p3.16xlarge'},\n",
    "                                {'InstanceType': 'ml.p2.16xlarge'},\n",
    "                                {'InstanceType': 'ml.g4dn.xlarge'},\n",
    "                                {'InstanceType': 'ml.g4dn.8xlarge'},\n",
    "                                {'InstanceType': 'ml.g4dn.4xlarge'},\n",
    "                                {'InstanceType': 'ml.g4dn.2xlarge'},\n",
    "                                {'InstanceType': 'ml.g4dn.16xlarge'},\n",
    "                                {'InstanceType': 'ml.g4dn.12xlarge'}],\n",
    "        \"TrafficPattern\": {\n",
    "            \"TrafficType\": \"PHASES\",\n",
    "            \"Phases\": [{\"InitialNumberOfUsers\": 1, \"SpawnRate\": 3, \"DurationInSeconds\": 120}],\n",
    "        },\n",
    "        \"ResourceLimit\": {\n",
    "            \"MaxNumberOfTests\": 10,\n",
    "            \"MaxParallelOfTests\": 2\n",
    "        },\n",
    "    },\n",
    "    StoppingConditions={\n",
    "        \"MaxInvocations\": 60,\n",
    "        \"ModelLatencyThresholds\": [{\"Percentile\": \"P95\", \"ValueInMilliseconds\": 20}],\n",
    "    },\n",
    ")\n",
    "\n",
    "print(advanced_response)"
   ]
  },
  {
   "cell_type": "markdown",
   "metadata": {},
   "source": [
    "### 8. Custom Load Test Results\n",
    "\n",
    "Inference recommender runs benchmarks on both of the endpoint configurations. Below is the result.\n",
    "\n",
    "Running the Inference recommender job will take ~15 minutes.\n"
   ]
  },
  {
   "cell_type": "code",
   "execution_count": 23,
   "metadata": {},
   "outputs": [
    {
     "name": "stdout",
     "output_type": "stream",
     "text": [
      "Inference recommender job in progress\n",
      "Inference recommender job in progress\n",
      "Inference recommender job in progress\n",
      "Inference recommender job in progress\n",
      "Inference recommender job in progress\n",
      "Inference recommender job in progress\n",
      "Inference recommender job in progress\n",
      "Inference recommender job in progress\n",
      "Inference recommender job in progress\n",
      "Inference recommender job in progress\n",
      "Inference recommender job in progress\n",
      "Inference recommender job in progress\n",
      "Inference recommender job in progress\n",
      "Inference recommender job in progress\n",
      "Inference recommender job in progress\n",
      "Inference recommender job completed\n",
      "CPU times: user 302 ms, sys: 57.9 ms, total: 360 ms\n",
      "Wall time: 1h 15min 4s\n"
     ]
    }
   ],
   "source": [
    "%%time\n",
    "\n",
    "ended = False\n",
    "while not ended:\n",
    "    inference_recommender_job = client.describe_inference_recommendations_job(\n",
    "        JobName=str(advanced_job)\n",
    "    )\n",
    "    if inference_recommender_job[\"Status\"] in [\"COMPLETED\", \"STOPPED\", \"FAILED\"]:\n",
    "        ended = True\n",
    "    else:\n",
    "        print(\"Inference recommender job in progress\")\n",
    "        time.sleep(300)\n",
    "\n",
    "if inference_recommender_job[\"Status\"] == \"FAILED\":\n",
    "    print(\"Inference recommender job failed \")\n",
    "    print(\"Failed Reason: {}\".inference_recommender_job[\"FailedReason\"])\n",
    "else:\n",
    "    print(\"Inference recommender job completed\")"
   ]
  },
  {
   "cell_type": "markdown",
   "metadata": {},
   "source": [
    "### Detailing out the result\n",
    "\n",
    "Analyzing load test result, we can see that to achieve 50 ms latency, we will need two `ml.m5.2xlarge` instances, with `MaxInvocations` (The maximum number of requests per minute expected for the endpoint) of ~736."
   ]
  },
  {
   "cell_type": "code",
   "execution_count": 24,
   "metadata": {},
   "outputs": [
    {
     "data": {
      "text/html": [
       "<div>\n",
       "<style scoped>\n",
       "    .dataframe tbody tr th:only-of-type {\n",
       "        vertical-align: middle;\n",
       "    }\n",
       "\n",
       "    .dataframe tbody tr th {\n",
       "        vertical-align: top;\n",
       "    }\n",
       "\n",
       "    .dataframe thead th {\n",
       "        text-align: right;\n",
       "    }\n",
       "</style>\n",
       "<table border=\"1\" class=\"dataframe\">\n",
       "  <thead>\n",
       "    <tr style=\"text-align: right;\">\n",
       "      <th></th>\n",
       "      <th>EndpointName</th>\n",
       "      <th>InstanceType</th>\n",
       "      <th>InitialInstanceCount</th>\n",
       "      <th>EnvironmentParameters</th>\n",
       "      <th>CostPerHour</th>\n",
       "      <th>CostPerInference</th>\n",
       "      <th>MaxInvocations</th>\n",
       "      <th>ModelLatency</th>\n",
       "    </tr>\n",
       "  </thead>\n",
       "  <tbody>\n",
       "    <tr>\n",
       "      <th>0</th>\n",
       "      <td>sm-epc-3ea0cba0-027e-4d81-9d1e-3f0bee142892</td>\n",
       "      <td>ml.g4dn.12xlarge</td>\n",
       "      <td>1</td>\n",
       "      <td>[]</td>\n",
       "      <td>4.890</td>\n",
       "      <td>0.000047</td>\n",
       "      <td>1733</td>\n",
       "      <td>14</td>\n",
       "    </tr>\n",
       "    <tr>\n",
       "      <th>1</th>\n",
       "      <td>sm-epc-4fa41173-0e16-45b5-b3fc-246de065b52a</td>\n",
       "      <td>ml.g4dn.8xlarge</td>\n",
       "      <td>1</td>\n",
       "      <td>[]</td>\n",
       "      <td>2.720</td>\n",
       "      <td>0.000027</td>\n",
       "      <td>1701</td>\n",
       "      <td>18</td>\n",
       "    </tr>\n",
       "    <tr>\n",
       "      <th>2</th>\n",
       "      <td>sm-epc-3b263d89-5a2a-4bc1-94c7-3b6808afd94f</td>\n",
       "      <td>ml.g4dn.4xlarge</td>\n",
       "      <td>1</td>\n",
       "      <td>[]</td>\n",
       "      <td>1.505</td>\n",
       "      <td>0.000014</td>\n",
       "      <td>1804</td>\n",
       "      <td>18</td>\n",
       "    </tr>\n",
       "    <tr>\n",
       "      <th>3</th>\n",
       "      <td>sm-epc-f712c9fe-200e-46b0-8acc-a06e8b170c58</td>\n",
       "      <td>ml.g4dn.2xlarge</td>\n",
       "      <td>1</td>\n",
       "      <td>[]</td>\n",
       "      <td>0.940</td>\n",
       "      <td>0.000010</td>\n",
       "      <td>1631</td>\n",
       "      <td>15</td>\n",
       "    </tr>\n",
       "    <tr>\n",
       "      <th>4</th>\n",
       "      <td>sm-epc-a4ea9afb-cc71-442f-a9ff-f4abc16c8d1f</td>\n",
       "      <td>ml.g4dn.xlarge</td>\n",
       "      <td>1</td>\n",
       "      <td>[]</td>\n",
       "      <td>0.736</td>\n",
       "      <td>0.000011</td>\n",
       "      <td>1168</td>\n",
       "      <td>20</td>\n",
       "    </tr>\n",
       "  </tbody>\n",
       "</table>\n",
       "</div>"
      ],
      "text/plain": [
       "                                  EndpointName      InstanceType  \\\n",
       "0  sm-epc-3ea0cba0-027e-4d81-9d1e-3f0bee142892  ml.g4dn.12xlarge   \n",
       "1  sm-epc-4fa41173-0e16-45b5-b3fc-246de065b52a   ml.g4dn.8xlarge   \n",
       "2  sm-epc-3b263d89-5a2a-4bc1-94c7-3b6808afd94f   ml.g4dn.4xlarge   \n",
       "3  sm-epc-f712c9fe-200e-46b0-8acc-a06e8b170c58   ml.g4dn.2xlarge   \n",
       "4  sm-epc-a4ea9afb-cc71-442f-a9ff-f4abc16c8d1f    ml.g4dn.xlarge   \n",
       "\n",
       "   InitialInstanceCount EnvironmentParameters  CostPerHour  CostPerInference  \\\n",
       "0                     1                    []        4.890          0.000047   \n",
       "1                     1                    []        2.720          0.000027   \n",
       "2                     1                    []        1.505          0.000014   \n",
       "3                     1                    []        0.940          0.000010   \n",
       "4                     1                    []        0.736          0.000011   \n",
       "\n",
       "   MaxInvocations  ModelLatency  \n",
       "0            1733            14  \n",
       "1            1701            18  \n",
       "2            1804            18  \n",
       "3            1631            15  \n",
       "4            1168            20  "
      ]
     },
     "execution_count": 24,
     "metadata": {},
     "output_type": "execute_result"
    }
   ],
   "source": [
    "data = [\n",
    "    {**x[\"EndpointConfiguration\"], **x[\"ModelConfiguration\"], **x[\"Metrics\"]}\n",
    "    for x in inference_recommender_job[\"InferenceRecommendations\"]\n",
    "]\n",
    "df = pd.DataFrame(data)\n",
    "df.drop(\"VariantName\", inplace=True, axis=1)\n",
    "pd.set_option(\"max_colwidth\", 400)\n",
    "df.head()"
   ]
  },
  {
   "cell_type": "code",
   "execution_count": 25,
   "metadata": {},
   "outputs": [
    {
     "data": {
      "text/plain": [
       "<matplotlib.axes._subplots.AxesSubplot at 0x7fb15d5a3d90>"
      ]
     },
     "execution_count": 25,
     "metadata": {},
     "output_type": "execute_result"
    },
    {
     "data": {
      "image/png": "[encoded data removed]",
      "text/plain": [
       "<Figure size 1200x600 with 2 Axes>"
      ]
     },
     "metadata": {},
     "output_type": "display_data"
    }
   ],
   "source": [
    "matplotlib.rc_file_defaults()\n",
    "ax1 = sns.set_style(style=None, rc=None )\n",
    "\n",
    "fig, ax1 = plt.subplots(figsize=(12,6))\n",
    "\n",
    "#sns.lineplot(data = df['max_invocations'], marker='o', sort = False, ax=ax1)\n",
    "ax2 = ax1.twinx()\n",
    "\n",
    "sns.barplot(data = df, x='InstanceType', y='MaxInvocations', ax=ax1)\n",
    "sns.lineplot( x='InstanceType', y='CostPerHour',data= df, ax=ax2)"
   ]
  }
 ],
 "metadata": {
  "instance_type": "ml.t3.medium",
  "kernelspec": {
   "display_name": "Python 3 (Data Science)",
   "language": "python",
   "name": "python3__SAGEMAKER_INTERNAL__arn:aws:sagemaker:us-west-2:236514542706:image/datascience-1.0"
  },
  "language_info": {
   "codemirror_mode": {
    "name": "ipython",
    "version": 3
   },
   "file_extension": ".py",
   "mimetype": "text/x-python",
   "name": "python",
   "nbconvert_exporter": "python",
   "pygments_lexer": "ipython3",
   "version": "3.7.10"
  }
 },
 "nbformat": 4,
 "nbformat_minor": 4
}
