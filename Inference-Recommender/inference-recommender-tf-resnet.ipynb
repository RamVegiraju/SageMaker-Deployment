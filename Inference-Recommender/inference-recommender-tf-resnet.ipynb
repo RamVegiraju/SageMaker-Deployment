{
 "cells": [
  {
   "cell_type": "markdown",
   "id": "0a13b63e-0a87-4ff3-afe3-129335faf8f4",
   "metadata": {},
   "source": [
    "## Inference Recommender Pre-Trained TensorFlow ResNet50"
   ]
  },
  {
   "cell_type": "markdown",
   "id": "79e5fedd-ed96-4476-81fc-0ab3e22e1b81",
   "metadata": {},
   "source": [
    "### Local Inference Test"
   ]
  },
  {
   "cell_type": "code",
   "execution_count": null,
   "id": "fe205872-b2fa-4b0b-b721-7569f7a48e62",
   "metadata": {
    "tags": []
   },
   "outputs": [],
   "source": [
    "import os\n",
    "import tensorflow as tf\n",
    "from tensorflow.keras.applications import resnet50\n",
    "from tensorflow.keras import backend\n",
    "import numpy as np\n",
    "from tensorflow.keras.preprocessing import image"
   ]
  },
  {
   "cell_type": "code",
   "execution_count": null,
   "id": "ab8d2ada-df88-4131-9de6-c90c72e17252",
   "metadata": {
    "tags": []
   },
   "outputs": [],
   "source": [
    "#model = tf.keras.applications.ResNet50()\n",
    "tf.keras.backend.set_learning_phase(0)\n",
    "model = resnet50.ResNet50()\n",
    "\n",
    "# Load the image file, resizing it to 224x224 pixels (required by this model)\n",
    "img = image.load_img(\"dog.jpg\", target_size=(224, 224))\n",
    "# Convert the image to a numpy array\n",
    "x = image.img_to_array(img)\n",
    "# Add a forth dimension since Keras expects a list of images\n",
    "x = np.expand_dims(x, axis=0)\n",
    "\n",
    "# Scale the input image to the range used in the trained network\n",
    "x = resnet50.preprocess_input(x)\n",
    "\n",
    "print(\"predicting model\")\n",
    "predictions = model.predict(x)\n",
    "predicted_classes = resnet50.decode_predictions(predictions, top=9)\n",
    "print(predicted_classes)"
   ]
  },
  {
   "cell_type": "markdown",
   "id": "1f1e0264-62ab-4566-a3bb-ba2e18e8d58a",
   "metadata": {},
   "source": [
    "### Create Model and Payload Tarball"
   ]
  },
  {
   "cell_type": "code",
   "execution_count": null,
   "id": "354e2ea4-3825-44e1-8fce-debbe866a6fc",
   "metadata": {
    "tags": []
   },
   "outputs": [],
   "source": [
    "export_dir = \"00001\"\n",
    "tf.keras.backend.set_learning_phase(0)\n",
    "model = tf.keras.applications.ResNet50()\n",
    "\n",
    "if not os.path.exists(export_dir):\n",
    "    os.makedirs(export_dir)\n",
    "    print(\"Directory \", export_dir, \" Created \")\n",
    "else:\n",
    "    print(\"Directory \", export_dir, \" already exists\")\n",
    "# Save to SavedModel\n",
    "model.save(export_dir, save_format=\"tf\", include_optimizer=False)"
   ]
  },
  {
   "cell_type": "code",
   "execution_count": null,
   "id": "6814f683-38af-4e44-8ee7-a19a74b5980e",
   "metadata": {
    "tags": []
   },
   "outputs": [],
   "source": [
    "!tar -cvpzf model.tar.gz ./00001"
   ]
  },
  {
   "cell_type": "code",
   "execution_count": null,
   "id": "7849727b-c2b6-4e54-a64f-40b94db73275",
   "metadata": {
    "tags": []
   },
   "outputs": [],
   "source": [
    "import json\n",
    "\n",
    "payload = json.dumps(x.tolist())"
   ]
  },
  {
   "cell_type": "code",
   "execution_count": null,
   "id": "bdf17056-a659-4bc8-b844-e5f4b045656d",
   "metadata": {
    "tags": []
   },
   "outputs": [],
   "source": [
    "with open(\"payload.json\", \"w\") as outfile:\n",
    "    outfile.write(payload)"
   ]
  },
  {
   "cell_type": "code",
   "execution_count": null,
   "id": "20c12c60-c765-4fda-92f0-5844db4ee477",
   "metadata": {
    "tags": []
   },
   "outputs": [],
   "source": [
    "payload_archive_name = \"payload.tar.gz\""
   ]
  },
  {
   "cell_type": "code",
   "execution_count": null,
   "id": "e6bb62a1-bd39-481b-ad34-0f3b8d0a7595",
   "metadata": {
    "tags": []
   },
   "outputs": [],
   "source": [
    "!tar -cvzf {payload_archive_name} payload.json"
   ]
  },
  {
   "cell_type": "markdown",
   "id": "b4f6b0b7-2e68-47fa-8d1a-f59ab42d0e4b",
   "metadata": {},
   "source": [
    "### Upload Tarballs to S3"
   ]
  },
  {
   "cell_type": "code",
   "execution_count": null,
   "id": "3ce05284-3389-4243-9305-5d7bc18cd09c",
   "metadata": {
    "tags": []
   },
   "outputs": [],
   "source": [
    "from sagemaker import get_execution_role, Session, image_uris\n",
    "import boto3\n",
    "import time\n",
    "\n",
    "region = boto3.Session().region_name\n",
    "role = get_execution_role()\n",
    "sm_client = boto3.client(\"sagemaker\", region_name=region)\n",
    "sagemaker_session = Session()\n",
    "print(region)"
   ]
  },
  {
   "cell_type": "code",
   "execution_count": null,
   "id": "d1b179d1-fa42-4ca2-8d33-b027511bbcde",
   "metadata": {
    "tags": []
   },
   "outputs": [],
   "source": [
    "sample_payload_url = sagemaker_session.upload_data(\n",
    "    path=payload_archive_name, key_prefix=\"resnet-payload\"\n",
    ")"
   ]
  },
  {
   "cell_type": "code",
   "execution_count": null,
   "id": "1f405b67-10ba-4136-8050-9a88b21f5e33",
   "metadata": {
    "tags": []
   },
   "outputs": [],
   "source": [
    "model_url = sagemaker_session.upload_data(\n",
    "    path=\"model.tar.gz\", key_prefix=\"resnet-model-data\"\n",
    ")"
   ]
  },
  {
   "cell_type": "code",
   "execution_count": null,
   "id": "7be11655-0f4e-4ff4-999c-7dc527435577",
   "metadata": {
    "tags": []
   },
   "outputs": [],
   "source": [
    "print(\"Your model artifacts are stored at: {}\".format(model_url))\n",
    "print(\"Your sample payload is stored at: {}\".format(sample_payload_url))"
   ]
  },
  {
   "cell_type": "markdown",
   "id": "cce97717-e2ef-4e35-b530-aa08030b0ad3",
   "metadata": {},
   "source": [
    "### Model Registry"
   ]
  },
  {
   "cell_type": "code",
   "execution_count": null,
   "id": "015d7972-8026-45c7-bb9b-c35b87bcb10f",
   "metadata": {
    "tags": []
   },
   "outputs": [],
   "source": [
    "model_package_group_name = \"tf-resnet\" + str(round(time.time()))"
   ]
  },
  {
   "cell_type": "code",
   "execution_count": null,
   "id": "61260bf1-6c47-4aae-b205-c893c600a84c",
   "metadata": {
    "tags": []
   },
   "outputs": [],
   "source": [
    "import sagemaker\n",
    "from sagemaker.model import Model\n",
    "from sagemaker import image_uris\n",
    "\n",
    "model = Model(\n",
    "    model_data=model_url,\n",
    "    role=role,\n",
    "    image_uri = sagemaker.image_uris.retrieve(framework=\"tensorflow\", region=region, version=\"2.1\", py_version=\"py3\", \n",
    "                                              image_scope='inference', instance_type=\"ml.m5.xlarge\"),\n",
    "    sagemaker_session=sagemaker_session\n",
    "    )"
   ]
  },
  {
   "cell_type": "code",
   "execution_count": null,
   "id": "19287b11-0b15-41b6-83fa-88a4925e5143",
   "metadata": {
    "tags": []
   },
   "outputs": [],
   "source": [
    "model_package = model.register(\n",
    "    content_types=[\"application/json\"],\n",
    "    response_types=[\"application/json\"],\n",
    "    model_package_group_name=model_package_group_name,\n",
    "    image_uri=model.image_uri,\n",
    "    approval_status=\"Approved\",\n",
    "    framework=\"TENSORFLOW\"\n",
    ")"
   ]
  },
  {
   "cell_type": "markdown",
   "id": "a94a56a9-9cc0-4e60-907d-448e245ee89a",
   "metadata": {},
   "source": [
    "### Kick off Inference Recommender Job"
   ]
  },
  {
   "cell_type": "code",
   "execution_count": null,
   "id": "dcafb704-657a-46fb-8af4-067180e5f03b",
   "metadata": {
    "tags": []
   },
   "outputs": [],
   "source": [
    "model_package.right_size(\n",
    "    sample_payload_url=sample_payload_url,\n",
    "    supported_content_types=[\"application/json\"],\n",
    "    supported_instance_types=[\"ml.c5.xlarge\", \"ml.c5.9xlarge\", \"ml.c5.18xlarge\", \"ml.m5d.24xlarge\"],\n",
    "    framework=\"TENSORFLOW\",\n",
    ")"
   ]
  },
  {
   "cell_type": "markdown",
   "id": "54bc1c0a-91fe-4f20-aadf-d05fbc9b729b",
   "metadata": {},
   "source": [
    "### Advanced IR Job"
   ]
  },
  {
   "cell_type": "code",
   "execution_count": null,
   "id": "7f65df3e-f35c-4ad2-8240-2471302b02e5",
   "metadata": {},
   "outputs": [],
   "source": [
    "from sagemaker.parameter import CategoricalParameter \n",
    "from sagemaker.inference_recommender.inference_recommender_mixin import (  \n",
    "    Phase,  \n",
    "    ModelLatencyThreshold \n",
    ") \n",
    "\n",
    "hyperparameter_ranges = [ \n",
    "    { \n",
    "        \"instance_types\": CategoricalParameter([\"ml.c5.9xlarge\", \"ml.c5.18xlarge\", \"ml.g4dn.xlarge\"]), \n",
    "        'OMP_NUM_THREADS': CategoricalParameter(['1', '2', '3']), \n",
    "    } \n",
    "] \n",
    "\n",
    "phases = [ \n",
    "    Phase(duration_in_seconds=120, initial_number_of_users=2, spawn_rate=2), \n",
    "    Phase(duration_in_seconds=120, initial_number_of_users=4, spawn_rate=2),\n",
    "    Phase(duration_in_seconds=120, initial_number_of_users=8, spawn_rate=2)\n",
    "] \n",
    "\n",
    "model_latency_thresholds = [ \n",
    "    ModelLatencyThreshold(percentile=\"P95\", value_in_milliseconds=300) \n",
    "]"
   ]
  },
  {
   "cell_type": "code",
   "execution_count": null,
   "id": "3e93d457-7bcb-4355-88c8-623e7dd6c6cb",
   "metadata": {
    "tags": []
   },
   "outputs": [],
   "source": [
    "model_package.right_size( \n",
    "    sample_payload_url=sample_payload_url, \n",
    "    supported_content_types=[\"application/json\"], \n",
    "    framework=\"TENSORFLOW\", \n",
    "    job_duration_in_seconds=3600, \n",
    "    hyperparameter_ranges=hyperparameter_ranges, \n",
    "    phases=phases, # TrafficPattern \n",
    "    max_invocations=100, # StoppingConditions \n",
    "    model_latency_thresholds=model_latency_thresholds\n",
    ")"
   ]
  },
  {
   "attachments": {},
   "cell_type": "markdown",
   "id": "98ddb97f",
   "metadata": {},
   "source": [
    "### Analyze Results"
   ]
  },
  {
   "cell_type": "code",
   "execution_count": null,
   "id": "6d8cf708",
   "metadata": {},
   "outputs": [],
   "source": [
    "import boto3\n",
    "sm_client = boto3.client(service_name='sagemaker')\n",
    "\n",
    "# Enter default or advanced job name here, this value is emitted at the top of the right size API call\n",
    "job_name = 'Enter your job name here'\n",
    "inference_recommendation_res = sm_client.describe_inference_recommendations_job(JobName=job_name)\n",
    "\n",
    "\n",
    "data = [\n",
    "    {**x[\"EndpointConfiguration\"], **x[\"ModelConfiguration\"], **x[\"Metrics\"]}\n",
    "    for x in inference_recommendation_res['InferenceRecommendations']\n",
    "]"
   ]
  },
  {
   "cell_type": "code",
   "execution_count": null,
   "id": "4b2446f4",
   "metadata": {},
   "outputs": [],
   "source": [
    "import pandas as pd\n",
    "df = pd.DataFrame(data)\n",
    "dropFilter = df.filter([\"VariantName\"])\n",
    "df.drop(dropFilter, inplace=True, axis=1)\n",
    "pd.set_option(\"max_colwidth\", 400)\n",
    "df.head()"
   ]
  }
 ],
 "metadata": {
  "kernelspec": {
   "display_name": "conda_tensorflow2_p310",
   "language": "python",
   "name": "conda_tensorflow2_p310"
  },
  "language_info": {
   "codemirror_mode": {
    "name": "ipython",
    "version": 3
   },
   "file_extension": ".py",
   "mimetype": "text/x-python",
   "name": "python",
   "nbconvert_exporter": "python",
   "pygments_lexer": "ipython3",
   "version": "3.10.8"
  }
 },
 "nbformat": 4,
 "nbformat_minor": 5
}
