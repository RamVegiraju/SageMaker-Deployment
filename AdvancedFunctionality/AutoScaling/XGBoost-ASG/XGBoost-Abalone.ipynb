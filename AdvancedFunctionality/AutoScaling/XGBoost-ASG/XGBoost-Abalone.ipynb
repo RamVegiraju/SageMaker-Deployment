{
 "cells": [
  {
   "cell_type": "markdown",
   "id": "0292d255",
   "metadata": {},
   "source": [
    "# XGBoost AutoScaling Example"
   ]
  },
  {
   "cell_type": "code",
   "execution_count": 1,
   "id": "a6bac6ad",
   "metadata": {},
   "outputs": [],
   "source": [
    "import boto3\n",
    "import sagemaker\n",
    "from sagemaker.estimator import Estimator\n",
    "\n",
    "boto_session = boto3.session.Session()\n",
    "region = boto_session.region_name\n",
    "\n",
    "sagemaker_session = sagemaker.Session()\n",
    "base_job_prefix = 'xgboost-example'\n",
    "role = sagemaker.get_execution_role()\n",
    "\n",
    "default_bucket = sagemaker_session.default_bucket()\n",
    "s3_prefix = base_job_prefix\n",
    "\n",
    "training_instance_type = 'ml.m5.xlarge'"
   ]
  },
  {
   "cell_type": "markdown",
   "id": "67bd6837",
   "metadata": {},
   "source": [
    "## Download Data and Prepare Training Input in S3"
   ]
  },
  {
   "cell_type": "code",
   "execution_count": 2,
   "id": "b808c1cd",
   "metadata": {},
   "outputs": [
    {
     "name": "stdout",
     "output_type": "stream",
     "text": [
      "download: s3://sagemaker-sample-files/datasets/tabular/uci_abalone/train_csv/abalone_dataset1_train.csv to ./abalone_dataset1_train.csv\n"
     ]
    }
   ],
   "source": [
    "!aws s3 cp s3://sagemaker-sample-files/datasets/tabular/uci_abalone/train_csv/abalone_dataset1_train.csv ."
   ]
  },
  {
   "cell_type": "code",
   "execution_count": 3,
   "id": "18f455f4",
   "metadata": {},
   "outputs": [
    {
     "name": "stdout",
     "output_type": "stream",
     "text": [
      "upload: ./abalone_dataset1_train.csv to s3://sagemaker-us-east-1-906815961619/xgboost-regression/train.csv\n"
     ]
    }
   ],
   "source": [
    "!aws s3 cp abalone_dataset1_train.csv s3://{default_bucket}/xgboost-regression/train.csv"
   ]
  },
  {
   "cell_type": "code",
   "execution_count": 4,
   "id": "1932e32e",
   "metadata": {},
   "outputs": [],
   "source": [
    "from sagemaker.inputs import TrainingInput\n",
    "training_path = f's3://{default_bucket}/xgboost-regression/train.csv'\n",
    "train_input = TrainingInput(training_path, content_type=\"text/csv\")"
   ]
  },
  {
   "cell_type": "markdown",
   "id": "90a17d47",
   "metadata": {},
   "source": [
    "## Retrieve XGBoost Image and Prepare Training Estimator W/ HyperParameters"
   ]
  },
  {
   "cell_type": "code",
   "execution_count": 5,
   "id": "a6df4c50",
   "metadata": {},
   "outputs": [],
   "source": [
    "model_path = f's3://{default_bucket}/{s3_prefix}/xgb_model'\n",
    "\n",
    "image_uri = sagemaker.image_uris.retrieve(\n",
    "    framework=\"xgboost\",\n",
    "    region=region,\n",
    "    version=\"1.0-1\",\n",
    "    py_version=\"py3\",\n",
    "    instance_type=training_instance_type,\n",
    ")\n",
    "\n",
    "xgb_train = Estimator(\n",
    "    image_uri=image_uri,\n",
    "    instance_type=training_instance_type,\n",
    "    instance_count=1,\n",
    "    output_path=model_path,\n",
    "    sagemaker_session=sagemaker_session,\n",
    "    role=role\n",
    ")\n",
    "\n",
    "xgb_train.set_hyperparameters(\n",
    "    objective=\"reg:linear\",\n",
    "    num_round=50,\n",
    "    max_depth=5,\n",
    "    eta=0.2,\n",
    "    gamma=4,\n",
    "    min_child_weight=6,\n",
    "    subsample=0.7,\n",
    "    silent=0,\n",
    ")"
   ]
  },
  {
   "cell_type": "markdown",
   "id": "02c08a30",
   "metadata": {},
   "source": [
    "## Model Training"
   ]
  },
  {
   "cell_type": "code",
   "execution_count": 6,
   "id": "c30ff951",
   "metadata": {},
   "outputs": [
    {
     "name": "stdout",
     "output_type": "stream",
     "text": [
      "2021-12-31 17:56:35 Starting - Starting the training job...\n",
      "2021-12-31 17:56:59 Starting - Launching requested ML instancesProfilerReport-1640973395: InProgress\n",
      "......\n",
      "2021-12-31 17:57:59 Starting - Preparing the instances for training......\n",
      "2021-12-31 17:59:03 Downloading - Downloading input data...\n",
      "2021-12-31 17:59:27 Training - Downloading the training image..\u001b[34mINFO:sagemaker-containers:Imported framework sagemaker_xgboost_container.training\u001b[0m\n",
      "\u001b[34mINFO:sagemaker-containers:Failed to parse hyperparameter objective value reg:linear to Json.\u001b[0m\n",
      "\u001b[34mReturning the value itself\u001b[0m\n",
      "\u001b[34mINFO:sagemaker-containers:No GPUs detected (normal if no gpus installed)\u001b[0m\n",
      "\u001b[34mINFO:sagemaker_xgboost_container.training:Running XGBoost Sagemaker in algorithm mode\u001b[0m\n",
      "\u001b[34mINFO:root:Determined delimiter of CSV input is ','\u001b[0m\n",
      "\u001b[34mINFO:root:Determined delimiter of CSV input is ','\u001b[0m\n",
      "\u001b[34m[17:59:47] 2923x8 matrix with 23384 entries loaded from /opt/ml/input/data/train?format=csv&label_column=0&delimiter=,\u001b[0m\n",
      "\u001b[34mINFO:root:Single node training.\u001b[0m\n",
      "\u001b[34mINFO:root:Train matrix has 2923 rows\u001b[0m\n",
      "\u001b[34m[17:59:47] WARNING: /workspace/src/objective/regression_obj.cu:167: reg:linear is now deprecated in favor of reg:squarederror.\u001b[0m\n",
      "\u001b[34m[17:59:47] WARNING: /workspace/src/learner.cc:328: \u001b[0m\n",
      "\u001b[34mParameters: { num_round, silent } might not be used.\n",
      "  This may not be accurate due to some parameters are only used in language bindings but\n",
      "  passed down to XGBoost core.  Or some parameters are not used but slip through this\n",
      "  verification. Please open an issue if you find above cases.\u001b[0m\n",
      "\u001b[34m[0]#011train-rmse:8.09123\u001b[0m\n",
      "\u001b[34m[1]#011train-rmse:6.61298\u001b[0m\n",
      "\u001b[34m[2]#011train-rmse:5.45157\u001b[0m\n",
      "\u001b[34m[3]#011train-rmse:4.54038\u001b[0m\n",
      "\u001b[34m[4]#011train-rmse:3.84707\u001b[0m\n",
      "\u001b[34m[5]#011train-rmse:3.31465\u001b[0m\n",
      "\u001b[34m[6]#011train-rmse:2.91636\u001b[0m\n",
      "\u001b[34m[7]#011train-rmse:2.62415\u001b[0m\n",
      "\u001b[34m[8]#011train-rmse:2.40885\u001b[0m\n",
      "\u001b[34m[9]#011train-rmse:2.24929\u001b[0m\n",
      "\u001b[34m[10]#011train-rmse:2.13106\u001b[0m\n",
      "\u001b[34m[11]#011train-rmse:2.04974\u001b[0m\n",
      "\u001b[34m[12]#011train-rmse:1.98240\u001b[0m\n",
      "\u001b[34m[13]#011train-rmse:1.93888\u001b[0m\n",
      "\u001b[34m[14]#011train-rmse:1.89701\u001b[0m\n",
      "\u001b[34m[15]#011train-rmse:1.87329\u001b[0m\n",
      "\u001b[34m[16]#011train-rmse:1.85216\u001b[0m\n",
      "\u001b[34m[17]#011train-rmse:1.82408\u001b[0m\n",
      "\u001b[34m[18]#011train-rmse:1.81372\u001b[0m\n",
      "\u001b[34m[19]#011train-rmse:1.80362\u001b[0m\n",
      "\u001b[34m[20]#011train-rmse:1.78164\u001b[0m\n",
      "\u001b[34m[21]#011train-rmse:1.77341\u001b[0m\n",
      "\u001b[34m[22]#011train-rmse:1.76766\u001b[0m\n",
      "\u001b[34m[23]#011train-rmse:1.75940\u001b[0m\n",
      "\u001b[34m[24]#011train-rmse:1.74632\u001b[0m\n",
      "\u001b[34m[25]#011train-rmse:1.74385\u001b[0m\n",
      "\u001b[34m[26]#011train-rmse:1.73876\u001b[0m\n",
      "\u001b[34m[27]#011train-rmse:1.73410\u001b[0m\n",
      "\u001b[34m[28]#011train-rmse:1.72847\u001b[0m\n",
      "\u001b[34m[29]#011train-rmse:1.72384\u001b[0m\n",
      "\u001b[34m[30]#011train-rmse:1.71492\u001b[0m\n",
      "\u001b[34m[31]#011train-rmse:1.69789\u001b[0m\n",
      "\u001b[34m[32]#011train-rmse:1.69073\u001b[0m\n",
      "\u001b[34m[33]#011train-rmse:1.68621\u001b[0m\n",
      "\u001b[34m[34]#011train-rmse:1.67960\u001b[0m\n",
      "\u001b[34m[35]#011train-rmse:1.67194\u001b[0m\n",
      "\u001b[34m[36]#011train-rmse:1.65883\u001b[0m\n",
      "\u001b[34m[37]#011train-rmse:1.65463\u001b[0m\n",
      "\u001b[34m[38]#011train-rmse:1.65199\u001b[0m\n",
      "\u001b[34m[39]#011train-rmse:1.63903\u001b[0m\n",
      "\u001b[34m[40]#011train-rmse:1.63353\u001b[0m\n",
      "\u001b[34m[41]#011train-rmse:1.62607\u001b[0m\n",
      "\u001b[34m[42]#011train-rmse:1.61662\u001b[0m\n",
      "\u001b[34m[43]#011train-rmse:1.60241\u001b[0m\n",
      "\u001b[34m[44]#011train-rmse:1.59173\u001b[0m\n",
      "\u001b[34m[45]#011train-rmse:1.58875\u001b[0m\n",
      "\u001b[34m[46]#011train-rmse:1.57816\u001b[0m\n",
      "\u001b[34m[47]#011train-rmse:1.56941\u001b[0m\n",
      "\u001b[34m[48]#011train-rmse:1.56063\u001b[0m\n",
      "\u001b[34m[49]#011train-rmse:1.55822\u001b[0m\n",
      "\n",
      "2021-12-31 18:00:00 Uploading - Uploading generated training model\n",
      "2021-12-31 18:00:00 Completed - Training job completed\n",
      "Training seconds: 56\n",
      "Billable seconds: 56\n"
     ]
    }
   ],
   "source": [
    "xgb_train.fit({'train': train_input})"
   ]
  },
  {
   "cell_type": "markdown",
   "id": "1f09af15",
   "metadata": {},
   "source": [
    "## Retrieve Model Data"
   ]
  },
  {
   "cell_type": "code",
   "execution_count": 7,
   "id": "0a77976c",
   "metadata": {},
   "outputs": [
    {
     "data": {
      "text/plain": [
       "'s3://sagemaker-us-east-1-906815961619/xgboost-example/xgb_model/sagemaker-xgboost-2021-12-31-17-56-35-247/output/model.tar.gz'"
      ]
     },
     "execution_count": 7,
     "metadata": {},
     "output_type": "execute_result"
    }
   ],
   "source": [
    "model_artifacts = xgb_train.model_data\n",
    "model_artifacts"
   ]
  },
  {
   "cell_type": "markdown",
   "id": "7dfb6a25",
   "metadata": {},
   "source": [
    "## Create SM Client to Create Model, EP Config, EP"
   ]
  },
  {
   "cell_type": "code",
   "execution_count": 8,
   "id": "a6fa9da9",
   "metadata": {},
   "outputs": [],
   "source": [
    "sm_client = boto3.client(service_name='sagemaker')"
   ]
  },
  {
   "cell_type": "markdown",
   "id": "ec6cec39",
   "metadata": {},
   "source": [
    "## Model Creation"
   ]
  },
  {
   "cell_type": "code",
   "execution_count": 9,
   "id": "603a9052",
   "metadata": {},
   "outputs": [
    {
     "name": "stdout",
     "output_type": "stream",
     "text": [
      "Model name: xgboost-reg2021-12-31-18-01-14\n",
      "Model Arn: arn:aws:sagemaker:us-east-1:906815961619:model/xgboost-reg2021-12-31-18-01-14\n"
     ]
    }
   ],
   "source": [
    "from time import gmtime, strftime\n",
    "model_name = 'xgboost-reg' + strftime(\"%Y-%m-%d-%H-%M-%S\", gmtime())\n",
    "print('Model name: ' + model_name)\n",
    "\n",
    "reference_container = {\n",
    "    \"Image\": image_uri,\n",
    "    \"ModelDataUrl\": model_artifacts\n",
    "}\n",
    "\n",
    "create_model_response = sm_client.create_model(\n",
    "    ModelName = model_name,\n",
    "    ExecutionRoleArn = role,\n",
    "    PrimaryContainer= reference_container)\n",
    "\n",
    "print(\"Model Arn: \" + create_model_response['ModelArn'])"
   ]
  },
  {
   "cell_type": "markdown",
   "id": "c2214662",
   "metadata": {},
   "source": [
    "## Endpoint Config Creation"
   ]
  },
  {
   "cell_type": "code",
   "execution_count": 10,
   "id": "4fcf8370",
   "metadata": {},
   "outputs": [
    {
     "name": "stdout",
     "output_type": "stream",
     "text": [
      "Endpoint config name: xgboost-config2021-12-31-18-01-18\n",
      "Endpoint config Arn: arn:aws:sagemaker:us-east-1:906815961619:endpoint-config/xgboost-config2021-12-31-18-01-18\n"
     ]
    }
   ],
   "source": [
    "endpoint_config_name = 'xgboost-config' + strftime(\"%Y-%m-%d-%H-%M-%S\", gmtime())\n",
    "instance_type='ml.c5d.18xlarge'\n",
    "print('Endpoint config name: ' + endpoint_config_name)\n",
    "\n",
    "create_endpoint_config_response = sm_client.create_endpoint_config(\n",
    "    EndpointConfigName = endpoint_config_name,\n",
    "    ProductionVariants=[{\n",
    "        'InstanceType': instance_type,\n",
    "        'InitialInstanceCount': 1,\n",
    "        'InitialVariantWeight': 1,\n",
    "        'ModelName': model_name,\n",
    "        'VariantName': 'AllTraffic',\n",
    "        }])\n",
    "\n",
    "print(\"Endpoint config Arn: \" + create_endpoint_config_response['EndpointConfigArn'])"
   ]
  },
  {
   "cell_type": "markdown",
   "id": "1aa97318",
   "metadata": {},
   "source": [
    "## Endpoint Creation"
   ]
  },
  {
   "cell_type": "code",
   "execution_count": 11,
   "id": "77adc281",
   "metadata": {},
   "outputs": [
    {
     "name": "stdout",
     "output_type": "stream",
     "text": [
      "Endpoint name: xgboost-reg2021-12-31-18-01-22\n",
      "Endpoint Arn: arn:aws:sagemaker:us-east-1:906815961619:endpoint/xgboost-reg2021-12-31-18-01-22\n",
      "Endpoint Status: Creating\n",
      "Waiting for xgboost-reg2021-12-31-18-01-22 endpoint to be in service...\n",
      "CPU times: user 69.4 ms, sys: 11.6 ms, total: 81 ms\n",
      "Wall time: 2min 30s\n"
     ]
    }
   ],
   "source": [
    "%%time\n",
    "\n",
    "import time\n",
    "\n",
    "endpoint_name = 'xgboost-reg' + strftime(\"%Y-%m-%d-%H-%M-%S\", gmtime())\n",
    "print('Endpoint name: ' + endpoint_name)\n",
    "\n",
    "create_endpoint_response = sm_client.create_endpoint(\n",
    "    EndpointName=endpoint_name,\n",
    "    EndpointConfigName=endpoint_config_name)\n",
    "print('Endpoint Arn: ' + create_endpoint_response['EndpointArn'])\n",
    "\n",
    "resp = sm_client.describe_endpoint(EndpointName=endpoint_name)\n",
    "status = resp['EndpointStatus']\n",
    "print(\"Endpoint Status: \" + status)\n",
    "\n",
    "print('Waiting for {} endpoint to be in service...'.format(endpoint_name))\n",
    "waiter = sm_client.get_waiter('endpoint_in_service')\n",
    "waiter.wait(EndpointName=endpoint_name)"
   ]
  },
  {
   "cell_type": "markdown",
   "id": "d087c679",
   "metadata": {},
   "source": [
    "## Sample Invocation"
   ]
  },
  {
   "cell_type": "code",
   "execution_count": 13,
   "id": "1cb22b80",
   "metadata": {},
   "outputs": [
    {
     "name": "stdout",
     "output_type": "stream",
     "text": [
      "b'4.566554546356201'\n"
     ]
    }
   ],
   "source": [
    "import boto3\n",
    "smr = boto3.client('sagemaker-runtime')\n",
    "\n",
    "resp = smr.invoke_endpoint(EndpointName=endpoint_name, Body=b'.345,0.224414,.131102,0.042329,.279923,-0.110329,-0.099358,0.0', \n",
    "                           ContentType='text/csv')\n",
    "\n",
    "print(resp['Body'].read())"
   ]
  },
  {
   "cell_type": "markdown",
   "id": "45bb07c8",
   "metadata": {},
   "source": [
    "## AutoScaling SageMaker Real-Time Endpoint\n",
    "\n",
    "Here we define a scaling policy based off of invocations per instance. We set the maximum instance count to 4. We can define this using the Boto3 SDK. There's different types of scaling policies: Simple Scaling, Target Tracking Scaling, Step Scaling, Scheduled Scaling, and On-Demand Scaling. For this we'll be using Target Tracking Scaling and be using the Invocations Per Instance Metric as the basis for scaling."
   ]
  },
  {
   "cell_type": "code",
   "execution_count": 20,
   "id": "2978d0c5",
   "metadata": {},
   "outputs": [],
   "source": [
    "# AutoScaling client\n",
    "asg = boto3.client('application-autoscaling')\n",
    "\n",
    "# Resource type is variant and the unique identifier is the resource ID.\n",
    "resource_id=f\"endpoint/{endpoint_name}/variant/AllTraffic\"\n",
    "\n",
    "# scaling configuration\n",
    "response = asg.register_scalable_target(\n",
    "    ServiceNamespace='sagemaker', #\n",
    "    ResourceId=resource_id,\n",
    "    ScalableDimension='sagemaker:variant:DesiredInstanceCount', \n",
    "    MinCapacity=1,\n",
    "    MaxCapacity=4\n",
    ")\n",
    "\n",
    "#Target Scaling\n",
    "response = asg.put_scaling_policy(\n",
    "    PolicyName=f'Request-ScalingPolicy-{endpoint_name}',\n",
    "    ServiceNamespace='sagemaker',\n",
    "    ResourceId=resource_id,\n",
    "    ScalableDimension='sagemaker:variant:DesiredInstanceCount',\n",
    "    PolicyType='TargetTrackingScaling',\n",
    "    TargetTrackingScalingPolicyConfiguration={\n",
    "        'TargetValue': 10.0, # Threshold\n",
    "        'PredefinedMetricSpecification': {\n",
    "            'PredefinedMetricType': 'SageMakerVariantInvocationsPerInstance',\n",
    "        },\n",
    "        'ScaleInCooldown': 300, # duration until scale in\n",
    "        'ScaleOutCooldown': 60 # duration between scale out\n",
    "    }\n",
    ")"
   ]
  },
  {
   "cell_type": "code",
   "execution_count": 21,
   "id": "9fe2adec",
   "metadata": {},
   "outputs": [
    {
     "name": "stdout",
     "output_type": "stream",
     "text": [
      "test will run for 250 seconds\n"
     ]
    }
   ],
   "source": [
    "request_duration = 250\n",
    "end_time = time.time() + request_duration\n",
    "print(f\"test will run for {request_duration} seconds\")\n",
    "while time.time() < end_time:\n",
    "    resp = smr.invoke_endpoint(EndpointName=endpoint_name, Body=b'.345,0.224414,.131102,0.042329,.279923,-0.110329,-0.099358,0.0', \n",
    "                           ContentType='text/csv')"
   ]
  },
  {
   "cell_type": "markdown",
   "id": "cf375fc2",
   "metadata": {},
   "source": [
    "We can monitor these invocations through CloudWatch which you can access through the SageMaker console."
   ]
  },
  {
   "cell_type": "markdown",
   "id": "559e4a4e",
   "metadata": {},
   "source": [
    "<img src='invocations.png' width=\"900\" height=\"400\">"
   ]
  },
  {
   "cell_type": "markdown",
   "id": "b84c70bd",
   "metadata": {},
   "source": [
    "We can zoom in to monitor the InvocationsPerInstance metric more."
   ]
  },
  {
   "cell_type": "markdown",
   "id": "e13d2862",
   "metadata": {},
   "source": [
    "<img src='scale_invocations.png' width=\"900\" height=\"400\">"
   ]
  },
  {
   "cell_type": "code",
   "execution_count": 28,
   "id": "59c9a136",
   "metadata": {},
   "outputs": [
    {
     "name": "stdout",
     "output_type": "stream",
     "text": [
      "Status: Updating\n",
      "Status: Updating\n",
      "Current Instance count: 1\n",
      "Status: Updating\n",
      "Current Instance count: 1\n",
      "Status: Updating\n",
      "Current Instance count: 1\n",
      "Status: Updating\n",
      "Current Instance count: 1\n",
      "Status: Updating\n",
      "Current Instance count: 1\n",
      "Status: Updating\n",
      "Current Instance count: 1\n",
      "Status: Updating\n",
      "Current Instance count: 1\n",
      "Status: Updating\n",
      "Current Instance count: 1\n",
      "Status: Updating\n",
      "Current Instance count: 1\n",
      "Status: Updating\n",
      "Current Instance count: 1\n",
      "Status: Updating\n",
      "Current Instance count: 1\n",
      "Status: Updating\n",
      "Current Instance count: 1\n",
      "Status: Updating\n",
      "Current Instance count: 2\n",
      "Status: Updating\n",
      "Current Instance count: 2\n",
      "Status: Updating\n",
      "Current Instance count: 2\n",
      "Status: Updating\n",
      "Current Instance count: 2\n",
      "Status: Updating\n",
      "Current Instance count: 3\n",
      "Status: Updating\n",
      "Current Instance count: 3\n",
      "Status: Updating\n",
      "Current Instance count: 3\n",
      "Status: Updating\n",
      "Current Instance count: 3\n",
      "Status: Updating\n",
      "Current Instance count: 3\n",
      "Status: Updating\n",
      "Current Instance count: 3\n",
      "Status: Updating\n",
      "Current Instance count: 3\n",
      "Status: Updating\n",
      "Current Instance count: 3\n",
      "Status: Updating\n",
      "Current Instance count: 3\n",
      "Status: Updating\n",
      "Current Instance count: 3\n",
      "Status: Updating\n",
      "Current Instance count: 3\n",
      "Status: Updating\n",
      "Current Instance count: 3\n",
      "Status: Updating\n",
      "Current Instance count: 3\n",
      "Status: Updating\n",
      "Current Instance count: 3\n",
      "Status: Updating\n",
      "Current Instance count: 3\n",
      "Status: Updating\n",
      "Current Instance count: 3\n",
      "Status: Updating\n",
      "Current Instance count: 3\n",
      "Status: Updating\n",
      "Current Instance count: 3\n",
      "Status: Updating\n",
      "Current Instance count: 3\n",
      "Status: Updating\n",
      "Current Instance count: 3\n",
      "Status: Updating\n",
      "Current Instance count: 3\n",
      "Status: Updating\n",
      "Current Instance count: 3\n",
      "Status: Updating\n",
      "Current Instance count: 3\n",
      "Status: Updating\n",
      "Current Instance count: 3\n",
      "Status: Updating\n",
      "Current Instance count: 3\n",
      "Status: Updating\n",
      "Current Instance count: 3\n",
      "Status: Updating\n",
      "Current Instance count: 3\n",
      "Status: Updating\n",
      "Current Instance count: 3\n",
      "Status: Updating\n",
      "Current Instance count: 3\n",
      "Status: Updating\n",
      "Current Instance count: 3\n",
      "Status: Updating\n",
      "Current Instance count: 3\n",
      "Status: Updating\n",
      "Current Instance count: 3\n",
      "Status: Updating\n",
      "Current Instance count: 3\n",
      "Status: Updating\n",
      "Current Instance count: 3\n",
      "Status: Updating\n",
      "Current Instance count: 3\n",
      "Status: Updating\n",
      "Current Instance count: 3\n",
      "Status: Updating\n",
      "Current Instance count: 3\n",
      "Status: Updating\n",
      "Current Instance count: 3\n",
      "Status: Updating\n",
      "Current Instance count: 3\n",
      "Status: Updating\n",
      "Current Instance count: 3\n",
      "Status: Updating\n",
      "Current Instance count: 3\n",
      "Status: Updating\n",
      "Current Instance count: 3\n",
      "Status: Updating\n",
      "Current Instance count: 3\n",
      "Status: Updating\n",
      "Current Instance count: 3\n",
      "Status: Updating\n",
      "Current Instance count: 4\n",
      "Status: Updating\n",
      "Current Instance count: 4\n",
      "Status: Updating\n",
      "Current Instance count: 4\n",
      "Status: Updating\n",
      "Current Instance count: 4\n",
      "Status: Updating\n",
      "Current Instance count: 4\n",
      "Status: Updating\n",
      "Current Instance count: 4\n",
      "Status: Updating\n",
      "Current Instance count: 4\n",
      "Status: Updating\n",
      "Current Instance count: 4\n",
      "Status: Updating\n",
      "Current Instance count: 4\n",
      "Status: InService\n",
      "Current Instance count: 4\n"
     ]
    }
   ],
   "source": [
    "response = sm_client.describe_endpoint(EndpointName=endpoint_name)\n",
    "status = response['EndpointStatus']\n",
    "print(\"Status: \" + status)\n",
    "\n",
    "\n",
    "while status=='Updating':\n",
    "    time.sleep(1)\n",
    "    response = sm_client.describe_endpoint(EndpointName=endpoint_name)\n",
    "    status = response['EndpointStatus']\n",
    "    instance_count = response['ProductionVariants'][0]['CurrentInstanceCount']\n",
    "    print(f\"Status: {status}\")\n",
    "    print(f\"Current Instance count: {instance_count}\")"
   ]
  }
 ],
 "metadata": {
  "kernelspec": {
   "display_name": "conda_python3",
   "language": "python",
   "name": "conda_python3"
  },
  "language_info": {
   "codemirror_mode": {
    "name": "ipython",
    "version": 3
   },
   "file_extension": ".py",
   "mimetype": "text/x-python",
   "name": "python",
   "nbconvert_exporter": "python",
   "pygments_lexer": "ipython3",
   "version": "3.6.13"
  }
 },
 "nbformat": 4,
 "nbformat_minor": 5
}
