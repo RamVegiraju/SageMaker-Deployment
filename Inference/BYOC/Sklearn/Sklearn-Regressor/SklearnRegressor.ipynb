{
 "cells": [
  {
   "cell_type": "code",
   "execution_count": 52,
   "id": "0fb0b0f1",
   "metadata": {},
   "outputs": [
    {
     "name": "stdout",
     "output_type": "stream",
     "text": [
      "Login Succeeded\n",
      "Sending build context to Docker daemon  32.26kB\n",
      "Step 1/11 : FROM ubuntu:18.04\n",
      " ---> fbf60236a8e3\n",
      "Step 2/11 : MAINTAINER Amazon AI <sage-learner@amazon.com>\n",
      " ---> Using cache\n",
      " ---> d465e2bd9823\n",
      "Step 3/11 : RUN apt-get -y update && apt-get install -y --no-install-recommends          wget          python3-pip          python3-setuptools          nginx          ca-certificates     && rm -rf /var/lib/apt/lists/*\n",
      " ---> Using cache\n",
      " ---> 6d544fd54850\n",
      "Step 4/11 : RUN ln -s /usr/bin/python3 /usr/bin/python\n",
      " ---> Using cache\n",
      " ---> 27081b22e040\n",
      "Step 5/11 : RUN ln -s /usr/bin/pip3 /usr/bin/pip\n",
      " ---> Using cache\n",
      " ---> f420a4bfc442\n",
      "Step 6/11 : RUN pip --no-cache-dir install numpy==1.16.2 scipy==1.2.1 scikit-learn==0.20.2 pandas flask gunicorn\n",
      " ---> Using cache\n",
      " ---> d0f49f083d85\n",
      "Step 7/11 : ENV PYTHONUNBUFFERED=TRUE\n",
      " ---> Using cache\n",
      " ---> cdeac2024895\n",
      "Step 8/11 : ENV PYTHONDONTWRITEBYTECODE=TRUE\n",
      " ---> Using cache\n",
      " ---> fb62a820afcd\n",
      "Step 9/11 : ENV PATH=\"/opt/program:${PATH}\"\n",
      " ---> Using cache\n",
      " ---> f808a828a20d\n",
      "Step 10/11 : COPY randomForest-Petrol /opt/program\n",
      " ---> d970f56d0078\n",
      "Step 11/11 : WORKDIR /opt/program\n",
      " ---> Running in a39c1ab7394a\n",
      "Removing intermediate container a39c1ab7394a\n",
      " ---> 6650c4078618\n",
      "Successfully built 6650c4078618\n",
      "Successfully tagged sm-byoc-scikit:latest\n",
      "The push refers to repository [906815961619.dkr.ecr.us-east-1.amazonaws.com/sm-byoc-scikit]\n",
      "300030523cc5: Preparing\n",
      "8392fd9454b7: Preparing\n",
      "06378d841f30: Preparing\n",
      "a9be8942f92d: Preparing\n",
      "86f3a0fd5e04: Preparing\n",
      "878dab86cf0f: Preparing\n",
      "878dab86cf0f: Waiting\n",
      "300030523cc5: Pushed\n",
      "06378d841f30: Pushed\n",
      "a9be8942f92d: Pushed\n",
      "86f3a0fd5e04: Pushed\n",
      "878dab86cf0f: Pushed\n",
      "8392fd9454b7: Pushed\n",
      "latest: digest: sha256:af4f31a67d2284f02d8b40a9594a598e1de919ba933101aec509fd90d537d167 size: 1575\n"
     ]
    },
    {
     "name": "stderr",
     "output_type": "stream",
     "text": [
      "WARNING! Your password will be stored unencrypted in /home/ec2-user/.docker/config.json.\n",
      "Configure a credential helper to remove this warning. See\n",
      "https://docs.docker.com/engine/reference/commandline/login/#credentials-store\n",
      "\n"
     ]
    }
   ],
   "source": [
    "%%sh\n",
    "\n",
    "# Name of algo -> ECR\n",
    "algorithm_name=sm-byoc-scikit\n",
    "\n",
    "cd container\n",
    "\n",
    "chmod +x randomForest-Petrol/train\n",
    "chmod +x randomForest-Petrol/serve\n",
    "\n",
    "account=$(aws sts get-caller-identity --query Account --output text)\n",
    "\n",
    "# Region, defaults to us-west-2\n",
    "region=$(aws configure get region)\n",
    "region=${region:-us-west-2}\n",
    "\n",
    "fullname=\"${account}.dkr.ecr.${region}.amazonaws.com/${algorithm_name}:latest\"\n",
    "\n",
    "# If the repository doesn't exist in ECR, create it.\n",
    "aws ecr describe-repositories --repository-names \"${algorithm_name}\" > /dev/null 2>&1\n",
    "\n",
    "if [ $? -ne 0 ]\n",
    "then\n",
    "    aws ecr create-repository --repository-name \"${algorithm_name}\" > /dev/null\n",
    "fi\n",
    "\n",
    "# Get the login command from ECR and execute it directly\n",
    "aws ecr get-login-password --region ${region}|docker login --username AWS --password-stdin ${fullname}\n",
    "\n",
    "# Build the docker image locally with the image name and then push it to ECR\n",
    "# with the full name.\n",
    "\n",
    "docker build  -t ${algorithm_name} .\n",
    "docker tag ${algorithm_name} ${fullname}\n",
    "\n",
    "docker push ${fullname}"
   ]
  },
  {
   "cell_type": "code",
   "execution_count": 53,
   "id": "a6861b5a",
   "metadata": {},
   "outputs": [
    {
     "name": "stdout",
     "output_type": "stream",
     "text": [
      "arn:aws:iam::906815961619:role/service-role/AmazonSageMaker-ExecutionRole-20210103T001835\n"
     ]
    }
   ],
   "source": [
    "# S3 prefix\n",
    "prefix = \"DEMO-scikit-byo-rf\"\n",
    "\n",
    "# Define IAM role\n",
    "import boto3\n",
    "import re\n",
    "\n",
    "import os\n",
    "import numpy as np\n",
    "import pandas as pd\n",
    "from sagemaker import get_execution_role\n",
    "\n",
    "role = get_execution_role()\n",
    "print(role)"
   ]
  },
  {
   "cell_type": "code",
   "execution_count": 54,
   "id": "1d9645e1",
   "metadata": {},
   "outputs": [],
   "source": [
    "import sagemaker as sage\n",
    "from time import gmtime, strftime\n",
    "\n",
    "sess = sage.Session()"
   ]
  },
  {
   "cell_type": "code",
   "execution_count": 55,
   "id": "045cb855",
   "metadata": {},
   "outputs": [],
   "source": [
    "WORK_DIRECTORY = \"data\" #local directory with data\n",
    "\n",
    "data_location = sess.upload_data(WORK_DIRECTORY, key_prefix=prefix)"
   ]
  },
  {
   "cell_type": "code",
   "execution_count": 56,
   "id": "e5254091",
   "metadata": {},
   "outputs": [
    {
     "name": "stdout",
     "output_type": "stream",
     "text": [
      "2021-07-18 23:45:49 Starting - Starting the training job...\n",
      "2021-07-18 23:46:12 Starting - Launching requested ML instancesProfilerReport-1626651949: InProgress\n",
      "......\n",
      "2021-07-18 23:47:13 Starting - Preparing the instances for training......\n",
      "2021-07-18 23:48:13 Downloading - Downloading input data\n",
      "2021-07-18 23:48:13 Training - Downloading the training image...\n",
      "2021-07-18 23:48:49 Uploading - Uploading generated training model\n",
      "2021-07-18 23:48:49 Completed - Training job completed\n",
      "\u001b[34mworking\u001b[0m\n",
      "\u001b[34mStarting the training.\u001b[0m\n",
      "\u001b[34merror with reading in dataset\u001b[0m\n",
      "\u001b[34m2\u001b[0m\n",
      "\u001b[34m/opt/ml/input/data/training/.ipynb_checkpoints\u001b[0m\n",
      "\u001b[34m<class 'str'>\u001b[0m\n",
      "\u001b[34m/opt/ml/input/data/training/petrol_consumption.csv\u001b[0m\n",
      "\u001b[34m<class 'str'>\u001b[0m\n",
      "\u001b[34m['/opt/ml/input/data/training/.ipynb_checkpoints', '/opt/ml/input/data/training/petrol_consumption.csv']\u001b[0m\n",
      "\u001b[34m['/opt/ml/input/data/training/petrol_consumption.csv']\u001b[0m\n",
      "\u001b[34m48\u001b[0m\n",
      "\u001b[34mIndex(['Petrol_tax', 'Average_income', 'Paved_Highways',\n",
      "       'Population_Driver_licence(%)', 'Petrol_Consumption'],\n",
      "      dtype='object')\u001b[0m\n",
      "\u001b[34mTraining complete.\u001b[0m\n",
      "Training seconds: 57\n",
      "Billable seconds: 57\n"
     ]
    }
   ],
   "source": [
    "account = sess.boto_session.client(\"sts\").get_caller_identity()[\"Account\"]\n",
    "region = sess.boto_session.region_name\n",
    "image = \"906815961619.dkr.ecr.us-east-1.amazonaws.com/sm-byoc-scikit:latest\".format(account, region)\n",
    "\n",
    "rf = sage.estimator.Estimator(\n",
    "    image,\n",
    "    role,\n",
    "    1,\n",
    "    \"ml.c4.2xlarge\",\n",
    "    output_path=\"s3://{}/output\".format(sess.default_bucket()),\n",
    "    sagemaker_session=sess,\n",
    ")\n",
    "\n",
    "rf.fit(data_location)"
   ]
  },
  {
   "cell_type": "code",
   "execution_count": 57,
   "id": "a4ef9e3e",
   "metadata": {},
   "outputs": [
    {
     "name": "stdout",
     "output_type": "stream",
     "text": [
      "---------------!"
     ]
    }
   ],
   "source": [
    "from sagemaker.predictor import csv_serializer\n",
    "rf_pred = rf.deploy(1, \"ml.m4.xlarge\", serializer=csv_serializer)"
   ]
  },
  {
   "cell_type": "code",
   "execution_count": 58,
   "id": "f3ccd0fd",
   "metadata": {},
   "outputs": [
    {
     "data": {
      "text/html": [
       "<div>\n",
       "<style scoped>\n",
       "    .dataframe tbody tr th:only-of-type {\n",
       "        vertical-align: middle;\n",
       "    }\n",
       "\n",
       "    .dataframe tbody tr th {\n",
       "        vertical-align: top;\n",
       "    }\n",
       "\n",
       "    .dataframe thead th {\n",
       "        text-align: right;\n",
       "    }\n",
       "</style>\n",
       "<table border=\"1\" class=\"dataframe\">\n",
       "  <thead>\n",
       "    <tr style=\"text-align: right;\">\n",
       "      <th></th>\n",
       "      <th>0</th>\n",
       "      <th>1</th>\n",
       "      <th>2</th>\n",
       "      <th>3</th>\n",
       "    </tr>\n",
       "  </thead>\n",
       "  <tbody>\n",
       "    <tr>\n",
       "      <th>47</th>\n",
       "      <td>7</td>\n",
       "      <td>4296</td>\n",
       "      <td>4083</td>\n",
       "      <td>0.623</td>\n",
       "    </tr>\n",
       "    <tr>\n",
       "      <th>24</th>\n",
       "      <td>9</td>\n",
       "      <td>4258</td>\n",
       "      <td>4686</td>\n",
       "      <td>0.517</td>\n",
       "    </tr>\n",
       "    <tr>\n",
       "      <th>46</th>\n",
       "      <td>9</td>\n",
       "      <td>4476</td>\n",
       "      <td>3942</td>\n",
       "      <td>0.571</td>\n",
       "    </tr>\n",
       "  </tbody>\n",
       "</table>\n",
       "</div>"
      ],
      "text/plain": [
       "    0     1     2      3\n",
       "47  7  4296  4083  0.623\n",
       "24  9  4258  4686  0.517\n",
       "46  9  4476  3942  0.571"
      ]
     },
     "execution_count": 58,
     "metadata": {},
     "output_type": "execute_result"
    }
   ],
   "source": [
    "shape = pd.read_csv(\"data/petrol_consumption.csv\", header=None)\n",
    "shape.drop(shape.columns[[4]], axis=1, inplace=True)\n",
    "shape.sample(3)"
   ]
  },
  {
   "cell_type": "code",
   "execution_count": 62,
   "id": "f6edb856",
   "metadata": {},
   "outputs": [
    {
     "data": {
      "text/html": [
       "<div>\n",
       "<style scoped>\n",
       "    .dataframe tbody tr th:only-of-type {\n",
       "        vertical-align: middle;\n",
       "    }\n",
       "\n",
       "    .dataframe tbody tr th {\n",
       "        vertical-align: top;\n",
       "    }\n",
       "\n",
       "    .dataframe thead th {\n",
       "        text-align: right;\n",
       "    }\n",
       "</style>\n",
       "<table border=\"1\" class=\"dataframe\">\n",
       "  <thead>\n",
       "    <tr style=\"text-align: right;\">\n",
       "      <th></th>\n",
       "      <th>0</th>\n",
       "      <th>1</th>\n",
       "      <th>2</th>\n",
       "      <th>3</th>\n",
       "    </tr>\n",
       "  </thead>\n",
       "  <tbody>\n",
       "    <tr>\n",
       "      <th>10</th>\n",
       "      <td>7</td>\n",
       "      <td>4512</td>\n",
       "      <td>8507</td>\n",
       "      <td>0.552</td>\n",
       "    </tr>\n",
       "    <tr>\n",
       "      <th>11</th>\n",
       "      <td>8</td>\n",
       "      <td>4391</td>\n",
       "      <td>5939</td>\n",
       "      <td>0.53</td>\n",
       "    </tr>\n",
       "    <tr>\n",
       "      <th>12</th>\n",
       "      <td>7.5</td>\n",
       "      <td>5126</td>\n",
       "      <td>14186</td>\n",
       "      <td>0.525</td>\n",
       "    </tr>\n",
       "    <tr>\n",
       "      <th>13</th>\n",
       "      <td>7</td>\n",
       "      <td>4817</td>\n",
       "      <td>6930</td>\n",
       "      <td>0.574</td>\n",
       "    </tr>\n",
       "    <tr>\n",
       "      <th>14</th>\n",
       "      <td>7</td>\n",
       "      <td>4207</td>\n",
       "      <td>6580</td>\n",
       "      <td>0.545</td>\n",
       "    </tr>\n",
       "    <tr>\n",
       "      <th>20</th>\n",
       "      <td>8.5</td>\n",
       "      <td>4341</td>\n",
       "      <td>6010</td>\n",
       "      <td>0.677</td>\n",
       "    </tr>\n",
       "    <tr>\n",
       "      <th>21</th>\n",
       "      <td>7</td>\n",
       "      <td>4593</td>\n",
       "      <td>7834</td>\n",
       "      <td>0.663</td>\n",
       "    </tr>\n",
       "    <tr>\n",
       "      <th>22</th>\n",
       "      <td>8</td>\n",
       "      <td>4983</td>\n",
       "      <td>602</td>\n",
       "      <td>0.602</td>\n",
       "    </tr>\n",
       "    <tr>\n",
       "      <th>23</th>\n",
       "      <td>9</td>\n",
       "      <td>4897</td>\n",
       "      <td>2449</td>\n",
       "      <td>0.511</td>\n",
       "    </tr>\n",
       "    <tr>\n",
       "      <th>24</th>\n",
       "      <td>9</td>\n",
       "      <td>4258</td>\n",
       "      <td>4686</td>\n",
       "      <td>0.517</td>\n",
       "    </tr>\n",
       "    <tr>\n",
       "      <th>30</th>\n",
       "      <td>9</td>\n",
       "      <td>3601</td>\n",
       "      <td>4650</td>\n",
       "      <td>0.493</td>\n",
       "    </tr>\n",
       "    <tr>\n",
       "      <th>31</th>\n",
       "      <td>7</td>\n",
       "      <td>3640</td>\n",
       "      <td>6905</td>\n",
       "      <td>0.518</td>\n",
       "    </tr>\n",
       "    <tr>\n",
       "      <th>32</th>\n",
       "      <td>7</td>\n",
       "      <td>3333</td>\n",
       "      <td>6594</td>\n",
       "      <td>0.513</td>\n",
       "    </tr>\n",
       "    <tr>\n",
       "      <th>33</th>\n",
       "      <td>8</td>\n",
       "      <td>3063</td>\n",
       "      <td>6524</td>\n",
       "      <td>0.578</td>\n",
       "    </tr>\n",
       "  </tbody>\n",
       "</table>\n",
       "</div>"
      ],
      "text/plain": [
       "      0     1      2      3\n",
       "10    7  4512   8507  0.552\n",
       "11    8  4391   5939   0.53\n",
       "12  7.5  5126  14186  0.525\n",
       "13    7  4817   6930  0.574\n",
       "14    7  4207   6580  0.545\n",
       "20  8.5  4341   6010  0.677\n",
       "21    7  4593   7834  0.663\n",
       "22    8  4983    602  0.602\n",
       "23    9  4897   2449  0.511\n",
       "24    9  4258   4686  0.517\n",
       "30    9  3601   4650  0.493\n",
       "31    7  3640   6905  0.518\n",
       "32    7  3333   6594  0.513\n",
       "33    8  3063   6524  0.578"
      ]
     },
     "execution_count": 62,
     "metadata": {},
     "output_type": "execute_result"
    }
   ],
   "source": [
    "import itertools\n",
    "\n",
    "a = [10*i for i in range(3)]\n",
    "#print(a)\n",
    "b = [10+i for i in range(5)]\n",
    "#print(b)\n",
    "indices = [i+j for i,j in itertools.product(a,b)]\n",
    "#print(indices)\n",
    "\n",
    "test_data = shape.iloc[indices[:-1]]\n",
    "test_data"
   ]
  },
  {
   "cell_type": "code",
   "execution_count": 65,
   "id": "153b41a4",
   "metadata": {},
   "outputs": [
    {
     "data": {
      "text/plain": [
       "10    580\n",
       "11    471\n",
       "12    525\n",
       "13    508\n",
       "14    566\n",
       "20    649\n",
       "21    540\n",
       "22    464\n",
       "23    547\n",
       "24    460\n",
       "30    571\n",
       "31    554\n",
       "32    577\n",
       "33    628\n",
       "34    487\n",
       "Name: Petrol_Consumption, dtype: int64"
      ]
     },
     "execution_count": 65,
     "metadata": {},
     "output_type": "execute_result"
    }
   ],
   "source": [
    "df = pd.read_csv(\"data/petrol_consumption.csv\")\n",
    "res = df.iloc[indices, : ]['Petrol_Consumption']\n",
    "res"
   ]
  },
  {
   "cell_type": "code",
   "execution_count": 60,
   "id": "6c2f70ee",
   "metadata": {},
   "outputs": [
    {
     "name": "stderr",
     "output_type": "stream",
     "text": [
      "The csv_serializer has been renamed in sagemaker>=2.\n",
      "See: https://sagemaker.readthedocs.io/en/stable/v2.html for details.\n"
     ]
    },
    {
     "name": "stdout",
     "output_type": "stream",
     "text": [
      "497.03333333333336\n",
      "520.4333333333333\n",
      "459.23333333333335\n",
      "521.6\n",
      "553.9\n",
      "720.8666666666667\n",
      "658.6666666666666\n",
      "519.4333333333333\n",
      "457.93333333333334\n",
      "537.9\n",
      "540.3333333333334\n",
      "586.7666666666667\n",
      "580.0\n",
      "593.3\n",
      "\n"
     ]
    }
   ],
   "source": [
    "print(rf_pred.predict(test_data.values).decode('utf-8'))"
   ]
  }
 ],
 "metadata": {
  "kernelspec": {
   "display_name": "conda_python3",
   "language": "python",
   "name": "conda_python3"
  },
  "language_info": {
   "codemirror_mode": {
    "name": "ipython",
    "version": 3
   },
   "file_extension": ".py",
   "mimetype": "text/x-python",
   "name": "python",
   "nbconvert_exporter": "python",
   "pygments_lexer": "ipython3",
   "version": "3.6.13"
  }
 },
 "nbformat": 4,
 "nbformat_minor": 5
}
