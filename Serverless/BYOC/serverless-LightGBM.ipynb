{
 "cells": [
  {
   "cell_type": "markdown",
   "id": "01d64850",
   "metadata": {},
   "source": [
    "## Serverless LightGBM Bring Your Own Container Inference\n",
    "\n",
    "<b> Additional Resources</b>\n",
    "- [LightGBM Real-Time BYOC](https://github.com/RamVegiraju/SageMaker-Deployment/tree/master/RealTime/BYOC/LightGBM)\n",
    "- [LightGBM Docker Installation Local](https://github.com/microsoft/LightGBM/blob/master/docker/dockerfile-python)\n",
    "- [BYOC Guide](https://towardsdatascience.com/bring-your-own-container-with-amazon-sagemaker-37211d8412f4)\n",
    "- [BYOC Setup](https://sagemaker-workshop.com/custom/containers.html)"
   ]
  },
  {
   "cell_type": "markdown",
   "id": "0a6a1c96",
   "metadata": {},
   "source": [
    "## Serverless Client Setup\n",
    "\n",
    "For testing you need to properly configure your Notebook Role to have SageMaker Full Access.\n",
    "\n",
    "Let's start by installing preview wheels of the Python SDK, boto and aws cli\n",
    "\n",
    "<b>Notebook Setting</b>\n",
    "- Notebook Instance: ml.c5.xlarge\n",
    "- Kernel Type: conda_python3"
   ]
  },
  {
   "cell_type": "code",
   "execution_count": 1,
   "id": "d4bdd945",
   "metadata": {},
   "outputs": [
    {
     "name": "stdout",
     "output_type": "stream",
     "text": [
      "Requirement already satisfied: sagemaker in /home/ec2-user/anaconda3/envs/python3/lib/python3.6/site-packages (2.68.0)\n",
      "Collecting sagemaker\n",
      "  Downloading sagemaker-2.70.0.tar.gz (466 kB)\n",
      "\u001b[K     |████████████████████████████████| 466 kB 7.3 MB/s eta 0:00:01\n",
      "\u001b[?25hRequirement already satisfied: botocore in /home/ec2-user/anaconda3/envs/python3/lib/python3.6/site-packages (1.23.4)\n",
      "Collecting botocore\n",
      "  Downloading botocore-1.23.19-py3-none-any.whl (8.4 MB)\n",
      "\u001b[K     |████████████████████████████████| 8.4 MB 90.3 MB/s eta 0:00:01\n",
      "\u001b[?25hRequirement already satisfied: boto3 in /home/ec2-user/anaconda3/envs/python3/lib/python3.6/site-packages (1.20.4)\n",
      "Collecting boto3\n",
      "  Downloading boto3-1.20.19-py3-none-any.whl (131 kB)\n",
      "\u001b[K     |████████████████████████████████| 131 kB 65.3 MB/s eta 0:00:01\n",
      "\u001b[?25hRequirement already satisfied: awscli in /home/ec2-user/anaconda3/envs/python3/lib/python3.6/site-packages (1.22.4)\n",
      "Collecting awscli\n",
      "  Downloading awscli-1.22.19-py3-none-any.whl (3.8 MB)\n",
      "\u001b[K     |████████████████████████████████| 3.8 MB 75.3 MB/s eta 0:00:01\n",
      "\u001b[?25hRequirement already satisfied: attrs in /home/ec2-user/anaconda3/envs/python3/lib/python3.6/site-packages (from sagemaker) (21.2.0)\n",
      "Requirement already satisfied: google-pasta in /home/ec2-user/anaconda3/envs/python3/lib/python3.6/site-packages (from sagemaker) (0.2.0)\n",
      "Requirement already satisfied: numpy>=1.9.0 in /home/ec2-user/anaconda3/envs/python3/lib/python3.6/site-packages (from sagemaker) (1.19.5)\n",
      "Requirement already satisfied: protobuf>=3.1 in /home/ec2-user/anaconda3/envs/python3/lib/python3.6/site-packages (from sagemaker) (3.19.1)\n",
      "Requirement already satisfied: protobuf3-to-dict>=0.1.5 in /home/ec2-user/anaconda3/envs/python3/lib/python3.6/site-packages (from sagemaker) (0.1.5)\n",
      "Requirement already satisfied: smdebug_rulesconfig==1.0.1 in /home/ec2-user/anaconda3/envs/python3/lib/python3.6/site-packages (from sagemaker) (1.0.1)\n",
      "Requirement already satisfied: importlib-metadata>=1.4.0 in /home/ec2-user/anaconda3/envs/python3/lib/python3.6/site-packages (from sagemaker) (4.8.2)\n",
      "Requirement already satisfied: packaging>=20.0 in /home/ec2-user/anaconda3/envs/python3/lib/python3.6/site-packages (from sagemaker) (21.2)\n",
      "Requirement already satisfied: pandas in /home/ec2-user/anaconda3/envs/python3/lib/python3.6/site-packages (from sagemaker) (1.1.5)\n",
      "Requirement already satisfied: pathos in /home/ec2-user/anaconda3/envs/python3/lib/python3.6/site-packages (from sagemaker) (0.2.8)\n",
      "Requirement already satisfied: jmespath<1.0.0,>=0.7.1 in /home/ec2-user/anaconda3/envs/python3/lib/python3.6/site-packages (from botocore) (0.10.0)\n",
      "Requirement already satisfied: urllib3<1.27,>=1.25.4 in /home/ec2-user/anaconda3/envs/python3/lib/python3.6/site-packages (from botocore) (1.26.7)\n",
      "Requirement already satisfied: python-dateutil<3.0.0,>=2.1 in /home/ec2-user/anaconda3/envs/python3/lib/python3.6/site-packages (from botocore) (2.8.2)\n",
      "Requirement already satisfied: s3transfer<0.6.0,>=0.5.0 in /home/ec2-user/anaconda3/envs/python3/lib/python3.6/site-packages (from boto3) (0.5.0)\n",
      "Requirement already satisfied: docutils<0.16,>=0.10 in /home/ec2-user/anaconda3/envs/python3/lib/python3.6/site-packages (from awscli) (0.15.2)\n",
      "Requirement already satisfied: PyYAML<5.5,>=3.10 in /home/ec2-user/anaconda3/envs/python3/lib/python3.6/site-packages (from awscli) (5.4.1)\n",
      "Requirement already satisfied: colorama<0.4.4,>=0.2.5 in /home/ec2-user/anaconda3/envs/python3/lib/python3.6/site-packages (from awscli) (0.4.3)\n",
      "Requirement already satisfied: rsa<4.8,>=3.1.2 in /home/ec2-user/anaconda3/envs/python3/lib/python3.6/site-packages (from awscli) (4.7.2)\n",
      "Requirement already satisfied: typing-extensions>=3.6.4 in /home/ec2-user/anaconda3/envs/python3/lib/python3.6/site-packages (from importlib-metadata>=1.4.0->sagemaker) (3.10.0.2)\n",
      "Requirement already satisfied: zipp>=0.5 in /home/ec2-user/anaconda3/envs/python3/lib/python3.6/site-packages (from importlib-metadata>=1.4.0->sagemaker) (3.6.0)\n",
      "Requirement already satisfied: pyparsing<3,>=2.0.2 in /home/ec2-user/anaconda3/envs/python3/lib/python3.6/site-packages (from packaging>=20.0->sagemaker) (2.4.7)\n",
      "Requirement already satisfied: six in /home/ec2-user/anaconda3/envs/python3/lib/python3.6/site-packages (from protobuf3-to-dict>=0.1.5->sagemaker) (1.16.0)\n",
      "Requirement already satisfied: pyasn1>=0.1.3 in /home/ec2-user/anaconda3/envs/python3/lib/python3.6/site-packages (from rsa<4.8,>=3.1.2->awscli) (0.4.8)\n",
      "Requirement already satisfied: pytz>=2017.2 in /home/ec2-user/anaconda3/envs/python3/lib/python3.6/site-packages (from pandas->sagemaker) (2021.3)\n",
      "Requirement already satisfied: dill>=0.3.4 in /home/ec2-user/anaconda3/envs/python3/lib/python3.6/site-packages (from pathos->sagemaker) (0.3.4)\n",
      "Requirement already satisfied: multiprocess>=0.70.12 in /home/ec2-user/anaconda3/envs/python3/lib/python3.6/site-packages (from pathos->sagemaker) (0.70.12.2)\n",
      "Requirement already satisfied: pox>=0.3.0 in /home/ec2-user/anaconda3/envs/python3/lib/python3.6/site-packages (from pathos->sagemaker) (0.3.0)\n",
      "Requirement already satisfied: ppft>=1.6.6.4 in /home/ec2-user/anaconda3/envs/python3/lib/python3.6/site-packages (from pathos->sagemaker) (1.6.6.4)\n",
      "Building wheels for collected packages: sagemaker\n",
      "  Building wheel for sagemaker (setup.py) ... \u001b[?25ldone\n",
      "\u001b[?25h  Created wheel for sagemaker: filename=sagemaker-2.70.0-py2.py3-none-any.whl size=649170 sha256=ffa302eddf206720318eb8e1ff5de327eb89e238a20568475774f87df6dc90f5\n",
      "  Stored in directory: /home/ec2-user/.cache/pip/wheels/da/11/20/c45ef599886a2b1399effa68f80b98b2166dc624e19636c303\n",
      "Successfully built sagemaker\n",
      "Installing collected packages: botocore, boto3, sagemaker, awscli\n",
      "  Attempting uninstall: botocore\n",
      "    Found existing installation: botocore 1.23.4\n",
      "    Uninstalling botocore-1.23.4:\n",
      "      Successfully uninstalled botocore-1.23.4\n",
      "  Attempting uninstall: boto3\n",
      "    Found existing installation: boto3 1.20.4\n",
      "    Uninstalling boto3-1.20.4:\n",
      "      Successfully uninstalled boto3-1.20.4\n",
      "  Attempting uninstall: sagemaker\n",
      "    Found existing installation: sagemaker 2.68.0\n",
      "    Uninstalling sagemaker-2.68.0:\n",
      "      Successfully uninstalled sagemaker-2.68.0\n",
      "  Attempting uninstall: awscli\n",
      "    Found existing installation: awscli 1.22.4\n",
      "    Uninstalling awscli-1.22.4:\n",
      "      Successfully uninstalled awscli-1.22.4\n",
      "\u001b[31mERROR: pip's dependency resolver does not currently take into account all the packages that are installed. This behaviour is the source of the following dependency conflicts.\n",
      "aiobotocore 1.3.0 requires botocore<1.20.50,>=1.20.49, but you have botocore 1.23.19 which is incompatible.\u001b[0m\n",
      "Successfully installed awscli-1.22.19 boto3-1.20.19 botocore-1.23.19 sagemaker-2.70.0\n",
      "\u001b[33mWARNING: You are using pip version 21.2.4; however, version 21.3.1 is available.\n",
      "You should consider upgrading via the '/home/ec2-user/anaconda3/envs/python3/bin/python -m pip install --upgrade pip' command.\u001b[0m\n"
     ]
    }
   ],
   "source": [
    "# Fallback in case wheels are unavailable\n",
    "! pip install sagemaker botocore boto3 awscli --upgrade"
   ]
  },
  {
   "cell_type": "code",
   "execution_count": 2,
   "id": "93061440",
   "metadata": {},
   "outputs": [
    {
     "name": "stdout",
     "output_type": "stream",
     "text": [
      "Path is s3://reinvent21-sm-rc-wheels/boto3/botocore.tar.gz\n",
      "aws s3 ls s3://reinvent21-sm-rc-wheels/boto3/botocore.tar.gz\n",
      "(255, '\\nAn error occurred (AccessDenied) when calling the ListObjectsV2 operation: Access Denied')\n",
      "Downloading:  aws s3 cp s3://reinvent21-sm-rc-wheels/boto3/botocore.tar.gz /tmp/\n",
      "aws s3 cp s3://reinvent21-sm-rc-wheels/boto3/botocore.tar.gz /tmp/\n",
      "pip install --no-deps --log /tmp/output3.log /tmp/botocore.tar.gz --force-reinstall\n",
      "python -c 'import botocore; print(botocore.__version__)'\n",
      "python -c 'import botocore; print(botocore.__version__)'\n",
      "(0, '1.23.7')\n",
      "python -c 'import sagemaker; print(sagemaker.__version__)'\n",
      "(0, '2.70.0')\n",
      "python -c 'import boto3; print(boto3.__version__)'\n",
      "(0, '1.20.19')\n",
      "python -c 'import awscli; print(awscli.__version__)'\n",
      "(0, '1.22.19')\n",
      "Installed botocore:1.23.7\n",
      "Path is s3://reinvent21-sm-rc-wheels/boto3/boto3.tar.gz\n",
      "aws s3 ls s3://reinvent21-sm-rc-wheels/boto3/boto3.tar.gz\n",
      "(255, '\\nAn error occurred (AccessDenied) when calling the ListObjectsV2 operation: Access Denied')\n",
      "Downloading:  aws s3 cp s3://reinvent21-sm-rc-wheels/boto3/boto3.tar.gz /tmp/\n",
      "aws s3 cp s3://reinvent21-sm-rc-wheels/boto3/boto3.tar.gz /tmp/\n",
      "pip install --no-deps --log /tmp/output3.log /tmp/boto3.tar.gz --force-reinstall\n",
      "python -c 'import boto3; print(boto3.__version__)'\n",
      "python -c 'import botocore; print(botocore.__version__)'\n",
      "(0, '1.23.7')\n",
      "python -c 'import sagemaker; print(sagemaker.__version__)'\n",
      "(0, '2.70.0')\n",
      "python -c 'import boto3; print(boto3.__version__)'\n",
      "(0, '1.20.7')\n",
      "python -c 'import awscli; print(awscli.__version__)'\n",
      "(0, '1.22.19')\n",
      "Installed boto3:1.20.7\n",
      "Path is s3://reinvent21-sm-rc-wheels/boto3/awscli.tar.gz\n",
      "aws s3 ls s3://reinvent21-sm-rc-wheels/boto3/awscli.tar.gz\n",
      "(255, '\\nAn error occurred (AccessDenied) when calling the ListObjectsV2 operation: Access Denied')\n",
      "Downloading:  aws s3 cp s3://reinvent21-sm-rc-wheels/boto3/awscli.tar.gz /tmp/\n",
      "aws s3 cp s3://reinvent21-sm-rc-wheels/boto3/awscli.tar.gz /tmp/\n",
      "pip install --no-deps --log /tmp/output3.log /tmp/awscli.tar.gz --force-reinstall\n",
      "python -c 'import awscli; print(awscli.__version__)'\n",
      "python -c 'import botocore; print(botocore.__version__)'\n",
      "(0, '1.23.7')\n",
      "python -c 'import sagemaker; print(sagemaker.__version__)'\n",
      "(0, '2.70.0')\n",
      "python -c 'import boto3; print(boto3.__version__)'\n",
      "(0, '1.20.7')\n",
      "python -c 'import awscli; print(awscli.__version__)'\n",
      "(0, '1.22.7')\n",
      "Installed awscli:1.22.7\n",
      "Path is s3://reinvent21-sm-rc-wheels/dist/sagemaker.tar.gz\n",
      "aws s3 ls s3://reinvent21-sm-rc-wheels/dist/sagemaker.tar.gz\n",
      "(255, '\\nAn error occurred (AccessDenied) when calling the ListObjectsV2 operation: Access Denied')\n",
      "Downloading:  aws s3 cp s3://reinvent21-sm-rc-wheels/dist/sagemaker.tar.gz /tmp/\n",
      "aws s3 cp s3://reinvent21-sm-rc-wheels/dist/sagemaker.tar.gz /tmp/\n",
      "pip install --no-deps --log /tmp/output3.log /tmp/sagemaker.tar.gz --force-reinstall\n",
      "python -c 'import sagemaker; print(sagemaker.__version__)'\n",
      "python -c 'import botocore; print(botocore.__version__)'\n",
      "(0, '1.23.7')\n",
      "python -c 'import sagemaker; print(sagemaker.__version__)'\n",
      "(0, '2.69.1.dev0')\n",
      "python -c 'import boto3; print(boto3.__version__)'\n",
      "(0, '1.20.7')\n",
      "python -c 'import awscli; print(awscli.__version__)'\n",
      "(0, '1.22.7')\n",
      "Installed sagemaker:2.69.1.dev0\n"
     ]
    }
   ],
   "source": [
    "import subprocess\n",
    "\n",
    "\n",
    "def execute_cmd(cmd):\n",
    "    print(cmd)\n",
    "    output = subprocess.getstatusoutput(cmd)\n",
    "    return output\n",
    "\n",
    "\n",
    "def _download_from_s3(_file_path):\n",
    "    _path = f\"s3://reinvent21-sm-rc-wheels/{_file_path}\"\n",
    "    print(f\"Path is {_path}\")\n",
    "    ls_cmd = f\"aws s3 ls {_path}\"\n",
    "    print(execute_cmd(ls_cmd))\n",
    "\n",
    "    cmd = f\"aws s3 cp {_path} /tmp/\"\n",
    "    print(\"Downloading: \", cmd)\n",
    "    return execute_cmd(cmd)\n",
    "\n",
    "\n",
    "def _install_wheel(wheel_name):\n",
    "    cmd = f\"pip install --no-deps --log /tmp/output3.log /tmp/{wheel_name} --force-reinstall\"\n",
    "\n",
    "    ret = execute_cmd(cmd)\n",
    "\n",
    "    _name = wheel_name.split(\".\")[0]\n",
    "    _, _version = execute_cmd(f\"python -c 'import {_name}; print({_name}.__version__)'\")\n",
    "\n",
    "    for package in [\"botocore\", \"sagemaker\", \"boto3\", \"awscli\"]:\n",
    "        print(execute_cmd(f\"python -c 'import {package}; print({package}.__version__)'\"))\n",
    "\n",
    "    print(f\"Installed {_name}:{_version}\")\n",
    "\n",
    "    return ret\n",
    "\n",
    "\n",
    "def install_sm_py_sdk():\n",
    "    pySDK_name = \"sagemaker.tar.gz\"\n",
    "\n",
    "    exit_code, _ = _download_from_s3(\"dist/sagemaker.tar.gz\")\n",
    "\n",
    "    if not exit_code:\n",
    "        _install_wheel(pySDK_name)\n",
    "    else:\n",
    "        print(f\"'{pySDK_name}' is not present in S3 Bucket. Installing from public PyPi...\")\n",
    "        execute_cmd(\"pip install sagemaker\")\n",
    "\n",
    "\n",
    "def install_boto_wheels():\n",
    "    WHEELS = [\"botocore.tar.gz\", \"boto3.tar.gz\", \"awscli.tar.gz\"]\n",
    "\n",
    "    for wheel_name in WHEELS:\n",
    "        _path = f\"boto3/{wheel_name}\"\n",
    "        exit_code, _ = _download_from_s3(_path)\n",
    "\n",
    "        if not exit_code:\n",
    "            _install_wheel(wheel_name)\n",
    "        else:\n",
    "            print(f\"'{wheel_name}' is not present in S3 Bucket. Ignoring...\")\n",
    "\n",
    "\n",
    "install_boto_wheels()\n",
    "install_sm_py_sdk()"
   ]
  },
  {
   "cell_type": "code",
   "execution_count": 3,
   "id": "bb1e4716",
   "metadata": {},
   "outputs": [],
   "source": [
    "# Setup clients\n",
    "import boto3\n",
    "\n",
    "client = boto3.client(service_name=\"sagemaker\")\n",
    "runtime = boto3.client(service_name=\"sagemaker-runtime\")"
   ]
  },
  {
   "cell_type": "markdown",
   "id": "639e4a65",
   "metadata": {},
   "source": [
    "## Build & Push Docker Image to ECR"
   ]
  },
  {
   "cell_type": "markdown",
   "id": "ee726379",
   "metadata": {},
   "source": [
    "### Container Structure\n",
    "\n",
    "- <b>Pretrained-Model</b>: Local training of a LGBM Model, upload the pkl file into the container as a pre-trained example.\n",
    "- <b>Container</b>: Contains Dockerfile and inference code, the only files you need to adjust are the Dockerfile and predictor.py for your framework/model."
   ]
  },
  {
   "cell_type": "code",
   "execution_count": 5,
   "id": "20476688",
   "metadata": {},
   "outputs": [
    {
     "name": "stdout",
     "output_type": "stream",
     "text": [
      "Login Succeeded\n",
      "Sending build context to Docker daemon  28.16kB\n",
      "Step 1/12 : FROM ubuntu:18.04\n",
      " ---> 5a214d77f5d7\n",
      "Step 2/12 : ARG CONDA_DIR=/opt/conda\n",
      " ---> Using cache\n",
      " ---> 90035084e03d\n",
      "Step 3/12 : ENV PATH $CONDA_DIR/bin:$PATH\n",
      " ---> Using cache\n",
      " ---> 27dae9eb586b\n",
      "Step 4/12 : RUN apt-get -y update && apt-get install -y --no-install-recommends          wget          python3-pip          python3-setuptools          nginx          ca-certificates     && rm -rf /var/lib/apt/lists/*\n",
      " ---> Using cache\n",
      " ---> efb8ef471124\n",
      "Step 5/12 : RUN ln -s /usr/bin/python3 /usr/bin/python\n",
      " ---> Using cache\n",
      " ---> 60ffc02f0c8d\n",
      "Step 6/12 : RUN ln -s /usr/bin/pip3 /usr/bin/pip\n",
      " ---> Using cache\n",
      " ---> 3f140f561a3c\n",
      "Step 7/12 : RUN apt-get update &&     apt-get install -y --no-install-recommends         ca-certificates         cmake         build-essential         gcc         g++         curl         git &&     curl -sL https://repo.anaconda.com/miniconda/Miniconda3-latest-Linux-x86_64.sh -o conda.sh &&     /bin/bash conda.sh -f -b -p $CONDA_DIR &&     export PATH=\"$CONDA_DIR/bin:$PATH\" &&     conda config --set always_yes yes --set changeps1 no &&     conda install -q -y numpy scipy scikit-learn pandas flask gunicorn &&     git clone --recursive --branch stable --depth 1 https://github.com/Microsoft/LightGBM &&     cd LightGBM/python-package && python setup.py install &&     apt-get autoremove -y && apt-get clean &&     conda clean -a -y &&     rm -rf /usr/local/src/*\n",
      " ---> Using cache\n",
      " ---> 0bf8afccd587\n",
      "Step 8/12 : ENV PYTHONUNBUFFERED=TRUE\n",
      " ---> Using cache\n",
      " ---> a987cd381ddf\n",
      "Step 9/12 : ENV PYTHONDONTWRITEBYTECODE=TRUE\n",
      " ---> Using cache\n",
      " ---> 87bfb97850fb\n",
      "Step 10/12 : ENV PATH=\"/opt/program:${PATH}\"\n",
      " ---> Using cache\n",
      " ---> 131a5520b024\n",
      "Step 11/12 : COPY regressor /opt/program\n",
      " ---> Using cache\n",
      " ---> 36eff44f8e8c\n",
      "Step 12/12 : WORKDIR /opt/program\n",
      " ---> Using cache\n",
      " ---> 314581cd1ae8\n",
      "Successfully built 314581cd1ae8\n",
      "Successfully tagged serverless-pretrained-byoc:latest\n",
      "The push refers to repository [474422712127.dkr.ecr.us-west-2.amazonaws.com/serverless-pretrained-byoc]\n",
      "f72eba0f668c: Preparing\n",
      "28339c1e0b6a: Preparing\n",
      "05970d6a6c4f: Preparing\n",
      "aab26021ad37: Preparing\n",
      "984332c9fd3e: Preparing\n",
      "824bf068fd3d: Preparing\n",
      "f72eba0f668c: Layer already exists\n",
      "28339c1e0b6a: Layer already exists\n",
      "984332c9fd3e: Layer already exists\n",
      "05970d6a6c4f: Layer already exists\n",
      "aab26021ad37: Layer already exists\n",
      "824bf068fd3d: Layer already exists\n",
      "latest: digest: sha256:cbdf163a674023ec708a2f45969ea58025a1b157a54db1b54ca987d32ae6b132 size: 1576\n"
     ]
    },
    {
     "name": "stderr",
     "output_type": "stream",
     "text": [
      "WARNING! Your password will be stored unencrypted in /home/ec2-user/.docker/config.json.\n",
      "Configure a credential helper to remove this warning. See\n",
      "https://docs.docker.com/engine/reference/commandline/login/#credentials-store\n",
      "\n"
     ]
    }
   ],
   "source": [
    "%%sh\n",
    "\n",
    "# Name of algo -> ECR\n",
    "algorithm_name=serverless-pretrained-byoc\n",
    "\n",
    "cd container\n",
    "\n",
    "#executable for serve\n",
    "chmod +x regressor/serve\n",
    "\n",
    "account=$(aws sts get-caller-identity --query Account --output text)\n",
    "\n",
    "# Region, defaults to us-west-2\n",
    "region=$(aws configure get region)\n",
    "region=${region:-us-west-2}\n",
    "\n",
    "fullname=\"${account}.dkr.ecr.${region}.amazonaws.com/${algorithm_name}:latest\"\n",
    "\n",
    "# If the repository doesn't exist in ECR, create it.\n",
    "aws ecr describe-repositories --repository-names \"${algorithm_name}\" > /dev/null 2>&1\n",
    "\n",
    "if [ $? -ne 0 ]\n",
    "then\n",
    "    aws ecr create-repository --repository-name \"${algorithm_name}\" > /dev/null\n",
    "fi\n",
    "\n",
    "# Get the login command from ECR and execute it directly\n",
    "aws ecr get-login-password --region ${region}|docker login --username AWS --password-stdin ${fullname}\n",
    "\n",
    "# Build the docker image locally with the image name and then push it to ECR\n",
    "# with the full name.\n",
    "\n",
    "docker build  -t ${algorithm_name} .\n",
    "docker tag ${algorithm_name} ${fullname}\n",
    "\n",
    "docker push ${fullname}"
   ]
  },
  {
   "cell_type": "code",
   "execution_count": 6,
   "id": "c62d1071",
   "metadata": {},
   "outputs": [],
   "source": [
    "import boto3\n",
    "from sagemaker import get_execution_role\n",
    "\n",
    "account_id = boto3.client('sts').get_caller_identity()['Account']\n",
    "region = boto3.Session().region_name\n",
    "\n",
    "#not really used in this use case, use when need to store model artifacts (Ex: MME)\n",
    "s3_bucket = 'sagemaker-light-gbm-pretrained'\n",
    "\n",
    "role = get_execution_role() #ensure you have sagemaker full access"
   ]
  },
  {
   "cell_type": "markdown",
   "id": "3c19d8e6",
   "metadata": {},
   "source": [
    "## Model Creation"
   ]
  },
  {
   "cell_type": "code",
   "execution_count": 7,
   "id": "225ae3b2",
   "metadata": {},
   "outputs": [
    {
     "name": "stdout",
     "output_type": "stream",
     "text": [
      "Model name: serverless-lgbm-model2021-12-02-20-37-45\n",
      "Model data Url: s3://sagemaker-light-gbm-pretrained/lgbm/\n",
      "Container image: 474422712127.dkr.ecr.us-west-2.amazonaws.com/serverless-pretrained-byoc:latest\n",
      "Model Arn: arn:aws:sagemaker:us-west-2:474422712127:model/serverless-lgbm-model2021-12-02-20-37-45\n"
     ]
    }
   ],
   "source": [
    "from time import gmtime, strftime\n",
    "model_name = 'serverless-lgbm-model' + strftime(\"%Y-%m-%d-%H-%M-%S\", gmtime())\n",
    "model_url = 's3://{}/lgbm/'.format(s3_bucket) ## MODEL S3 URL\n",
    "\n",
    "\n",
    "#replace with your algorithm_name/ECR repo from first cell\n",
    "container = '{}.dkr.ecr.{}.amazonaws.com/serverless-pretrained-byoc:latest'.format(account_id, region)\n",
    "instance_type = 'ml.c5d.18xlarge'\n",
    "\n",
    "print('Model name: ' + model_name)\n",
    "print('Model data Url: ' + model_url)\n",
    "print('Container image: ' + container)\n",
    "\n",
    "container = {\n",
    "    'Image': container\n",
    "}\n",
    "\n",
    "create_model_response = client.create_model(\n",
    "    ModelName = model_name,\n",
    "    ExecutionRoleArn = role,\n",
    "    Containers = [container])\n",
    "\n",
    "print(\"Model Arn: \" + create_model_response['ModelArn'])"
   ]
  },
  {
   "cell_type": "markdown",
   "id": "5afe484c",
   "metadata": {},
   "source": [
    "## Endpoint Config Creation\n",
    "\n",
    "Adjust serverless config within parameters in documentation."
   ]
  },
  {
   "cell_type": "code",
   "execution_count": 8,
   "id": "45d1615a",
   "metadata": {},
   "outputs": [
    {
     "name": "stdout",
     "output_type": "stream",
     "text": [
      "Endpoint config name: serverless-lgbm-ep-config2021-12-02-20-37-53\n",
      "Endpoint config Arn: arn:aws:sagemaker:us-west-2:474422712127:endpoint-config/serverless-lgbm-ep-config2021-12-02-20-37-53\n"
     ]
    }
   ],
   "source": [
    "endpoint_config_name = 'serverless-lgbm-ep-config' + strftime(\"%Y-%m-%d-%H-%M-%S\", gmtime())\n",
    "print('Endpoint config name: ' + endpoint_config_name)\n",
    "\n",
    "create_endpoint_config_response = client.create_endpoint_config(\n",
    "    EndpointConfigName = endpoint_config_name,\n",
    "    ProductionVariants=[\n",
    "        {\n",
    "            \"VariantName\": \"byoVariant\",\n",
    "            \"ModelName\": model_name,\n",
    "            \"ServerlessConfig\": {\n",
    "                \"MemorySizeInMB\": 4096,\n",
    "                \"MaxConcurrency\": 1,\n",
    "        }}])\n",
    "\n",
    "print(\"Endpoint config Arn: \" + create_endpoint_config_response['EndpointConfigArn'])"
   ]
  },
  {
   "cell_type": "markdown",
   "id": "927d3fc2",
   "metadata": {},
   "source": [
    "## Endpoint Creation"
   ]
  },
  {
   "cell_type": "code",
   "execution_count": 9,
   "id": "3a2841c6",
   "metadata": {},
   "outputs": [],
   "source": [
    "endpoint_name = \"serverless-lgbm-ep\"\n",
    "create_endpoint_response = client.create_endpoint(\n",
    "    EndpointName=endpoint_name,\n",
    "    EndpointConfigName=endpoint_config_name,\n",
    ")"
   ]
  },
  {
   "cell_type": "code",
   "execution_count": 10,
   "id": "010ba9be",
   "metadata": {},
   "outputs": [
    {
     "name": "stdout",
     "output_type": "stream",
     "text": [
      "Creating\n",
      "Creating\n",
      "Creating\n",
      "Creating\n",
      "Creating\n",
      "Creating\n",
      "Creating\n",
      "Creating\n",
      "Creating\n",
      "Creating\n",
      "Creating\n",
      "Creating\n",
      "Creating\n",
      "Creating\n",
      "Creating\n",
      "Creating\n",
      "Creating\n",
      "Creating\n",
      "Creating\n",
      "Creating\n",
      "InService\n"
     ]
    },
    {
     "data": {
      "text/plain": [
       "{'EndpointName': 'serverless-lgbm-ep',\n",
       " 'EndpointArn': 'arn:aws:sagemaker:us-west-2:474422712127:endpoint/serverless-lgbm-ep',\n",
       " 'EndpointConfigName': 'serverless-lgbm-ep-config2021-12-02-20-37-53',\n",
       " 'ProductionVariants': [{'VariantName': 'byoVariant',\n",
       "   'DeployedImages': [{'SpecifiedImage': '474422712127.dkr.ecr.us-west-2.amazonaws.com/serverless-pretrained-byoc:latest',\n",
       "     'ResolvedImage': '474422712127.dkr.ecr.us-west-2.amazonaws.com/serverless-pretrained-byoc@sha256:cbdf163a674023ec708a2f45969ea58025a1b157a54db1b54ca987d32ae6b132',\n",
       "     'ResolutionTime': datetime.datetime(2021, 12, 2, 20, 37, 58, 290000, tzinfo=tzlocal())}],\n",
       "   'CurrentWeight': 1.0,\n",
       "   'DesiredWeight': 1.0,\n",
       "   'CurrentInstanceCount': 0,\n",
       "   'CurrentServerlessConfig': {'MemorySizeInMB': 4096, 'MaxConcurrency': 1}}],\n",
       " 'EndpointStatus': 'InService',\n",
       " 'CreationTime': datetime.datetime(2021, 12, 2, 20, 37, 56, 857000, tzinfo=tzlocal()),\n",
       " 'LastModifiedTime': datetime.datetime(2021, 12, 2, 20, 43, 2, 533000, tzinfo=tzlocal()),\n",
       " 'ResponseMetadata': {'RequestId': '0f292cbc-97c7-4237-af16-6c8eb034582b',\n",
       "  'HTTPStatusCode': 200,\n",
       "  'HTTPHeaders': {'x-amzn-requestid': '0f292cbc-97c7-4237-af16-6c8eb034582b',\n",
       "   'content-type': 'application/x-amz-json-1.1',\n",
       "   'content-length': '787',\n",
       "   'date': 'Thu, 02 Dec 2021 20:43:03 GMT'},\n",
       "  'RetryAttempts': 0}}"
      ]
     },
     "execution_count": 10,
     "metadata": {},
     "output_type": "execute_result"
    }
   ],
   "source": [
    "# wait for endpoint to reach a terminal state (InService) using describe endpoint\n",
    "import time\n",
    "\n",
    "describe_endpoint_response = client.describe_endpoint(EndpointName=endpoint_name)\n",
    "\n",
    "while describe_endpoint_response[\"EndpointStatus\"] == \"Creating\":\n",
    "    describe_endpoint_response = client.describe_endpoint(EndpointName=endpoint_name)\n",
    "    print(describe_endpoint_response[\"EndpointStatus\"])\n",
    "    time.sleep(15)\n",
    "\n",
    "describe_endpoint_response"
   ]
  },
  {
   "cell_type": "markdown",
   "id": "27cde195",
   "metadata": {},
   "source": [
    "## Endpoint Invocation"
   ]
  },
  {
   "cell_type": "code",
   "execution_count": 13,
   "id": "413547c1",
   "metadata": {},
   "outputs": [
    {
     "data": {
      "text/plain": [
       "569.3555397493"
      ]
     },
     "execution_count": 13,
     "metadata": {},
     "output_type": "execute_result"
    }
   ],
   "source": [
    "import json\n",
    "content_type = \"application/json\"\n",
    "request_body = {\"input\": [[7.5, 3846.0, 9061.0, 0.579]]} #sample data point from dataset\n",
    "\n",
    "#Serialize data for endpoint\n",
    "data = json.loads(json.dumps(request_body))\n",
    "payload = json.dumps(data)\n",
    "\n",
    "#Endpoint invocation\n",
    "response = runtime.invoke_endpoint(\n",
    "    EndpointName=endpoint_name,\n",
    "    ContentType=content_type,\n",
    "    Body=payload)\n",
    "\n",
    "#Parse results\n",
    "result = json.loads(response['Body'].read().decode())['output'][0]\n",
    "result"
   ]
  },
  {
   "cell_type": "markdown",
   "id": "1f8d3c26",
   "metadata": {},
   "source": [
    "## Cleanup"
   ]
  },
  {
   "cell_type": "code",
   "execution_count": 33,
   "id": "af3240b8",
   "metadata": {},
   "outputs": [
    {
     "data": {
      "text/plain": [
       "{'ResponseMetadata': {'RequestId': '6ae68be4-b12f-4caa-aea1-a98ea4f0f422',\n",
       "  'HTTPStatusCode': 200,\n",
       "  'HTTPHeaders': {'x-amzn-requestid': '6ae68be4-b12f-4caa-aea1-a98ea4f0f422',\n",
       "   'content-type': 'application/x-amz-json-1.1',\n",
       "   'content-length': '0',\n",
       "   'date': 'Mon, 22 Nov 2021 19:32:01 GMT'},\n",
       "  'RetryAttempts': 0}}"
      ]
     },
     "execution_count": 33,
     "metadata": {},
     "output_type": "execute_result"
    }
   ],
   "source": [
    "client.delete_model(ModelName=model_name)\n",
    "client.delete_endpoint_config(EndpointConfigName=endpoint_config_name)\n",
    "client.delete_endpoint(EndpointName=endpoint_name)"
   ]
  }
 ],
 "metadata": {
  "kernelspec": {
   "display_name": "conda_python3",
   "language": "python",
   "name": "conda_python3"
  },
  "language_info": {
   "codemirror_mode": {
    "name": "ipython",
    "version": 3
   },
   "file_extension": ".py",
   "mimetype": "text/x-python",
   "name": "python",
   "nbconvert_exporter": "python",
   "pygments_lexer": "ipython3",
   "version": "3.6.13"
  }
 },
 "nbformat": 4,
 "nbformat_minor": 5
}
