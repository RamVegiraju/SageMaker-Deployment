{
 "cells": [
  {
   "cell_type": "markdown",
   "metadata": {},
   "source": [
    "# SageMaker Serverless Inference exa\n",
    "\n",
    "Amazon SageMaker Serverless Inference is a purpose-built inference option that makes it easy for customers to deploy and scale ML models. Serverless Inference is ideal for workloads which have idle periods between traffic spurts and can tolerate cold starts. Serverless endpoints also automatically launch compute resources and scale them in and out depending on traffic, eliminating the need to choose instance types or manage scaling policies.\n",
    "\n",
    "We will use a binary text classification example, which borrows from [this](https://github.com/huggingface/notebooks/tree/master/sagemaker/01_getting_started_pytorch) code sample: \n",
    "\n",
    "<b>Notebook Setting</b>\n",
    "- <b>SageMaker Classic Notebook Instance</b>: ml.m5.xlarge Notebook Instance & conda_python3 Kernel\n",
    "- <b>SageMaker Studio</b>: Python 3 (Data Science)\n",
    "- <b>Regions Available</b>: SageMaker Serverless Inference is currently available in the following regions: US East (Northern Virginia), US East (Ohio), US West (Oregon), EU (Ireland), Asia Pacific (Tokyo) and Asia Pacific (Sydney)"
   ]
  },
  {
   "cell_type": "markdown",
   "metadata": {},
   "source": [
    "## Table of Contents\n",
    "- Setup\n",
    "- Model Training\n",
    "- Deployment\n",
    "    - Model Creation\n",
    "    - Endpoint Configuration (Adjust for Serverless)\n",
    "    - Serverless Endpoint Creation\n",
    "    - Endpoint Invocation\n",
    "- Cleanup"
   ]
  },
  {
   "cell_type": "markdown",
   "metadata": {},
   "source": [
    "# Development Environment and Permissions "
   ]
  },
  {
   "cell_type": "markdown",
   "metadata": {},
   "source": [
    "## Setup\n",
    "\n",
    "For testing you need to properly configure your Notebook Role to have <b>SageMaker Full Access</b>."
   ]
  },
  {
   "cell_type": "markdown",
   "metadata": {},
   "source": [
    "Let's start by installing preview wheels of the Python SDK, boto and aws cli"
   ]
  },
  {
   "cell_type": "markdown",
   "metadata": {},
   "source": [
    "## Installation\n",
    "\n",
    "_*Note:* we only install the required libraries from Hugging Face and AWS. You also need PyTorch or Tensorflow, if you haven´t it installed_"
   ]
  },
  {
   "cell_type": "code",
   "execution_count": 2,
   "metadata": {},
   "outputs": [
    {
     "name": "stdout",
     "output_type": "stream",
     "text": [
      "/opt/conda/lib/python3.7/site-packages/secretstorage/dhcrypto.py:16: CryptographyDeprecationWarning: int_from_bytes is deprecated, use int.from_bytes instead\n",
      "  from cryptography.utils import int_from_bytes\n",
      "/opt/conda/lib/python3.7/site-packages/secretstorage/util.py:25: CryptographyDeprecationWarning: int_from_bytes is deprecated, use int.from_bytes instead\n",
      "  from cryptography.utils import int_from_bytes\n",
      "\u001b[31mERROR: pip's dependency resolver does not currently take into account all the packages that are installed. This behaviour is the source of the following dependency conflicts.\n",
      "pytest-astropy 0.8.0 requires pytest-cov>=2.0, which is not installed.\n",
      "pytest-astropy 0.8.0 requires pytest-filter-subpackage>=0.1, which is not installed.\n",
      "awscli 1.22.23 requires botocore==1.23.23, but you have botocore 1.23.24 which is incompatible.\n",
      "awscli 1.22.23 requires PyYAML<5.5,>=3.10, but you have pyyaml 6.0 which is incompatible.\n",
      "awscli 1.22.23 requires rsa<4.8,>=3.1.2, but you have rsa 4.8 which is incompatible.\u001b[0m\n",
      "\u001b[33mWARNING: Running pip as the 'root' user can result in broken permissions and conflicting behaviour with the system package manager. It is recommended to use a virtual environment instead: https://pip.pypa.io/warnings/venv\u001b[0m\n",
      "Note: you may need to restart the kernel to use updated packages.\n"
     ]
    }
   ],
   "source": [
    "%pip -q install torch torchvision boto3 sagemaker transformers datasets[s3] "
   ]
  },
  {
   "cell_type": "markdown",
   "metadata": {},
   "source": [
    "## Permissions"
   ]
  },
  {
   "cell_type": "markdown",
   "metadata": {},
   "source": [
    "_If you are going to use Sagemaker in a local environment. You need access to an IAM Role with the required permissions for Sagemaker. You can find [here](https://docs.aws.amazon.com/sagemaker/latest/dg/sagemaker-roles.html) more about it._"
   ]
  },
  {
   "cell_type": "markdown",
   "metadata": {},
   "source": [
    "Make sure Sagemaker version is >= 2.70.0"
   ]
  },
  {
   "cell_type": "code",
   "execution_count": 2,
   "metadata": {},
   "outputs": [
    {
     "name": "stdout",
     "output_type": "stream",
     "text": [
      "2.70.0\n"
     ]
    }
   ],
   "source": [
    "import sagemaker\n",
    "print(sagemaker.__version__)"
   ]
  },
  {
   "cell_type": "code",
   "execution_count": 3,
   "metadata": {},
   "outputs": [
    {
     "name": "stdout",
     "output_type": "stream",
     "text": [
      "sagemaker role arn: arn:aws:iam::757967535041:role/service-role/AmazonSageMaker-ExecutionRole-20211027T114497\n",
      "sagemaker bucket: sagemaker-us-east-1-757967535041\n",
      "sagemaker session region: us-east-1\n"
     ]
    }
   ],
   "source": [
    "sess = sagemaker.Session()\n",
    "# sagemaker session bucket -> used for uploading data, models and logs\n",
    "# sagemaker will automatically create this bucket if it not exists\n",
    "sagemaker_session_bucket=None\n",
    "if sagemaker_session_bucket is None and sess is not None:\n",
    "    # set to default bucket if a bucket name is not given\n",
    "    sagemaker_session_bucket = sess.default_bucket()\n",
    "\n",
    "role = sagemaker.get_execution_role()\n",
    "sess = sagemaker.Session(default_bucket=sagemaker_session_bucket)\n",
    "\n",
    "print(f\"sagemaker role arn: {role}\")\n",
    "print(f\"sagemaker bucket: {sess.default_bucket()}\")\n",
    "print(f\"sagemaker session region: {sess.boto_region_name}\")"
   ]
  },
  {
   "cell_type": "markdown",
   "metadata": {},
   "source": [
    "# Preprocessing\n",
    "\n",
    "We are using the `datasets` library to download and preprocess the `imdb` dataset. After preprocessing, the dataset will be uploaded to our `sagemaker_session_bucket` to be used within our training job. The [imdb](http://ai.stanford.edu/~amaas/data/sentiment/) dataset consists of 25000 training and 25000 testing highly polar movie reviews."
   ]
  },
  {
   "cell_type": "markdown",
   "metadata": {},
   "source": [
    "## Tokenization "
   ]
  },
  {
   "cell_type": "code",
   "execution_count": 4,
   "metadata": {},
   "outputs": [],
   "source": [
    "from datasets import load_dataset\n",
    "from transformers import AutoTokenizer\n",
    "\n",
    "# tokenizer used in preprocessing\n",
    "tokenizer_name = 'distilbert-base-uncased'\n",
    "\n",
    "# dataset used\n",
    "dataset_name = 'imdb'\n",
    "\n",
    "# s3 key prefix for the data\n",
    "s3_prefix = 'samples/datasets/imdb'"
   ]
  },
  {
   "cell_type": "code",
   "execution_count": 5,
   "metadata": {},
   "outputs": [
    {
     "name": "stderr",
     "output_type": "stream",
     "text": [
      "Reusing dataset imdb (/root/.cache/huggingface/datasets/imdb/plain_text/1.0.0/2fdd8b9bcadd6e7055e742a706876ba43f19faee861df134affd7a3f60fc38a1)\n"
     ]
    },
    {
     "data": {
      "application/vnd.jupyter.widget-view+json": {
       "model_id": "10e03602ce2248a5973d9ff2aa91e5fb",
       "version_major": 2,
       "version_minor": 0
      },
      "text/plain": [
       "  0%|          | 0/3 [00:00<?, ?it/s]"
      ]
     },
     "metadata": {},
     "output_type": "display_data"
    },
    {
     "name": "stderr",
     "output_type": "stream",
     "text": [
      "Reusing dataset imdb (/root/.cache/huggingface/datasets/imdb/plain_text/1.0.0/2fdd8b9bcadd6e7055e742a706876ba43f19faee861df134affd7a3f60fc38a1)\n"
     ]
    },
    {
     "data": {
      "application/vnd.jupyter.widget-view+json": {
       "model_id": "c3ae8a688bb2495eb2a617d5af815f9e",
       "version_major": 2,
       "version_minor": 0
      },
      "text/plain": [
       "  0%|          | 0/2 [00:00<?, ?it/s]"
      ]
     },
     "metadata": {},
     "output_type": "display_data"
    },
    {
     "name": "stderr",
     "output_type": "stream",
     "text": [
      "Loading cached shuffled indices for dataset at /root/.cache/huggingface/datasets/imdb/plain_text/1.0.0/2fdd8b9bcadd6e7055e742a706876ba43f19faee861df134affd7a3f60fc38a1/cache-835a70715e966d77.arrow\n",
      "Loading cached processed dataset at /root/.cache/huggingface/datasets/imdb/plain_text/1.0.0/2fdd8b9bcadd6e7055e742a706876ba43f19faee861df134affd7a3f60fc38a1/cache-7efcb6b6249ca54a.arrow\n"
     ]
    },
    {
     "data": {
      "application/vnd.jupyter.widget-view+json": {
       "model_id": "e6f8bccc9d8144289abda8fa3034115e",
       "version_major": 2,
       "version_minor": 0
      },
      "text/plain": [
       "  0%|          | 0/10 [00:00<?, ?ba/s]"
      ]
     },
     "metadata": {},
     "output_type": "display_data"
    }
   ],
   "source": [
    "# load dataset\n",
    "dataset = load_dataset(dataset_name)\n",
    "\n",
    "# download tokenizer\n",
    "tokenizer = AutoTokenizer.from_pretrained(tokenizer_name)\n",
    "\n",
    "# tokenizer helper function\n",
    "def tokenize(batch):\n",
    "    return tokenizer(batch['text'], padding='max_length', truncation=True)\n",
    "\n",
    "# load dataset\n",
    "train_dataset, test_dataset = load_dataset('imdb', split=['train', 'test'])\n",
    "test_dataset = test_dataset.shuffle().select(range(10000)) # smaller the size for test dataset to 10k \n",
    "\n",
    "\n",
    "# tokenize dataset\n",
    "train_dataset = train_dataset.map(tokenize, batched=True)\n",
    "test_dataset = test_dataset.map(tokenize, batched=True)\n",
    "\n",
    "# set format for pytorch\n",
    "train_dataset =  train_dataset.rename_column(\"label\", \"labels\")\n",
    "train_dataset.set_format('torch', columns=['input_ids', 'attention_mask', 'labels'])\n",
    "test_dataset = test_dataset.rename_column(\"label\", \"labels\")\n",
    "test_dataset.set_format('torch', columns=['input_ids', 'attention_mask', 'labels'])"
   ]
  },
  {
   "cell_type": "markdown",
   "metadata": {},
   "source": [
    "## Uploading data to `sagemaker_session_bucket`\n",
    "\n",
    "After we processed the `datasets` we are going to use the new `FileSystem` [integration](https://huggingface.co/docs/datasets/filesystems.html) to upload our dataset to S3."
   ]
  },
  {
   "cell_type": "code",
   "execution_count": 6,
   "metadata": {},
   "outputs": [],
   "source": [
    "import botocore\n",
    "from datasets.filesystems import S3FileSystem\n",
    "\n",
    "s3 = S3FileSystem()  \n",
    "\n",
    "# save train_dataset to s3\n",
    "training_input_path = f's3://{sess.default_bucket()}/{s3_prefix}/train'\n",
    "train_dataset.save_to_disk(training_input_path,fs=s3)\n",
    "\n",
    "# save test_dataset to s3\n",
    "test_input_path = f's3://{sess.default_bucket()}/{s3_prefix}/test'\n",
    "test_dataset.save_to_disk(test_input_path,fs=s3)\n"
   ]
  },
  {
   "cell_type": "markdown",
   "metadata": {},
   "source": [
    "# Fine-tuning & starting Sagemaker Training Job\n",
    "\n",
    "In order to create a sagemaker training job we need an `HuggingFace` Estimator. The Estimator handles end-to-end Amazon SageMaker training and deployment tasks. In a Estimator we define, which fine-tuning script should be used as `entry_point`, which `instance_type` should be used, which `hyperparameters` are passed in .....\n",
    "\n",
    "\n",
    "\n",
    "```python\n",
    "huggingface_estimator = HuggingFace(entry_point='train.py',\n",
    "                            source_dir='./scripts',\n",
    "                            base_job_name='huggingface-sdk-extension',\n",
    "                            instance_type='ml.p3.2xlarge',\n",
    "                            instance_count=1,\n",
    "                            transformers_version='4.4',\n",
    "                            pytorch_version='1.6',\n",
    "                            py_version='py36',\n",
    "                            role=role,\n",
    "                            hyperparameters = {'epochs': 1,\n",
    "                                               'train_batch_size': 32,\n",
    "                                               'model_name':'distilbert-base-uncased'\n",
    "                                                })\n",
    "```\n",
    "\n",
    "When we create a SageMaker training job, SageMaker takes care of starting and managing all the required ec2 instances for us with the `huggingface` container, uploads the provided fine-tuning script `train.py` and downloads the data from our `sagemaker_session_bucket` into the container at `/opt/ml/input/data`. Then, it starts the training job by running. \n",
    "\n",
    "```python\n",
    "/opt/conda/bin/python train.py --epochs 1 --model_name distilbert-base-uncased --train_batch_size 32\n",
    "```\n",
    "\n",
    "The `hyperparameters` you define in the `HuggingFace` estimator are passed in as named arguments. \n",
    "\n",
    "Sagemaker is providing useful properties about the training environment through various environment variables, including the following:\n",
    "\n",
    "* `SM_MODEL_DIR`: A string that represents the path where the training job writes the model artifacts to. After training, artifacts in this directory are uploaded to S3 for model hosting.\n",
    "\n",
    "* `SM_NUM_GPUS`: An integer representing the number of GPUs available to the host.\n",
    "\n",
    "* `SM_CHANNEL_XXXX:` A string that represents the path to the directory that contains the input data for the specified channel. For example, if you specify two input channels in the HuggingFace estimator’s fit call, named `train` and `test`, the environment variables `SM_CHANNEL_TRAIN` and `SM_CHANNEL_TEST` are set.\n",
    "\n",
    "\n",
    "To run your training job locally you can define `instance_type='local'` or `instance_type='local_gpu'` for gpu usage. _Note: this does not working within SageMaker Studio_\n"
   ]
  },
  {
   "cell_type": "code",
   "execution_count": 7,
   "metadata": {},
   "outputs": [
    {
     "name": "stdout",
     "output_type": "stream",
     "text": [
      "\u001b[34mfrom\u001b[39;49;00m \u001b[04m\u001b[36mtransformers\u001b[39;49;00m \u001b[34mimport\u001b[39;49;00m AutoModelForSequenceClassification, Trainer, TrainingArguments, AutoTokenizer\n",
      "\u001b[34mfrom\u001b[39;49;00m \u001b[04m\u001b[36msklearn\u001b[39;49;00m\u001b[04m\u001b[36m.\u001b[39;49;00m\u001b[04m\u001b[36mmetrics\u001b[39;49;00m \u001b[34mimport\u001b[39;49;00m accuracy_score, precision_recall_fscore_support\n",
      "\u001b[34mfrom\u001b[39;49;00m \u001b[04m\u001b[36mdatasets\u001b[39;49;00m \u001b[34mimport\u001b[39;49;00m load_from_disk\n",
      "\u001b[34mimport\u001b[39;49;00m \u001b[04m\u001b[36mrandom\u001b[39;49;00m\n",
      "\u001b[34mimport\u001b[39;49;00m \u001b[04m\u001b[36mlogging\u001b[39;49;00m\n",
      "\u001b[34mimport\u001b[39;49;00m \u001b[04m\u001b[36msys\u001b[39;49;00m\n",
      "\u001b[34mimport\u001b[39;49;00m \u001b[04m\u001b[36margparse\u001b[39;49;00m\n",
      "\u001b[34mimport\u001b[39;49;00m \u001b[04m\u001b[36mos\u001b[39;49;00m\n",
      "\u001b[34mimport\u001b[39;49;00m \u001b[04m\u001b[36mtorch\u001b[39;49;00m\n",
      "\n",
      "\u001b[34mif\u001b[39;49;00m \u001b[31m__name__\u001b[39;49;00m == \u001b[33m\"\u001b[39;49;00m\u001b[33m__main__\u001b[39;49;00m\u001b[33m\"\u001b[39;49;00m:\n",
      "\n",
      "    parser = argparse.ArgumentParser()\n",
      "\n",
      "    \u001b[37m# hyperparameters sent by the client are passed as command-line arguments to the script.\u001b[39;49;00m\n",
      "    parser.add_argument(\u001b[33m\"\u001b[39;49;00m\u001b[33m--epochs\u001b[39;49;00m\u001b[33m\"\u001b[39;49;00m, \u001b[36mtype\u001b[39;49;00m=\u001b[36mint\u001b[39;49;00m, default=\u001b[34m3\u001b[39;49;00m)\n",
      "    parser.add_argument(\u001b[33m\"\u001b[39;49;00m\u001b[33m--train_batch_size\u001b[39;49;00m\u001b[33m\"\u001b[39;49;00m, \u001b[36mtype\u001b[39;49;00m=\u001b[36mint\u001b[39;49;00m, default=\u001b[34m32\u001b[39;49;00m)\n",
      "    parser.add_argument(\u001b[33m\"\u001b[39;49;00m\u001b[33m--eval_batch_size\u001b[39;49;00m\u001b[33m\"\u001b[39;49;00m, \u001b[36mtype\u001b[39;49;00m=\u001b[36mint\u001b[39;49;00m, default=\u001b[34m64\u001b[39;49;00m)\n",
      "    parser.add_argument(\u001b[33m\"\u001b[39;49;00m\u001b[33m--warmup_steps\u001b[39;49;00m\u001b[33m\"\u001b[39;49;00m, \u001b[36mtype\u001b[39;49;00m=\u001b[36mint\u001b[39;49;00m, default=\u001b[34m500\u001b[39;49;00m)\n",
      "    parser.add_argument(\u001b[33m\"\u001b[39;49;00m\u001b[33m--model_name\u001b[39;49;00m\u001b[33m\"\u001b[39;49;00m, \u001b[36mtype\u001b[39;49;00m=\u001b[36mstr\u001b[39;49;00m)\n",
      "    parser.add_argument(\u001b[33m\"\u001b[39;49;00m\u001b[33m--learning_rate\u001b[39;49;00m\u001b[33m\"\u001b[39;49;00m, \u001b[36mtype\u001b[39;49;00m=\u001b[36mstr\u001b[39;49;00m, default=\u001b[34m5e-5\u001b[39;49;00m)\n",
      "\n",
      "    \u001b[37m# Data, model, and output directories\u001b[39;49;00m\n",
      "    parser.add_argument(\u001b[33m\"\u001b[39;49;00m\u001b[33m--output_data_dir\u001b[39;49;00m\u001b[33m\"\u001b[39;49;00m, \u001b[36mtype\u001b[39;49;00m=\u001b[36mstr\u001b[39;49;00m, default=os.environ[\u001b[33m\"\u001b[39;49;00m\u001b[33mSM_OUTPUT_DATA_DIR\u001b[39;49;00m\u001b[33m\"\u001b[39;49;00m])\n",
      "    parser.add_argument(\u001b[33m\"\u001b[39;49;00m\u001b[33m--model_dir\u001b[39;49;00m\u001b[33m\"\u001b[39;49;00m, \u001b[36mtype\u001b[39;49;00m=\u001b[36mstr\u001b[39;49;00m, default=os.environ[\u001b[33m\"\u001b[39;49;00m\u001b[33mSM_MODEL_DIR\u001b[39;49;00m\u001b[33m\"\u001b[39;49;00m])\n",
      "    parser.add_argument(\u001b[33m\"\u001b[39;49;00m\u001b[33m--n_gpus\u001b[39;49;00m\u001b[33m\"\u001b[39;49;00m, \u001b[36mtype\u001b[39;49;00m=\u001b[36mstr\u001b[39;49;00m, default=os.environ[\u001b[33m\"\u001b[39;49;00m\u001b[33mSM_NUM_GPUS\u001b[39;49;00m\u001b[33m\"\u001b[39;49;00m])\n",
      "    parser.add_argument(\u001b[33m\"\u001b[39;49;00m\u001b[33m--training_dir\u001b[39;49;00m\u001b[33m\"\u001b[39;49;00m, \u001b[36mtype\u001b[39;49;00m=\u001b[36mstr\u001b[39;49;00m, default=os.environ[\u001b[33m\"\u001b[39;49;00m\u001b[33mSM_CHANNEL_TRAIN\u001b[39;49;00m\u001b[33m\"\u001b[39;49;00m])\n",
      "    parser.add_argument(\u001b[33m\"\u001b[39;49;00m\u001b[33m--test_dir\u001b[39;49;00m\u001b[33m\"\u001b[39;49;00m, \u001b[36mtype\u001b[39;49;00m=\u001b[36mstr\u001b[39;49;00m, default=os.environ[\u001b[33m\"\u001b[39;49;00m\u001b[33mSM_CHANNEL_TEST\u001b[39;49;00m\u001b[33m\"\u001b[39;49;00m])\n",
      "\n",
      "    args, _ = parser.parse_known_args()\n",
      "\n",
      "    \u001b[37m# Set up logging\u001b[39;49;00m\n",
      "    logger = logging.getLogger(\u001b[31m__name__\u001b[39;49;00m)\n",
      "\n",
      "    logging.basicConfig(\n",
      "        level=logging.getLevelName(\u001b[33m\"\u001b[39;49;00m\u001b[33mINFO\u001b[39;49;00m\u001b[33m\"\u001b[39;49;00m),\n",
      "        handlers=[logging.StreamHandler(sys.stdout)],\n",
      "        \u001b[36mformat\u001b[39;49;00m=\u001b[33m\"\u001b[39;49;00m\u001b[33m%(asctime)s\u001b[39;49;00m\u001b[33m - \u001b[39;49;00m\u001b[33m%(name)s\u001b[39;49;00m\u001b[33m - \u001b[39;49;00m\u001b[33m%(levelname)s\u001b[39;49;00m\u001b[33m - \u001b[39;49;00m\u001b[33m%(message)s\u001b[39;49;00m\u001b[33m\"\u001b[39;49;00m,\n",
      "    )\n",
      "\n",
      "    \u001b[37m# load datasets\u001b[39;49;00m\n",
      "    train_dataset = load_from_disk(args.training_dir)\n",
      "    test_dataset = load_from_disk(args.test_dir)\n",
      "\n",
      "    logger.info(\u001b[33mf\u001b[39;49;00m\u001b[33m\"\u001b[39;49;00m\u001b[33m loaded train_dataset length is: \u001b[39;49;00m\u001b[33m{\u001b[39;49;00m\u001b[33mlen(train_dataset)}\u001b[39;49;00m\u001b[33m\"\u001b[39;49;00m)\n",
      "    logger.info(\u001b[33mf\u001b[39;49;00m\u001b[33m\"\u001b[39;49;00m\u001b[33m loaded test_dataset length is: \u001b[39;49;00m\u001b[33m{\u001b[39;49;00m\u001b[33mlen(test_dataset)}\u001b[39;49;00m\u001b[33m\"\u001b[39;49;00m)\n",
      "\n",
      "    \u001b[37m# compute metrics function for binary classification\u001b[39;49;00m\n",
      "    \u001b[34mdef\u001b[39;49;00m \u001b[32mcompute_metrics\u001b[39;49;00m(pred):\n",
      "        labels = pred.label_ids\n",
      "        preds = pred.predictions.argmax(-\u001b[34m1\u001b[39;49;00m)\n",
      "        precision, recall, f1, _ = precision_recall_fscore_support(labels, preds, average=\u001b[33m\"\u001b[39;49;00m\u001b[33mbinary\u001b[39;49;00m\u001b[33m\"\u001b[39;49;00m)\n",
      "        acc = accuracy_score(labels, preds)\n",
      "        \u001b[34mreturn\u001b[39;49;00m {\u001b[33m\"\u001b[39;49;00m\u001b[33maccuracy\u001b[39;49;00m\u001b[33m\"\u001b[39;49;00m: acc, \u001b[33m\"\u001b[39;49;00m\u001b[33mf1\u001b[39;49;00m\u001b[33m\"\u001b[39;49;00m: f1, \u001b[33m\"\u001b[39;49;00m\u001b[33mprecision\u001b[39;49;00m\u001b[33m\"\u001b[39;49;00m: precision, \u001b[33m\"\u001b[39;49;00m\u001b[33mrecall\u001b[39;49;00m\u001b[33m\"\u001b[39;49;00m: recall}\n",
      "\n",
      "    \u001b[37m# download model from model hub\u001b[39;49;00m\n",
      "    model = AutoModelForSequenceClassification.from_pretrained(args.model_name)\n",
      "    tokenizer = AutoTokenizer.from_pretrained(args.model_name)\n",
      "\n",
      "    \u001b[37m# define training args\u001b[39;49;00m\n",
      "    training_args = TrainingArguments(\n",
      "        output_dir=args.model_dir,\n",
      "        num_train_epochs=args.epochs,\n",
      "        per_device_train_batch_size=args.train_batch_size,\n",
      "        per_device_eval_batch_size=args.eval_batch_size,\n",
      "        warmup_steps=args.warmup_steps,\n",
      "        evaluation_strategy=\u001b[33m\"\u001b[39;49;00m\u001b[33mepoch\u001b[39;49;00m\u001b[33m\"\u001b[39;49;00m,\n",
      "        logging_dir=\u001b[33mf\u001b[39;49;00m\u001b[33m\"\u001b[39;49;00m\u001b[33m{args.output_data_dir}\u001b[39;49;00m\u001b[33m/logs\u001b[39;49;00m\u001b[33m\"\u001b[39;49;00m,\n",
      "        learning_rate=\u001b[36mfloat\u001b[39;49;00m(args.learning_rate),\n",
      "    )\n",
      "\n",
      "    \u001b[37m# create Trainer instance\u001b[39;49;00m\n",
      "    trainer = Trainer(\n",
      "        model=model,\n",
      "        args=training_args,\n",
      "        compute_metrics=compute_metrics,\n",
      "        train_dataset=train_dataset,\n",
      "        eval_dataset=test_dataset,\n",
      "        tokenizer=tokenizer,\n",
      "    )\n",
      "\n",
      "    \u001b[37m# train model\u001b[39;49;00m\n",
      "    trainer.train()\n",
      "\n",
      "    \u001b[37m# evaluate model\u001b[39;49;00m\n",
      "    eval_result = trainer.evaluate(eval_dataset=test_dataset)\n",
      "\n",
      "    \u001b[37m# writes eval result to file which can be accessed later in s3 ouput\u001b[39;49;00m\n",
      "    \u001b[34mwith\u001b[39;49;00m \u001b[36mopen\u001b[39;49;00m(os.path.join(args.output_data_dir, \u001b[33m\"\u001b[39;49;00m\u001b[33meval_results.txt\u001b[39;49;00m\u001b[33m\"\u001b[39;49;00m), \u001b[33m\"\u001b[39;49;00m\u001b[33mw\u001b[39;49;00m\u001b[33m\"\u001b[39;49;00m) \u001b[34mas\u001b[39;49;00m writer:\n",
      "        \u001b[36mprint\u001b[39;49;00m(\u001b[33mf\u001b[39;49;00m\u001b[33m\"\u001b[39;49;00m\u001b[33m***** Eval results *****\u001b[39;49;00m\u001b[33m\"\u001b[39;49;00m)\n",
      "        \u001b[34mfor\u001b[39;49;00m key, value \u001b[35min\u001b[39;49;00m \u001b[36msorted\u001b[39;49;00m(eval_result.items()):\n",
      "            writer.write(\u001b[33mf\u001b[39;49;00m\u001b[33m\"\u001b[39;49;00m\u001b[33m{key}\u001b[39;49;00m\u001b[33m = \u001b[39;49;00m\u001b[33m{value}\u001b[39;49;00m\u001b[33m\\n\u001b[39;49;00m\u001b[33m\"\u001b[39;49;00m)\n",
      "\n",
      "    \u001b[37m# Saves the model to s3\u001b[39;49;00m\n",
      "    trainer.save_model(args.model_dir)\n"
     ]
    }
   ],
   "source": [
    "!pygmentize ./scripts/train.py"
   ]
  },
  {
   "cell_type": "markdown",
   "metadata": {},
   "source": [
    "## Creating an Estimator and start a training job"
   ]
  },
  {
   "cell_type": "code",
   "execution_count": 8,
   "metadata": {},
   "outputs": [],
   "source": [
    "from sagemaker.huggingface import HuggingFace\n",
    "\n",
    "# hyperparameters, which are passed into the training job\n",
    "hyperparameters={'epochs': 1,\n",
    "                 'train_batch_size': 32,\n",
    "                 'model_name':'distilbert-base-uncased'\n",
    "                 }"
   ]
  },
  {
   "cell_type": "code",
   "execution_count": 9,
   "metadata": {},
   "outputs": [],
   "source": [
    "huggingface_estimator = HuggingFace(entry_point='train.py',\n",
    "                            source_dir='./scripts',\n",
    "                            instance_type='ml.p3.2xlarge',\n",
    "                            instance_count=1,\n",
    "                            role=role,\n",
    "                            transformers_version='4.6',\n",
    "                            pytorch_version='1.7',\n",
    "                            py_version='py36',\n",
    "                            hyperparameters = hyperparameters)"
   ]
  },
  {
   "cell_type": "code",
   "execution_count": 10,
   "metadata": {
    "scrolled": true
   },
   "outputs": [
    {
     "name": "stdout",
     "output_type": "stream",
     "text": [
      "2022-01-12 23:08:22 Starting - Starting the training job...\n",
      "2022-01-12 23:08:46 Starting - Launching requested ML instancesProfilerReport-1642028902: InProgress\n",
      "......\n",
      "2022-01-12 23:09:46 Starting - Preparing the instances for training.........\n",
      "2022-01-12 23:11:14 Downloading - Downloading input data......\n",
      "2022-01-12 23:12:23 Training - Downloading the training image...............\n",
      "2022-01-12 23:14:48 Training - Training image download completed. Training in progress.\u001b[34mbash: cannot set terminal process group (-1): Inappropriate ioctl for device\u001b[0m\n",
      "\u001b[34mbash: no job control in this shell\u001b[0m\n",
      "\u001b[34m2022-01-12 23:14:43,925 sagemaker-training-toolkit INFO     Imported framework sagemaker_pytorch_container.training\u001b[0m\n",
      "\u001b[34m2022-01-12 23:14:43,951 sagemaker_pytorch_container.training INFO     Block until all host DNS lookups succeed.\u001b[0m\n",
      "\u001b[34m2022-01-12 23:14:46,970 sagemaker_pytorch_container.training INFO     Invoking user training script.\u001b[0m\n",
      "\u001b[34m2022-01-12 23:14:47,414 sagemaker-training-toolkit INFO     Invoking user script\u001b[0m\n",
      "\u001b[34mTraining Env:\u001b[0m\n",
      "\u001b[34m{\n",
      "    \"additional_framework_parameters\": {},\n",
      "    \"channel_input_dirs\": {\n",
      "        \"test\": \"/opt/ml/input/data/test\",\n",
      "        \"train\": \"/opt/ml/input/data/train\"\n",
      "    },\n",
      "    \"current_host\": \"algo-1\",\n",
      "    \"framework_module\": \"sagemaker_pytorch_container.training:main\",\n",
      "    \"hosts\": [\n",
      "        \"algo-1\"\n",
      "    ],\n",
      "    \"hyperparameters\": {\n",
      "        \"train_batch_size\": 32,\n",
      "        \"model_name\": \"distilbert-base-uncased\",\n",
      "        \"epochs\": 1\n",
      "    },\n",
      "    \"input_config_dir\": \"/opt/ml/input/config\",\n",
      "    \"input_data_config\": {\n",
      "        \"test\": {\n",
      "            \"TrainingInputMode\": \"File\",\n",
      "            \"S3DistributionType\": \"FullyReplicated\",\n",
      "            \"RecordWrapperType\": \"None\"\n",
      "        },\n",
      "        \"train\": {\n",
      "            \"TrainingInputMode\": \"File\",\n",
      "            \"S3DistributionType\": \"FullyReplicated\",\n",
      "            \"RecordWrapperType\": \"None\"\n",
      "        }\n",
      "    },\n",
      "    \"input_dir\": \"/opt/ml/input\",\n",
      "    \"is_master\": true,\n",
      "    \"job_name\": \"huggingface-pytorch-training-2022-01-12-23-08-22-234\",\n",
      "    \"log_level\": 20,\n",
      "    \"master_hostname\": \"algo-1\",\n",
      "    \"model_dir\": \"/opt/ml/model\",\n",
      "    \"module_dir\": \"s3://sagemaker-us-east-1-757967535041/huggingface-pytorch-training-2022-01-12-23-08-22-234/source/sourcedir.tar.gz\",\n",
      "    \"module_name\": \"train\",\n",
      "    \"network_interface_name\": \"eth0\",\n",
      "    \"num_cpus\": 8,\n",
      "    \"num_gpus\": 1,\n",
      "    \"output_data_dir\": \"/opt/ml/output/data\",\n",
      "    \"output_dir\": \"/opt/ml/output\",\n",
      "    \"output_intermediate_dir\": \"/opt/ml/output/intermediate\",\n",
      "    \"resource_config\": {\n",
      "        \"current_host\": \"algo-1\",\n",
      "        \"hosts\": [\n",
      "            \"algo-1\"\n",
      "        ],\n",
      "        \"network_interface_name\": \"eth0\"\n",
      "    },\n",
      "    \"user_entry_point\": \"train.py\"\u001b[0m\n",
      "\u001b[34m}\u001b[0m\n",
      "\u001b[34mEnvironment variables:\u001b[0m\n",
      "\u001b[34mSM_HOSTS=[\"algo-1\"]\u001b[0m\n",
      "\u001b[34mSM_NETWORK_INTERFACE_NAME=eth0\u001b[0m\n",
      "\u001b[34mSM_HPS={\"epochs\":1,\"model_name\":\"distilbert-base-uncased\",\"train_batch_size\":32}\u001b[0m\n",
      "\u001b[34mSM_USER_ENTRY_POINT=train.py\u001b[0m\n",
      "\u001b[34mSM_FRAMEWORK_PARAMS={}\u001b[0m\n",
      "\u001b[34mSM_RESOURCE_CONFIG={\"current_host\":\"algo-1\",\"hosts\":[\"algo-1\"],\"network_interface_name\":\"eth0\"}\u001b[0m\n",
      "\u001b[34mSM_INPUT_DATA_CONFIG={\"test\":{\"RecordWrapperType\":\"None\",\"S3DistributionType\":\"FullyReplicated\",\"TrainingInputMode\":\"File\"},\"train\":{\"RecordWrapperType\":\"None\",\"S3DistributionType\":\"FullyReplicated\",\"TrainingInputMode\":\"File\"}}\u001b[0m\n",
      "\u001b[34mSM_OUTPUT_DATA_DIR=/opt/ml/output/data\u001b[0m\n",
      "\u001b[34mSM_CHANNELS=[\"test\",\"train\"]\u001b[0m\n",
      "\u001b[34mSM_CURRENT_HOST=algo-1\u001b[0m\n",
      "\u001b[34mSM_MODULE_NAME=train\u001b[0m\n",
      "\u001b[34mSM_LOG_LEVEL=20\u001b[0m\n",
      "\u001b[34mSM_FRAMEWORK_MODULE=sagemaker_pytorch_container.training:main\u001b[0m\n",
      "\u001b[34mSM_INPUT_DIR=/opt/ml/input\u001b[0m\n",
      "\u001b[34mSM_INPUT_CONFIG_DIR=/opt/ml/input/config\u001b[0m\n",
      "\u001b[34mSM_OUTPUT_DIR=/opt/ml/output\u001b[0m\n",
      "\u001b[34mSM_NUM_CPUS=8\u001b[0m\n",
      "\u001b[34mSM_NUM_GPUS=1\u001b[0m\n",
      "\u001b[34mSM_MODEL_DIR=/opt/ml/model\u001b[0m\n",
      "\u001b[34mSM_MODULE_DIR=s3://sagemaker-us-east-1-757967535041/huggingface-pytorch-training-2022-01-12-23-08-22-234/source/sourcedir.tar.gz\u001b[0m\n",
      "\u001b[34mSM_TRAINING_ENV={\"additional_framework_parameters\":{},\"channel_input_dirs\":{\"test\":\"/opt/ml/input/data/test\",\"train\":\"/opt/ml/input/data/train\"},\"current_host\":\"algo-1\",\"framework_module\":\"sagemaker_pytorch_container.training:main\",\"hosts\":[\"algo-1\"],\"hyperparameters\":{\"epochs\":1,\"model_name\":\"distilbert-base-uncased\",\"train_batch_size\":32},\"input_config_dir\":\"/opt/ml/input/config\",\"input_data_config\":{\"test\":{\"RecordWrapperType\":\"None\",\"S3DistributionType\":\"FullyReplicated\",\"TrainingInputMode\":\"File\"},\"train\":{\"RecordWrapperType\":\"None\",\"S3DistributionType\":\"FullyReplicated\",\"TrainingInputMode\":\"File\"}},\"input_dir\":\"/opt/ml/input\",\"is_master\":true,\"job_name\":\"huggingface-pytorch-training-2022-01-12-23-08-22-234\",\"log_level\":20,\"master_hostname\":\"algo-1\",\"model_dir\":\"/opt/ml/model\",\"module_dir\":\"s3://sagemaker-us-east-1-757967535041/huggingface-pytorch-training-2022-01-12-23-08-22-234/source/sourcedir.tar.gz\",\"module_name\":\"train\",\"network_interface_name\":\"eth0\",\"num_cpus\":8,\"num_gpus\":1,\"output_data_dir\":\"/opt/ml/output/data\",\"output_dir\":\"/opt/ml/output\",\"output_intermediate_dir\":\"/opt/ml/output/intermediate\",\"resource_config\":{\"current_host\":\"algo-1\",\"hosts\":[\"algo-1\"],\"network_interface_name\":\"eth0\"},\"user_entry_point\":\"train.py\"}\u001b[0m\n",
      "\u001b[34mSM_USER_ARGS=[\"--epochs\",\"1\",\"--model_name\",\"distilbert-base-uncased\",\"--train_batch_size\",\"32\"]\u001b[0m\n",
      "\u001b[34mSM_OUTPUT_INTERMEDIATE_DIR=/opt/ml/output/intermediate\u001b[0m\n",
      "\u001b[34mSM_CHANNEL_TEST=/opt/ml/input/data/test\u001b[0m\n",
      "\u001b[34mSM_CHANNEL_TRAIN=/opt/ml/input/data/train\u001b[0m\n",
      "\u001b[34mSM_HP_TRAIN_BATCH_SIZE=32\u001b[0m\n",
      "\u001b[34mSM_HP_MODEL_NAME=distilbert-base-uncased\u001b[0m\n",
      "\u001b[34mSM_HP_EPOCHS=1\u001b[0m\n",
      "\u001b[34mPYTHONPATH=/opt/ml/code:/opt/conda/bin:/opt/conda/lib/python36.zip:/opt/conda/lib/python3.6:/opt/conda/lib/python3.6/lib-dynload:/opt/conda/lib/python3.6/site-packages\u001b[0m\n",
      "\u001b[34mInvoking script with the following command:\u001b[0m\n",
      "\u001b[34m/opt/conda/bin/python3.6 train.py --epochs 1 --model_name distilbert-base-uncased --train_batch_size 32\u001b[0m\n",
      "\u001b[34m2022-01-12 23:14:52,880 - __main__ - INFO -  loaded train_dataset length is: 25000\u001b[0m\n",
      "\u001b[34m2022-01-12 23:14:52,880 - __main__ - INFO -  loaded test_dataset length is: 10000\u001b[0m\n",
      "\u001b[34m2022-01-12 23:14:52,915 - filelock - INFO - Lock 139676629067312 acquired on /root/.cache/huggingface/transformers/23454919702d26495337f3da04d1655c7ee010d5ec9d77bdb9e399e00302c0a1.91b885ab15d631bf9cee9dc9d25ece0afd932f2f5130eba28f2055b2220c0333.lock\u001b[0m\n",
      "\u001b[34m2022-01-12 23:14:52,942 - filelock - INFO - Lock 139676629067312 released on /root/.cache/huggingface/transformers/23454919702d26495337f3da04d1655c7ee010d5ec9d77bdb9e399e00302c0a1.91b885ab15d631bf9cee9dc9d25ece0afd932f2f5130eba28f2055b2220c0333.lock\u001b[0m\n",
      "\u001b[34m2022-01-12 23:14:52,970 - filelock - INFO - Lock 139676523005096 acquired on /root/.cache/huggingface/transformers/9c169103d7e5a73936dd2b627e42851bec0831212b677c637033ee4bce9ab5ee.126183e36667471617ae2f0835fab707baa54b731f991507ebbb55ea85adb12a.lock\u001b[0m\n",
      "\u001b[34m2022-01-12 23:14:58,273 - filelock - INFO - Lock 139676523005096 released on /root/.cache/huggingface/transformers/9c169103d7e5a73936dd2b627e42851bec0831212b677c637033ee4bce9ab5ee.126183e36667471617ae2f0835fab707baa54b731f991507ebbb55ea85adb12a.lock\u001b[0m\n",
      "\u001b[34mSome weights of the model checkpoint at distilbert-base-uncased were not used when initializing DistilBertForSequenceClassification: ['vocab_transform.weight', 'vocab_projector.weight', 'vocab_projector.bias', 'vocab_layer_norm.bias', 'vocab_transform.bias', 'vocab_layer_norm.weight']\u001b[0m\n",
      "\u001b[34m- This IS expected if you are initializing DistilBertForSequenceClassification from the checkpoint of a model trained on another task or with another architecture (e.g. initializing a BertForSequenceClassification model from a BertForPreTraining model).\u001b[0m\n",
      "\u001b[34m- This IS NOT expected if you are initializing DistilBertForSequenceClassification from the checkpoint of a model that you expect to be exactly identical (initializing a BertForSequenceClassification model from a BertForSequenceClassification model).\u001b[0m\n",
      "\u001b[34mSome weights of DistilBertForSequenceClassification were not initialized from the model checkpoint at distilbert-base-uncased and are newly initialized: ['pre_classifier.bias', 'pre_classifier.weight', 'classifier.weight', 'classifier.bias']\u001b[0m\n",
      "\u001b[34mYou should probably TRAIN this model on a down-stream task to be able to use it for predictions and inference.\u001b[0m\n",
      "\u001b[34m2022-01-12 23:14:58,994 - filelock - INFO - Lock 139676522576864 acquired on /root/.cache/huggingface/transformers/0e1bbfda7f63a99bb52e3915dcf10c3c92122b827d92eb2d34ce94ee79ba486c.d789d64ebfe299b0e416afc4a169632f903f693095b4629a7ea271d5a0cf2c99.lock\u001b[0m\n",
      "\u001b[34m2022-01-12 23:14:59,026 - filelock - INFO - Lock 139676522576864 released on /root/.cache/huggingface/transformers/0e1bbfda7f63a99bb52e3915dcf10c3c92122b827d92eb2d34ce94ee79ba486c.d789d64ebfe299b0e416afc4a169632f903f693095b4629a7ea271d5a0cf2c99.lock\u001b[0m\n",
      "\u001b[34m2022-01-12 23:14:59,052 - filelock - INFO - Lock 139676522574288 acquired on /root/.cache/huggingface/transformers/75abb59d7a06f4f640158a9bfcde005264e59e8d566781ab1415b139d2e4c603.7f2721073f19841be16f41b0a70b600ca6b880c8f3df6f3535cbc704371bdfa4.lock\u001b[0m\n",
      "\u001b[34m2022-01-12 23:14:59,089 - filelock - INFO - Lock 139676522574288 released on /root/.cache/huggingface/transformers/75abb59d7a06f4f640158a9bfcde005264e59e8d566781ab1415b139d2e4c603.7f2721073f19841be16f41b0a70b600ca6b880c8f3df6f3535cbc704371bdfa4.lock\u001b[0m\n",
      "\u001b[34m2022-01-12 23:14:59,167 - filelock - INFO - Lock 139676522576864 acquired on /root/.cache/huggingface/transformers/8c8624b8ac8aa99c60c912161f8332de003484428c47906d7ff7eb7f73eecdbb.20430bd8e10ef77a7d2977accefe796051e01bc2fc4aa146bc862997a1a15e79.lock\u001b[0m\n",
      "\u001b[34m2022-01-12 23:14:59,197 - filelock - INFO - Lock 139676522576864 released on /root/.cache/huggingface/transformers/8c8624b8ac8aa99c60c912161f8332de003484428c47906d7ff7eb7f73eecdbb.20430bd8e10ef77a7d2977accefe796051e01bc2fc4aa146bc862997a1a15e79.lock\u001b[0m\n",
      "\u001b[34m[2022-01-12 23:15:04.064 algo-1:26 INFO utils.py:27] RULE_JOB_STOP_SIGNAL_FILENAME: None\u001b[0m\n",
      "\u001b[34m[2022-01-12 23:15:04.229 algo-1:26 INFO profiler_config_parser.py:102] User has disabled profiler.\u001b[0m\n",
      "\u001b[34m[2022-01-12 23:15:04.230 algo-1:26 INFO json_config.py:91] Creating hook from json_config at /opt/ml/input/config/debughookconfig.json.\u001b[0m\n",
      "\u001b[34m[2022-01-12 23:15:04.230 algo-1:26 INFO hook.py:201] tensorboard_dir has not been set for the hook. SMDebug will not be exporting tensorboard summaries.\u001b[0m\n",
      "\u001b[34m[2022-01-12 23:15:04.235 algo-1:26 INFO hook.py:255] Saving to /opt/ml/output/tensors\u001b[0m\n",
      "\u001b[34m[2022-01-12 23:15:04.235 algo-1:26 INFO state_store.py:77] The checkpoint config file /opt/ml/input/config/checkpointconfig.json does not exist.\u001b[0m\n",
      "\u001b[34m[2022-01-12 23:15:04.455 algo-1:26 INFO hook.py:591] name:distilbert.embeddings.word_embeddings.weight count_params:23440896\u001b[0m\n",
      "\u001b[34m[2022-01-12 23:15:04.455 algo-1:26 INFO hook.py:591] name:distilbert.embeddings.position_embeddings.weight count_params:393216\u001b[0m\n",
      "\u001b[34m[2022-01-12 23:15:04.455 algo-1:26 INFO hook.py:591] name:distilbert.embeddings.LayerNorm.weight count_params:768\u001b[0m\n",
      "\u001b[34m[2022-01-12 23:15:04.456 algo-1:26 INFO hook.py:591] name:distilbert.embeddings.LayerNorm.bias count_params:768\u001b[0m\n",
      "\u001b[34m[2022-01-12 23:15:04.456 algo-1:26 INFO hook.py:591] name:distilbert.transformer.layer.0.attention.q_lin.weight count_params:589824\u001b[0m\n",
      "\u001b[34m[2022-01-12 23:15:04.456 algo-1:26 INFO hook.py:591] name:distilbert.transformer.layer.0.attention.q_lin.bias count_params:768\u001b[0m\n",
      "\u001b[34m[2022-01-12 23:15:04.456 algo-1:26 INFO hook.py:591] name:distilbert.transformer.layer.0.attention.k_lin.weight count_params:589824\u001b[0m\n",
      "\u001b[34m[2022-01-12 23:15:04.456 algo-1:26 INFO hook.py:591] name:distilbert.transformer.layer.0.attention.k_lin.bias count_params:768\u001b[0m\n",
      "\u001b[34m[2022-01-12 23:15:04.457 algo-1:26 INFO hook.py:591] name:distilbert.transformer.layer.0.attention.v_lin.weight count_params:589824\u001b[0m\n",
      "\u001b[34m[2022-01-12 23:15:04.457 algo-1:26 INFO hook.py:591] name:distilbert.transformer.layer.0.attention.v_lin.bias count_params:768\u001b[0m\n",
      "\u001b[34m[2022-01-12 23:15:04.457 algo-1:26 INFO hook.py:591] name:distilbert.transformer.layer.0.attention.out_lin.weight count_params:589824\u001b[0m\n",
      "\u001b[34m[2022-01-12 23:15:04.457 algo-1:26 INFO hook.py:591] name:distilbert.transformer.layer.0.attention.out_lin.bias count_params:768\u001b[0m\n",
      "\u001b[34m[2022-01-12 23:15:04.457 algo-1:26 INFO hook.py:591] name:distilbert.transformer.layer.0.sa_layer_norm.weight count_params:768\u001b[0m\n",
      "\u001b[34m[2022-01-12 23:15:04.458 algo-1:26 INFO hook.py:591] name:distilbert.transformer.layer.0.sa_layer_norm.bias count_params:768\u001b[0m\n",
      "\u001b[34m[2022-01-12 23:15:04.458 algo-1:26 INFO hook.py:591] name:distilbert.transformer.layer.0.ffn.lin1.weight count_params:2359296\u001b[0m\n",
      "\u001b[34m[2022-01-12 23:15:04.458 algo-1:26 INFO hook.py:591] name:distilbert.transformer.layer.0.ffn.lin1.bias count_params:3072\u001b[0m\n",
      "\u001b[34m[2022-01-12 23:15:04.458 algo-1:26 INFO hook.py:591] name:distilbert.transformer.layer.0.ffn.lin2.weight count_params:2359296\u001b[0m\n",
      "\u001b[34m[2022-01-12 23:15:04.458 algo-1:26 INFO hook.py:591] name:distilbert.transformer.layer.0.ffn.lin2.bias count_params:768\u001b[0m\n",
      "\u001b[34m[2022-01-12 23:15:04.459 algo-1:26 INFO hook.py:591] name:distilbert.transformer.layer.0.output_layer_norm.weight count_params:768\u001b[0m\n",
      "\u001b[34m[2022-01-12 23:15:04.459 algo-1:26 INFO hook.py:591] name:distilbert.transformer.layer.0.output_layer_norm.bias count_params:768\u001b[0m\n",
      "\u001b[34m[2022-01-12 23:15:04.459 algo-1:26 INFO hook.py:591] name:distilbert.transformer.layer.1.attention.q_lin.weight count_params:589824\u001b[0m\n",
      "\u001b[34m[2022-01-12 23:15:04.459 algo-1:26 INFO hook.py:591] name:distilbert.transformer.layer.1.attention.q_lin.bias count_params:768\u001b[0m\n",
      "\u001b[34m[2022-01-12 23:15:04.459 algo-1:26 INFO hook.py:591] name:distilbert.transformer.layer.1.attention.k_lin.weight count_params:589824\u001b[0m\n",
      "\u001b[34m[2022-01-12 23:15:04.460 algo-1:26 INFO hook.py:591] name:distilbert.transformer.layer.1.attention.k_lin.bias count_params:768\u001b[0m\n",
      "\u001b[34m[2022-01-12 23:15:04.460 algo-1:26 INFO hook.py:591] name:distilbert.transformer.layer.1.attention.v_lin.weight count_params:589824\u001b[0m\n",
      "\u001b[34m[2022-01-12 23:15:04.460 algo-1:26 INFO hook.py:591] name:distilbert.transformer.layer.1.attention.v_lin.bias count_params:768\u001b[0m\n",
      "\u001b[34m[2022-01-12 23:15:04.460 algo-1:26 INFO hook.py:591] name:distilbert.transformer.layer.1.attention.out_lin.weight count_params:589824\u001b[0m\n",
      "\u001b[34m[2022-01-12 23:15:04.460 algo-1:26 INFO hook.py:591] name:distilbert.transformer.layer.1.attention.out_lin.bias count_params:768\u001b[0m\n",
      "\u001b[34m[2022-01-12 23:15:04.461 algo-1:26 INFO hook.py:591] name:distilbert.transformer.layer.1.sa_layer_norm.weight count_params:768\u001b[0m\n",
      "\u001b[34m[2022-01-12 23:15:04.461 algo-1:26 INFO hook.py:591] name:distilbert.transformer.layer.1.sa_layer_norm.bias count_params:768\u001b[0m\n",
      "\u001b[34m[2022-01-12 23:15:04.461 algo-1:26 INFO hook.py:591] name:distilbert.transformer.layer.1.ffn.lin1.weight count_params:2359296\u001b[0m\n",
      "\u001b[34m[2022-01-12 23:15:04.461 algo-1:26 INFO hook.py:591] name:distilbert.transformer.layer.1.ffn.lin1.bias count_params:3072\u001b[0m\n",
      "\u001b[34m[2022-01-12 23:15:04.461 algo-1:26 INFO hook.py:591] name:distilbert.transformer.layer.1.ffn.lin2.weight count_params:2359296\u001b[0m\n",
      "\u001b[34m[2022-01-12 23:15:04.461 algo-1:26 INFO hook.py:591] name:distilbert.transformer.layer.1.ffn.lin2.bias count_params:768\u001b[0m\n",
      "\u001b[34m[2022-01-12 23:15:04.461 algo-1:26 INFO hook.py:591] name:distilbert.transformer.layer.1.output_layer_norm.weight count_params:768\u001b[0m\n",
      "\u001b[34m[2022-01-12 23:15:04.462 algo-1:26 INFO hook.py:591] name:distilbert.transformer.layer.1.output_layer_norm.bias count_params:768\u001b[0m\n",
      "\u001b[34m[2022-01-12 23:15:04.462 algo-1:26 INFO hook.py:591] name:distilbert.transformer.layer.2.attention.q_lin.weight count_params:589824\u001b[0m\n",
      "\u001b[34m[2022-01-12 23:15:04.462 algo-1:26 INFO hook.py:591] name:distilbert.transformer.layer.2.attention.q_lin.bias count_params:768\u001b[0m\n",
      "\u001b[34m[2022-01-12 23:15:04.462 algo-1:26 INFO hook.py:591] name:distilbert.transformer.layer.2.attention.k_lin.weight count_params:589824\u001b[0m\n",
      "\u001b[34m[2022-01-12 23:15:04.463 algo-1:26 INFO hook.py:591] name:distilbert.transformer.layer.2.attention.k_lin.bias count_params:768\u001b[0m\n",
      "\u001b[34m[2022-01-12 23:15:04.463 algo-1:26 INFO hook.py:591] name:distilbert.transformer.layer.2.attention.v_lin.weight count_params:589824\u001b[0m\n",
      "\u001b[34m[2022-01-12 23:15:04.463 algo-1:26 INFO hook.py:591] name:distilbert.transformer.layer.2.attention.v_lin.bias count_params:768\u001b[0m\n",
      "\u001b[34m[2022-01-12 23:15:04.463 algo-1:26 INFO hook.py:591] name:distilbert.transformer.layer.2.attention.out_lin.weight count_params:589824\u001b[0m\n",
      "\u001b[34m[2022-01-12 23:15:04.463 algo-1:26 INFO hook.py:591] name:distilbert.transformer.layer.2.attention.out_lin.bias count_params:768\u001b[0m\n",
      "\u001b[34m[2022-01-12 23:15:04.464 algo-1:26 INFO hook.py:591] name:distilbert.transformer.layer.2.sa_layer_norm.weight count_params:768\u001b[0m\n",
      "\u001b[34m[2022-01-12 23:15:04.467 algo-1:26 INFO hook.py:591] name:distilbert.transformer.layer.2.sa_layer_norm.bias count_params:768\u001b[0m\n",
      "\u001b[34m[2022-01-12 23:15:04.467 algo-1:26 INFO hook.py:591] name:distilbert.transformer.layer.2.ffn.lin1.weight count_params:2359296\u001b[0m\n",
      "\u001b[34m[2022-01-12 23:15:04.467 algo-1:26 INFO hook.py:591] name:distilbert.transformer.layer.2.ffn.lin1.bias count_params:3072\u001b[0m\n",
      "\u001b[34m[2022-01-12 23:15:04.468 algo-1:26 INFO hook.py:591] name:distilbert.transformer.layer.2.ffn.lin2.weight count_params:2359296\u001b[0m\n",
      "\u001b[34m[2022-01-12 23:15:04.468 algo-1:26 INFO hook.py:591] name:distilbert.transformer.layer.2.ffn.lin2.bias count_params:768\u001b[0m\n",
      "\u001b[34m[2022-01-12 23:15:04.468 algo-1:26 INFO hook.py:591] name:distilbert.transformer.layer.2.output_layer_norm.weight count_params:768\u001b[0m\n",
      "\u001b[34m[2022-01-12 23:15:04.468 algo-1:26 INFO hook.py:591] name:distilbert.transformer.layer.2.output_layer_norm.bias count_params:768\u001b[0m\n",
      "\u001b[34m[2022-01-12 23:15:04.469 algo-1:26 INFO hook.py:591] name:distilbert.transformer.layer.3.attention.q_lin.weight count_params:589824\u001b[0m\n",
      "\u001b[34m[2022-01-12 23:15:04.469 algo-1:26 INFO hook.py:591] name:distilbert.transformer.layer.3.attention.q_lin.bias count_params:768\u001b[0m\n",
      "\u001b[34m[2022-01-12 23:15:04.469 algo-1:26 INFO hook.py:591] name:distilbert.transformer.layer.3.attention.k_lin.weight count_params:589824\u001b[0m\n",
      "\u001b[34m[2022-01-12 23:15:04.469 algo-1:26 INFO hook.py:591] name:distilbert.transformer.layer.3.attention.k_lin.bias count_params:768\u001b[0m\n",
      "\u001b[34m[2022-01-12 23:15:04.469 algo-1:26 INFO hook.py:591] name:distilbert.transformer.layer.3.attention.v_lin.weight count_params:589824\u001b[0m\n",
      "\u001b[34m[2022-01-12 23:15:04.469 algo-1:26 INFO hook.py:591] name:distilbert.transformer.layer.3.attention.v_lin.bias count_params:768\u001b[0m\n",
      "\u001b[34m[2022-01-12 23:15:04.469 algo-1:26 INFO hook.py:591] name:distilbert.transformer.layer.3.attention.out_lin.weight count_params:589824\u001b[0m\n",
      "\u001b[34m[2022-01-12 23:15:04.469 algo-1:26 INFO hook.py:591] name:distilbert.transformer.layer.3.attention.out_lin.bias count_params:768\u001b[0m\n",
      "\u001b[34m[2022-01-12 23:15:04.470 algo-1:26 INFO hook.py:591] name:distilbert.transformer.layer.3.sa_layer_norm.weight count_params:768\u001b[0m\n",
      "\u001b[34m[2022-01-12 23:15:04.470 algo-1:26 INFO hook.py:591] name:distilbert.transformer.layer.3.sa_layer_norm.bias count_params:768\u001b[0m\n",
      "\u001b[34m[2022-01-12 23:15:04.470 algo-1:26 INFO hook.py:591] name:distilbert.transformer.layer.3.ffn.lin1.weight count_params:2359296\u001b[0m\n",
      "\u001b[34m[2022-01-12 23:15:04.470 algo-1:26 INFO hook.py:591] name:distilbert.transformer.layer.3.ffn.lin1.bias count_params:3072\u001b[0m\n",
      "\u001b[34m[2022-01-12 23:15:04.470 algo-1:26 INFO hook.py:591] name:distilbert.transformer.layer.3.ffn.lin2.weight count_params:2359296\u001b[0m\n",
      "\u001b[34m[2022-01-12 23:15:04.470 algo-1:26 INFO hook.py:591] name:distilbert.transformer.layer.3.ffn.lin2.bias count_params:768\u001b[0m\n",
      "\u001b[34m[2022-01-12 23:15:04.470 algo-1:26 INFO hook.py:591] name:distilbert.transformer.layer.3.output_layer_norm.weight count_params:768\u001b[0m\n",
      "\u001b[34m[2022-01-12 23:15:04.470 algo-1:26 INFO hook.py:591] name:distilbert.transformer.layer.3.output_layer_norm.bias count_params:768\u001b[0m\n",
      "\u001b[34m[2022-01-12 23:15:04.471 algo-1:26 INFO hook.py:591] name:distilbert.transformer.layer.4.attention.q_lin.weight count_params:589824\u001b[0m\n",
      "\u001b[34m[2022-01-12 23:15:04.471 algo-1:26 INFO hook.py:591] name:distilbert.transformer.layer.4.attention.q_lin.bias count_params:768\u001b[0m\n",
      "\u001b[34m[2022-01-12 23:15:04.471 algo-1:26 INFO hook.py:591] name:distilbert.transformer.layer.4.attention.k_lin.weight count_params:589824\u001b[0m\n",
      "\u001b[34m[2022-01-12 23:15:04.471 algo-1:26 INFO hook.py:591] name:distilbert.transformer.layer.4.attention.k_lin.bias count_params:768\u001b[0m\n",
      "\u001b[34m[2022-01-12 23:15:04.471 algo-1:26 INFO hook.py:591] name:distilbert.transformer.layer.4.attention.v_lin.weight count_params:589824\u001b[0m\n",
      "\u001b[34m[2022-01-12 23:15:04.471 algo-1:26 INFO hook.py:591] name:distilbert.transformer.layer.4.attention.v_lin.bias count_params:768\u001b[0m\n",
      "\u001b[34m[2022-01-12 23:15:04.471 algo-1:26 INFO hook.py:591] name:distilbert.transformer.layer.4.attention.out_lin.weight count_params:589824\u001b[0m\n",
      "\u001b[34m[2022-01-12 23:15:04.472 algo-1:26 INFO hook.py:591] name:distilbert.transformer.layer.4.attention.out_lin.bias count_params:768\u001b[0m\n",
      "\u001b[34m[2022-01-12 23:15:04.472 algo-1:26 INFO hook.py:591] name:distilbert.transformer.layer.4.sa_layer_norm.weight count_params:768\u001b[0m\n",
      "\u001b[34m[2022-01-12 23:15:04.472 algo-1:26 INFO hook.py:591] name:distilbert.transformer.layer.4.sa_layer_norm.bias count_params:768\u001b[0m\n",
      "\u001b[34m[2022-01-12 23:15:04.472 algo-1:26 INFO hook.py:591] name:distilbert.transformer.layer.4.ffn.lin1.weight count_params:2359296\u001b[0m\n",
      "\u001b[34m[2022-01-12 23:15:04.472 algo-1:26 INFO hook.py:591] name:distilbert.transformer.layer.4.ffn.lin1.bias count_params:3072\u001b[0m\n",
      "\u001b[34m[2022-01-12 23:15:04.472 algo-1:26 INFO hook.py:591] name:distilbert.transformer.layer.4.ffn.lin2.weight count_params:2359296\u001b[0m\n",
      "\u001b[34m[2022-01-12 23:15:04.472 algo-1:26 INFO hook.py:591] name:distilbert.transformer.layer.4.ffn.lin2.bias count_params:768\u001b[0m\n",
      "\u001b[34m[2022-01-12 23:15:04.472 algo-1:26 INFO hook.py:591] name:distilbert.transformer.layer.4.output_layer_norm.weight count_params:768\u001b[0m\n",
      "\u001b[34m[2022-01-12 23:15:04.472 algo-1:26 INFO hook.py:591] name:distilbert.transformer.layer.4.output_layer_norm.bias count_params:768\u001b[0m\n",
      "\u001b[34m[2022-01-12 23:15:04.473 algo-1:26 INFO hook.py:591] name:distilbert.transformer.layer.5.attention.q_lin.weight count_params:589824\u001b[0m\n",
      "\u001b[34m[2022-01-12 23:15:04.473 algo-1:26 INFO hook.py:591] name:distilbert.transformer.layer.5.attention.q_lin.bias count_params:768\u001b[0m\n",
      "\u001b[34m[2022-01-12 23:15:04.473 algo-1:26 INFO hook.py:591] name:distilbert.transformer.layer.5.attention.k_lin.weight count_params:589824\u001b[0m\n",
      "\u001b[34m[2022-01-12 23:15:04.473 algo-1:26 INFO hook.py:591] name:distilbert.transformer.layer.5.attention.k_lin.bias count_params:768\u001b[0m\n",
      "\u001b[34m[2022-01-12 23:15:04.473 algo-1:26 INFO hook.py:591] name:distilbert.transformer.layer.5.attention.v_lin.weight count_params:589824\u001b[0m\n",
      "\u001b[34m[2022-01-12 23:15:04.473 algo-1:26 INFO hook.py:591] name:distilbert.transformer.layer.5.attention.v_lin.bias count_params:768\u001b[0m\n",
      "\u001b[34m[2022-01-12 23:15:04.473 algo-1:26 INFO hook.py:591] name:distilbert.transformer.layer.5.attention.out_lin.weight count_params:589824\u001b[0m\n",
      "\u001b[34m[2022-01-12 23:15:04.473 algo-1:26 INFO hook.py:591] name:distilbert.transformer.layer.5.attention.out_lin.bias count_params:768\u001b[0m\n",
      "\u001b[34m[2022-01-12 23:15:04.474 algo-1:26 INFO hook.py:591] name:distilbert.transformer.layer.5.sa_layer_norm.weight count_params:768\u001b[0m\n",
      "\u001b[34m[2022-01-12 23:15:04.474 algo-1:26 INFO hook.py:591] name:distilbert.transformer.layer.5.sa_layer_norm.bias count_params:768\u001b[0m\n",
      "\u001b[34m[2022-01-12 23:15:04.474 algo-1:26 INFO hook.py:591] name:distilbert.transformer.layer.5.ffn.lin1.weight count_params:2359296\u001b[0m\n",
      "\u001b[34m[2022-01-12 23:15:04.474 algo-1:26 INFO hook.py:591] name:distilbert.transformer.layer.5.ffn.lin1.bias count_params:3072\u001b[0m\n",
      "\u001b[34m[2022-01-12 23:15:04.474 algo-1:26 INFO hook.py:591] name:distilbert.transformer.layer.5.ffn.lin2.weight count_params:2359296\u001b[0m\n",
      "\u001b[34m[2022-01-12 23:15:04.474 algo-1:26 INFO hook.py:591] name:distilbert.transformer.layer.5.ffn.lin2.bias count_params:768\u001b[0m\n",
      "\u001b[34m[2022-01-12 23:15:04.474 algo-1:26 INFO hook.py:591] name:distilbert.transformer.layer.5.output_layer_norm.weight count_params:768\u001b[0m\n",
      "\u001b[34m[2022-01-12 23:15:04.474 algo-1:26 INFO hook.py:591] name:distilbert.transformer.layer.5.output_layer_norm.bias count_params:768\u001b[0m\n",
      "\u001b[34m[2022-01-12 23:15:04.474 algo-1:26 INFO hook.py:591] name:pre_classifier.weight count_params:589824\u001b[0m\n",
      "\u001b[34m[2022-01-12 23:15:04.475 algo-1:26 INFO hook.py:591] name:pre_classifier.bias count_params:768\u001b[0m\n",
      "\u001b[34m[2022-01-12 23:15:04.475 algo-1:26 INFO hook.py:591] name:classifier.weight count_params:1536\u001b[0m\n",
      "\u001b[34m[2022-01-12 23:15:04.475 algo-1:26 INFO hook.py:591] name:classifier.bias count_params:2\u001b[0m\n",
      "\u001b[34m[2022-01-12 23:15:04.475 algo-1:26 INFO hook.py:593] Total Trainable Params: 66955010\u001b[0m\n",
      "\u001b[34m[2022-01-12 23:15:04.475 algo-1:26 INFO hook.py:425] Monitoring the collections: losses\u001b[0m\n",
      "\u001b[34m[2022-01-12 23:15:04.478 algo-1:26 INFO hook.py:488] Hook is writing from the hook with pid: 26\u001b[0m\n",
      "\u001b[34m{'loss': 0.353, 'learning_rate': 5e-05, 'epoch': 0.64}\u001b[0m\n",
      "\u001b[34m{'eval_loss': 0.1901187151670456, 'eval_accuracy': 0.9292, 'eval_f1': 0.9282383944861139, 'eval_precision': 0.936975649682832, 'eval_recall': 0.9196625828479614, 'eval_runtime': 49.757, 'eval_samples_per_second': 200.977, 'epoch': 1.0}\u001b[0m\n",
      "\u001b[34m{'train_runtime': 485.1781, 'train_samples_per_second': 1.612, 'epoch': 1.0}\u001b[0m\n",
      "\u001b[34m***** Eval results *****\u001b[0m\n",
      "\u001b[34m#015Downloading:   0%|          | 0.00/483 [00:00<?, ?B/s]#015Downloading: 100%|██████████| 483/483 [00:00<00:00, 512kB/s]\u001b[0m\n",
      "\u001b[34m#015Downloading:   0%|          | 0.00/268M [00:00<?, ?B/s]#015Downloading:   2%|▏         | 4.80M/268M [00:00<00:05, 48.0MB/s]#015Downloading:   4%|▎         | 9.64M/268M [00:00<00:05, 48.1MB/s]#015Downloading:   5%|▌         | 14.3M/268M [00:00<00:05, 47.6MB/s]#015Downloading:   7%|▋         | 19.2M/268M [00:00<00:05, 48.1MB/s]#015Downloading:   9%|▉         | 24.3M/268M [00:00<00:04, 48.8MB/s]#015Downloading:  11%|█         | 29.3M/268M [00:00<00:04, 49.3MB/s]#015Downloading:  13%|█▎        | 34.4M/268M [00:00<00:04, 49.8MB/s]#015Downloading:  15%|█▍        | 39.5M/268M [00:00<00:04, 50.2MB/s]#015Downloading:  17%|█▋        | 44.7M/268M [00:00<00:04, 50.6MB/s]#015Downloading:  19%|█▊        | 49.8M/268M [00:01<00:04, 50.9MB/s]#015Downloading:  20%|██        | 54.8M/268M [00:01<00:04, 49.4MB/s]#015Downloading:  22%|██▏       | 60.0M/268M [00:01<00:04, 50.1MB/s]#015Downloading:  24%|██▍       | 64.9M/268M [00:01<00:04, 49.5MB/s]#015Downloading:  26%|██▌       | 69.9M/268M [00:01<00:03, 49.7MB/s]#015Downloading:  28%|██▊       | 75.1M/268M [00:01<00:03, 50.3MB/s]#015Downloading:  30%|██▉       | 80.3M/268M [00:01<00:03, 50.8MB/s]#015Downloading:  32%|███▏      | 85.4M/268M [00:01<00:03, 50.9MB/s]#015Downloading:  34%|███▍      | 90.6M/268M [00:01<00:03, 51.3MB/s]#015Downloading:  36%|███▌      | 95.8M/268M [00:01<00:03, 51.4MB/s]#015Downloading:  38%|███▊      | 101M/268M [00:02<00:03, 51.4MB/s] #015Downloading:  40%|███▉      | 106M/268M [00:02<00:03, 51.5MB/s]#015Downloading:  42%|████▏     | 111M/268M [00:02<00:03, 51.6MB/s]#015Downloading:  43%|████▎     | 116M/268M [00:02<00:03, 50.2MB/s]#015Downloading:  45%|████▌     | 122M/268M [00:02<00:02, 50.4MB/s]#015Downloading:  47%|████▋     | 127M/268M [00:02<00:02, 50.8MB/s]#015Downloading:  49%|████▉     | 132M/268M [00:02<00:02, 51.0MB/s]#015Downloading:  51%|█████     | 137M/268M [00:02<00:02, 51.2MB/s]#015Downloading:  53%|█████▎    | 142M/268M [00:02<00:02, 51.2MB/s]#015Downloading:  55%|█████▍    | 147M/268M [00:02<00:02, 51.4MB/s]#015Downloading:  57%|█████▋    | 153M/268M [00:03<00:02, 51.4MB/s]#015Downloading:  59%|█████▉    | 158M/268M [00:03<00:02, 51.6MB/s]#015Downloading:  61%|██████    | 163M/268M [00:03<00:02, 51.7MB/s]#015Downloading:  63%|██████▎   | 168M/268M [00:03<00:01, 50.6MB/s]#015Downloading:  65%|██████▍   | 173M/268M [00:03<00:01, 50.5MB/s]#015Downloading:  67%|██████▋   | 178M/268M [00:03<00:01, 50.6MB/s]#015Downloading:  68%|██████▊   | 183M/268M [00:03<00:01, 50.9MB/s]#015Downloading:  70%|███████   | 189M/268M [00:03<00:01, 51.1MB/s]#015Downloading:  72%|███████▏  | 194M/268M [00:03<00:01, 51.3MB/s]#015Downloading:  74%|███████▍  | 199M/268M [00:03<00:01, 51.3MB/s]#015Downloading:  76%|███████▌  | 204M/268M [00:04<00:01, 51.3MB/s]#015Downloading:  78%|███████▊  | 209M/268M [00:04<00:01, 51.4MB/s]#015Downloading:  80%|███████▉  | 214M/268M [00:04<00:01, 51.5MB/s]#015Downloading:  82%|████████▏ | 219M/268M [00:04<00:00, 50.8MB/s]#015Downloading:  84%|████████▍ | 225M/268M [00:04<00:00, 51.0MB/s]#015Downloading:  86%|████████▌ | 230M/268M [00:04<00:00, 51.0MB/s]#015Downloading:  88%|████████▊ | 235M/268M [00:04<00:00, 51.2MB/s]#015Downloading:  90%|████████▉ | 240M/268M [00:04<00:00, 51.2MB/s]#015Downloading:  91%|█████████▏| 245M/268M [00:04<00:00, 51.3MB/s]#015Downloading:  93%|█████████▎| 250M/268M [00:04<00:00, 51.3MB/s]#015Downloading:  95%|█████████▌| 255M/268M [00:05<00:00, 51.4MB/s]#015Downloading:  97%|█████████▋| 261M/268M [00:05<00:00, 51.4MB/s]#015Downloading:  99%|█████████▉| 266M/268M [00:05<00:00, 51.4MB/s]#015Downloading: 100%|██████████| 268M/268M [00:05<00:00, 50.8MB/s]\u001b[0m\n",
      "\u001b[34mSome weights of the model checkpoint at distilbert-base-uncased were not used when initializing DistilBertForSequenceClassification: ['vocab_transform.weight', 'vocab_projector.weight', 'vocab_projector.bias', 'vocab_layer_norm.bias', 'vocab_transform.bias', 'vocab_layer_norm.weight']\u001b[0m\n",
      "\u001b[34m- This IS expected if you are initializing DistilBertForSequenceClassification from the checkpoint of a model trained on another task or with another architecture (e.g. initializing a BertForSequenceClassification model from a BertForPreTraining model).\u001b[0m\n",
      "\u001b[34m- This IS NOT expected if you are initializing DistilBertForSequenceClassification from the checkpoint of a model that you expect to be exactly identical (initializing a BertForSequenceClassification model from a BertForSequenceClassification model).\u001b[0m\n",
      "\u001b[34mSome weights of DistilBertForSequenceClassification were not initialized from the model checkpoint at distilbert-base-uncased and are newly initialized: ['pre_classifier.bias', 'pre_classifier.weight', 'classifier.weight', 'classifier.bias']\u001b[0m\n",
      "\u001b[34mYou should probably TRAIN this model on a down-stream task to be able to use it for predictions and inference.\u001b[0m\n",
      "\u001b[34m#015Downloading:   0%|          | 0.00/232k [00:00<?, ?B/s]#015Downloading: 100%|██████████| 232k/232k [00:00<00:00, 41.1MB/s]\u001b[0m\n",
      "\u001b[34m#015Downloading:   0%|          | 0.00/466k [00:00<?, ?B/s]#015Downloading: 100%|██████████| 466k/466k [00:00<00:00, 45.3MB/s]\u001b[0m\n",
      "\u001b[34m#015Downloading:   0%|          | 0.00/28.0 [00:00<?, ?B/s]#015Downloading: 100%|██████████| 28.0/28.0 [00:00<00:00, 29.1kB/s]\u001b[0m\n",
      "\u001b[34m#015  0%|          | 0/782 [00:00<?, ?it/s]#015  0%|          | 1/782 [00:02<33:13,  2.55s/it]#015  0%|          | 2/782 [00:03<25:21,  1.95s/it]#015  0%|          | 3/782 [00:03<19:47,  1.52s/it]#015  1%|          | 4/782 [00:04<15:55,  1.23s/it]#015  1%|          | 5/782 [00:04<13:15,  1.02s/it]#015  1%|          | 6/782 [00:05<11:24,  1.13it/s]#015  1%|          | 7/782 [00:05<10:12,  1.27it/s]#015  1%|          | 8/782 [00:06<09:17,  1.39it/s]#015  1%|          | 9/782 [00:06<08:35,  1.50it/s]#015  1%|▏         | 10/782 [00:07<08:06,  1.59it/s]#015  1%|▏         | 11/782 [00:08<07:44,  1.66it/s]#015  2%|▏         | 12/782 [00:08<07:27,  1.72it/s]#015  2%|▏         | 13/782 [00:09<07:13,  1.77it/s]#015  2%|▏         | 14/782 [00:09<07:06,  1.80it/s]#015  2%|▏         | 15/782 [00:10<07:03,  1.81it/s]#015  2%|▏         | 16/782 [00:10<07:02,  1.81it/s]#015  2%|▏         | 17/782 [00:11<06:58,  1.83it/s]#015  2%|▏         | 18/782 [00:11<07:04,  1.80it/s]#015  2%|▏         | 19/782 [00:12<07:00,  1.82it/s]#015  3%|▎         | 20/782 [00:12<06:58,  1.82it/s]#015  3%|▎         | 21/782 [00:13<06:56,  1.83it/s]#015  3%|▎         | 22/782 [00:13<06:54,  1.83it/s]#015  3%|▎         | 23/782 [00:14<06:50,  1.85it/s]#015  3%|▎         | 24/782 [00:15<06:47,  1.86it/s]#015  3%|▎         | 25/782 [00:15<06:46,  1.86it/s]#015  3%|▎         | 26/782 [00:16<06:44,  1.87it/s]#015  3%|▎         | 27/782 [00:16<06:46,  1.86it/s]#015  4%|▎         | 28/782 [00:17<06:44,  1.87it/s]#015  4%|▎         | 29/782 [00:17<06:45,  1.86it/s]#015  4%|▍         | 30/782 [00:18<06:45,  1.86it/s]#015  4%|▍         | 31/782 [00:18<06:45,  1.85it/s]#015  4%|▍         | 32/782 [00:19<06:45,  1.85it/s]#015  4%|▍         | 33/782 [00:19<06:42,  1.86it/s]#015  4%|▍         | 34/782 [00:20<06:41,  1.86it/s]#015  4%|▍         | 35/782 [00:20<06:47,  1.83it/s]#015  5%|▍         | 36/782 [00:21<06:44,  1.84it/s]#015  5%|▍         | 37/782 [00:22<06:44,  1.84it/s]#015  5%|▍         | 38/782 [00:22<06:43,  1.84it/s]#015  5%|▍         | 39/782 [00:23<06:45,  1.83it/s]#015  5%|▌         | 40/782 [00:23<06:42,  1.84it/s]#015  5%|▌         | 41/782 [00:24<06:38,  1.86it/s]#015  5%|▌         | 42/782 [00:24<06:38,  1.86it/s]#015  5%|▌         | 43/782 [00:25<06:36,  1.86it/s]#015  6%|▌         | 44/782 [00:25<06:35,  1.87it/s]#015  6%|▌         | 45/782 [00:26<06:35,  1.86it/s]#015  6%|▌         | 46/782 [00:26<06:33,  1.87it/s]#015  6%|▌         | 47/782 [00:27<06:35,  1.86it/s]#015  6%|▌         | 48/782 [00:27<06:34,  1.86it/s]#015  6%|▋         | 49/782 [00:28<06:38,  1.84it/s]#015  6%|▋         | 50/782 [00:29<06:35,  1.85it/s]#015  7%|▋         | 51/782 [00:29<06:35,  1.85it/s]#015  7%|▋         | 52/782 [00:30<06:37,  1.84it/s]#015  7%|▋         | 53/782 [00:30<06:40,  1.82it/s]#015  7%|▋         | 54/782 [00:31<06:34,  1.84it/s]#015  7%|▋         | 55/782 [00:31<06:31,  1.86it/s]#015  7%|▋         | 56/782 [00:32<06:33,  1.84it/s]#015  7%|▋         | 57/782 [00:32<06:34,  1.84it/s]#015  7%|▋         | 58/782 [00:33<06:31,  1.85it/s]#015  8%|▊         | 59/782 [00:34<06:44,  1.79it/s]#015  8%|▊         | 60/782 [00:34<06:38,  1.81it/s]#015  8%|▊         | 61/782 [00:35<06:35,  1.82it/s]#015  8%|▊         | 62/782 [00:35<06:34,  1.83it/s]#015  8%|▊         | 63/782 [00:36<06:32,  1.83it/s]#015  8%|▊         | 64/782 [00:36<06:32,  1.83it/s]#015  8%|▊         | 65/782 [00:37<06:35,  1.81it/s]#015  8%|▊         | 66/782 [00:37<06:33,  1.82it/s]#015  9%|▊         | 67/782 [00:38<06:32,  1.82it/s]#015  9%|▊         | 68/782 [00:38<06:28,  1.84it/s]#015  9%|▉         | 69/782 [00:39<06:27,  1.84it/s]#015  9%|▉         | 70/782 [00:40<06:27,  1.84it/s]#015  9%|▉         | 71/782 [00:40<06:34,  1.80it/s]#015  9%|▉         | 72/782 [00:41<06:31,  1.81it/s]#015  9%|▉         | 73/782 [00:41<06:29,  1.82it/s]#015  9%|▉         | 74/782 [00:42<06:27,  1.83it/s]#015 10%|▉         | 75/782 [00:42<06:26,  1.83it/s]#015 10%|▉         | 76/782 [00:43<06:26,  1.83it/s]#015 10%|▉         | 77/782 [00:43<06:24,  1.83it/s]#015 10%|▉         | 78/782 [00:44<06:24,  1.83it/s]#015 10%|█         | 79/782 [00:44<06:23,  1.83it/s]#015 10%|█         | 80/782 [00:45<06:23,  1.83it/s]#015 10%|█         | 81/782 [00:46<06:22,  1.84it/s]#015 10%|█         | 82/782 [00:46<06:20,  1.84it/s]#015 11%|█         | 83/782 [00:47<06:19,  1.84it/s]#015 11%|█         | 84/782 [00:47<06:18,  1.84it/s]#015 11%|█         | 85/782 [00:48<06:18,  1.84it/s]#015 11%|█         | 86/782 [00:48<06:17,  1.84it/s]#015 11%|█         | 87/782 [00:49<06:16,  1.84it/s]#015 11%|█▏        | 88/782 [00:49<06:18,  1.84it/s]#015 11%|█▏        | 89/782 [00:50<06:17,  1.83it/s]#015 12%|█▏        | 90/782 [00:50<06:16,  1.84it/s]#015 12%|█▏        | 91/782 [00:51<06:18,  1.83it/s]#015 12%|█▏        | 92/782 [00:52<06:21,  1.81it/s]#015 12%|█▏        | 93/782 [00:52<06:19,  1.81it/s]#015 12%|█▏        | 94/782 [00:53<06:17,  1.82it/s]#015 12%|█▏        | 95/782 [00:53<06:16,  1.83it/s]#015 12%|█▏        | 96/782 [00:54<06:14,  1.83it/s]#015 12%|█▏        | 97/782 [00:54<06:13,  1.83it/s]#015 13%|█▎        | 98/782 [00:55<06:12,  1.83it/s]#015 13%|█▎        | 99/782 [00:55<06:11,  1.84it/s]#015 13%|█▎        | 100/782 [00:56<06:10,  1.84it/s]#015 13%|█▎        | 101/782 [00:56<06:09,  1.84it/s]#015 13%|█▎        | 102/782 [00:57<06:09,  1.84it/s]#015 13%|█▎        | 103/782 [00:58<06:09,  1.84it/s]#015 13%|█▎        | 104/782 [00:58<06:13,  1.82it/s]#015 13%|█▎        | 105/782 [00:59<06:12,  1.82it/s]#015 14%|█▎        | 106/782 [00:59<06:16,  1.80it/s]#015 14%|█▎        | 107/782 [01:00<06:12,  1.81it/s]#015 14%|█▍        | 108/782 [01:00<06:16,  1.79it/s]#015 14%|█▍        | 109/782 [01:01<06:16,  1.79it/s]#015 14%|█▍        | 110/782 [01:01<06:13,  1.80it/s]#015 14%|█▍        | 111/782 [01:02<06:10,  1.81it/s]#015 14%|█▍        | 112/782 [01:03<06:08,  1.82it/s]#015 14%|█▍        | 113/782 [01:03<06:06,  1.83it/s]#015 15%|█▍        | 114/782 [01:04<06:05,  1.83it/s]#015 15%|█▍        | 115/782 [01:04<06:04,  1.83it/s]#015 15%|█▍        | 116/782 [01:05<06:14,  1.78it/s]#015 15%|█▍        | 117/782 [01:05<06:11,  1.79it/s]#015 15%|█▌        | 118/782 [01:06<06:07,  1.81it/s]#015 15%|█▌        | 119/782 [01:06<06:06,  1.81it/s]#015 15%|█▌        | 120/782 [01:07<06:04,  1.81it/s]#015 15%|█▌        | 121/782 [01:07<06:04,  1.82it/s]#015 16%|█▌        | 122/782 [01:08<06:01,  1.83it/s]#015 16%|█▌        | 123/782 [01:09<05:59,  1.83it/s]#015 16%|█▌        | 124/782 [01:09<05:59,  1.83it/s]#015 16%|█▌        | 125/782 [01:10<05:57,  1.84it/s]#015 16%|█▌        | 126/782 [01:10<05:56,  1.84it/s]#015 16%|█▌        | 127/782 [01:11<05:56,  1.84it/s]#015 16%|█▋        | 128/782 [01:11<05:57,  1.83it/s]#015 16%|█▋        | 129/782 [01:12<05:58,  1.82it/s]#015 17%|█▋        | 130/782 [01:12<05:59,  1.81it/s]#015 17%|█▋        | 131/782 [01:13<05:58,  1.82it/s]#015 17%|█▋        | 132/782 [01:14<05:56,  1.82it/s]#015 17%|█▋        | 133/782 [01:14<05:54,  1.83it/s]#015 17%|█▋        | 134/782 [01:15<05:53,  1.83it/s]#015 17%|█▋        | 135/782 [01:15<05:51,  1.84it/s]#015 17%|█▋        | 136/782 [01:16<05:52,  1.83it/s]#015 18%|█▊        | 137/782 [01:16<05:58,  1.80it/s]#015 18%|█▊        | 138/782 [01:17<05:56,  1.81it/s]#015 18%|█▊        | 139/782 [01:17<05:54,  1.81it/s]#015 18%|█▊        | 140/782 [01:18<05:52,  1.82it/s]#015 18%|█▊        | 141/782 [01:18<05:55,  1.80it/s]#015 18%|█▊        | 142/782 [01:19<05:53,  1.81it/s]#015 18%|█▊        | 143/782 [01:20<05:51,  1.82it/s]#015 18%|█▊        | 144/782 [01:20<05:55,  1.80it/s]#015 19%|█▊        | 145/782 [01:21<05:55,  1.79it/s]#015 19%|█▊        | 146/782 [01:21<05:52,  1.80it/s]#015 19%|█▉        | 147/782 [01:22<05:50,  1.81it/s]#015 19%|█▉        | 148/782 [01:22<05:50,  1.81it/s]#015 19%|█▉        | 149/782 [01:23<05:48,  1.82it/s]#015 19%|█▉        | 150/782 [01:23<05:46,  1.82it/s]#015 19%|█▉        | 151/782 [01:24<05:45,  1.83it/s]#015 19%|█▉        | 152/782 [01:25<05:45,  1.82it/s]#015 20%|█▉        | 153/782 [01:25<05:44,  1.83it/s]#015 20%|█▉        | 154/782 [01:26<05:44,  1.82it/s]#015 20%|█▉        | 155/782 [01:26<05:43,  1.83it/s]#015 20%|█▉        | 156/782 [01:27<05:47,  1.80it/s]#015 20%|██        | 157/782 [01:27<05:45,  1.81it/s]#015 20%|██        | 158/782 [01:28<05:43,  1.82it/s]#015 20%|██        | 159/782 [01:28<05:42,  1.82it/s]#015 20%|██        | 160/782 [01:29<05:45,  1.80it/s]#015 21%|██        | 161/782 [01:29<05:42,  1.81it/s]#015 21%|██        | 162/782 [01:30<05:40,  1.82it/s]#015 21%|██        | 163/782 [01:31<05:39,  1.82it/s]#015 21%|██        | 164/782 [01:31<05:37,  1.83it/s]#015 21%|██        | 165/782 [01:32<05:38,  1.82it/s]#015 21%|██        | 166/782 [01:32<05:37,  1.83it/s]#015 21%|██▏       | 167/782 [01:33<05:37,  1.82it/s]#015 21%|██▏       | 168/782 [01:33<05:35,  1.83it/s]#015 22%|██▏       | 169/782 [01:34<05:35,  1.83it/s]#015 22%|██▏       | 170/782 [01:34<05:33,  1.84it/s]#015 22%|██▏       | 171/782 [01:35<05:34,  1.83it/s]#015 22%|██▏       | 172/782 [01:35<05:33,  1.83it/s]#015 22%|██▏       | 173/782 [01:36<05:33,  1.83it/s]#015 22%|██▏       | 174/782 [01:37<05:32,  1.83it/s]#015 22%|██▏       | 175/782 [01:37<05:31,  1.83it/s]#015 23%|██▎       | 176/782 [01:38<05:30,  1.83it/s]#015 23%|██▎       | 177/782 [01:38<05:29,  1.84it/s]#015 23%|██▎       | 178/782 [01:39<05:31,  1.82it/s]#015 23%|██▎       | 179/782 [01:39<05:30,  1.83it/s]#015 23%|██▎       | 180/782 [01:40<05:31,  1.82it/s]#015 23%|██▎       | 181/782 [01:40<05:30,  1.82it/s]#015 23%|██▎       | 182/782 [01:41<05:28,  1.82it/s]#015 23%|██▎       | 183/782 [01:42<05:28,  1.83it/s]#015 24%|██▎       | 184/782 [01:42<05:28,  1.82it/s]#015 24%|██▎       | 185/782 [01:43<05:28,  1.82it/s]#015 24%|██▍       | 186/782 [01:43<05:26,  1.83it/s]#015 24%|██▍       | 187/782 [01:44<05:24,  1.83it/s]#015 24%|██▍       | 188/782 [01:44<05:24,  1.83it/s]#015 24%|██▍       | 189/782 [01:45<05:23,  1.83it/s]#015 24%|██▍       | 190/782 [01:45<05:23,  1.83it/s]#015 24%|██▍       | 191/782 [01:46<05:24,  1.82it/s]#015 25%|██▍       | 192/782 [01:46<05:23,  1.82it/s]#015 25%|██▍       | 193/782 [01:47<05:23,  1.82it/s]#015 25%|██▍       | 194/782 [01:48<05:21,  1.83it/s]#015 25%|██▍       | 195/782 [01:48<05:21,  1.83it/s]#015 25%|██▌       | 196/782 [01:49<05:21,  1.82it/s]#015 25%|██▌       | 197/782 [01:49<05:19,  1.83it/s]#015 25%|██▌       | 198/782 [01:50<05:18,  1.83it/s]#015 25%|██▌       | 199/782 [01:50<05:18,  1.83it/s]#015 26%|██▌       | 200/782 [01:51<05:18,  1.83it/s]#015 26%|██▌       | 201/782 [01:51<05:17,  1.83it/s]#015 26%|██▌       | 202/782 [01:52<05:16,  1.83it/s]#015 26%|██▌       | 203/782 [01:52<05:16,  1.83it/s]#015 26%|██▌       | 204/782 [01:53<05:17,  1.82it/s]#015 26%|██▌       | 205/782 [01:54<05:16,  1.82it/s]#015 26%|██▋       | 206/782 [01:54<05:17,  1.82it/s]#015 26%|██▋       | 207/782 [01:55<05:16,  1.82it/s]#015 27%|██▋       | 208/782 [01:55<05:14,  1.82it/s]#015 27%|██▋       | 209/782 [01:56<05:15,  1.82it/s]#015 27%|██▋       | 210/782 [01:56<05:16,  1.81it/s]#015 27%|██▋       | 211/782 [01:57<05:15,  1.81it/s]#015 27%|██▋       | 212/782 [01:57<05:16,  1.80it/s]#015 27%|██▋       | 213/782 [01:58<05:14,  1.81it/s]#015 27%|██▋       | 214/782 [01:59<05:12,  1.82it/s]#015 27%|██▋       | 215/782 [01:59<05:15,  1.79it/s]#015 28%|██▊       | 216/782 [02:00<05:13,  1.81it/s]#015 28%|██▊       | 217/782 [02:00<05:17,  1.78it/s]#015 28%|██▊       | 218/782 [02:01<05:16,  1.78it/s]#015 28%|██▊       | 219/782 [02:01<05:13,  1.80it/s]#015 28%|██▊       | 220/782 [02:02<05:10,  1.81it/s]#015 28%|██▊       | 221/782 [02:02<05:12,  1.79it/s]#015 28%|██▊       | 222/782 [02:03<05:11,  1.80it/s]#015 29%|██▊       | 223/782 [02:04<05:08,  1.81it/s]#015 29%|██▊       | 224/782 [02:04<05:06,  1.82it/s]#015 29%|██▉       | 225/782 [02:05<05:05,  1.82it/s]#015 29%|██▉       | 226/782 [02:05<05:04,  1.82it/s]#015 29%|██▉       | 227/782 [02:06<05:04,  1.82it/s]#015 29%|██▉       | 228/782 [02:06<05:04,  1.82it/s]#015 29%|██▉       | 229/782 [02:07<05:12,  1.77it/s]#015 29%|██▉       | 230/782 [02:07<05:15,  1.75it/s]#015 30%|██▉       | 231/782 [02:08<05:11,  1.77it/s]#015 30%|██▉       | 232/782 [02:09<05:07,  1.79it/s]#015 30%|██▉       | 233/782 [02:09<05:04,  1.80it/s]#015 30%|██▉       | 234/782 [02:10<05:01,  1.82it/s]#015 30%|███       | 235/782 [02:10<04:59,  1.82it/s]#015 30%|███       | 236/782 [02:11<04:58,  1.83it/s]#015 30%|███       | 237/782 [02:11<04:58,  1.83it/s]#015 30%|███       | 238/782 [02:12<04:58,  1.82it/s]#015 31%|███       | 239/782 [02:12<04:59,  1.81it/s]#015 31%|███       | 240/782 [02:13<04:58,  1.82it/s]#015 31%|███       | 241/782 [02:14<05:04,  1.78it/s]#015 31%|███       | 242/782 [02:14<05:01,  1.79it/s]#015 31%|███       | 243/782 [02:15<04:58,  1.80it/s]#015 31%|███       | 244/782 [02:15<04:56,  1.81it/s]#015 31%|███▏      | 245/782 [02:16<04:55,  1.82it/s]#015 31%|███▏      | 246/782 [02:16<04:54,  1.82it/s]#015 32%|███▏      | 247/782 [02:17<04:54,  1.82it/s]#015 32%|███▏      | 248/782 [02:17<04:53,  1.82it/s]#015 32%|███▏      | 249/782 [02:18<04:52,  1.82it/s]#015 32%|███▏      | 250/782 [02:18<04:51,  1.82it/s]#015 32%|███▏      | 251/782 [02:19<04:50,  1.83it/s]#015 32%|███▏      | 252/782 [02:20<04:50,  1.82it/s]#015 32%|███▏      | 253/782 [02:20<04:50,  1.82it/s]#015 32%|███▏      | 254/782 [02:21<04:48,  1.83it/s]#015 33%|███▎      | 255/782 [02:21<04:47,  1.83it/s]#015 33%|███▎      | 256/782 [02:22<04:47,  1.83it/s]#015 33%|███▎      | 257/782 [02:22<04:46,  1.83it/s]#015 33%|███▎      | 258/782 [02:23<04:47,  1.82it/s]#015 33%|███▎      | 259/782 [02:23<04:46,  1.83it/s]#015 33%|███▎      | 260/782 [02:24<04:46,  1.82it/s]#015 33%|███▎      | 261/782 [02:24<04:45,  1.83it/s]#015 34%|███▎      | 262/782 [02:25<04:44,  1.83it/s]#015 34%|███▎      | 263/782 [02:26<04:44,  1.83it/s]#015 34%|███▍      | 264/782 [02:26<04:44,  1.82it/s]#015 34%|███▍      | 265/782 [02:27<04:44,  1.82it/s]#015 34%|███▍      | 266/782 [02:27<04:50,  1.77it/s]#015 34%|███▍      | 267/782 [02:28<04:49,  1.78it/s]#015 34%|███▍      | 268/782 [02:28<04:48,  1.78it/s]#015 34%|███▍      | 269/782 [02:29<04:47,  1.78it/s]#015 35%|███▍      | 270/782 [02:30<04:44,  1.80it/s]#015 35%|███▍      | 271/782 [02:30<04:42,  1.81it/s]#015 35%|███▍      | 272/782 [02:31<04:45,  1.79it/s]#015 35%|███▍      | 273/782 [02:31<04:42,  1.80it/s]#015 35%|███▌      | 274/782 [02:32<04:41,  1.80it/s]#015 35%|███▌      | 275/782 [02:32<04:42,  1.80it/s]#015 35%|███▌      | 276/782 [02:33<04:41,  1.80it/s]#015 35%|███▌      | 277/782 [02:33<04:38,  1.81it/s]#015 36%|███▌      | 278/782 [02:34<04:37,  1.82it/s]#015 36%|███▌      | 279/782 [02:34<04:35,  1.83it/s]#015 36%|███▌      | 280/782 [02:35<04:35,  1.82it/s]#015 36%|███▌      | 281/782 [02:36<04:33,  1.83it/s]#015 36%|███▌      | 282/782 [02:36<04:33,  1.83it/s]#015 36%|███▌      | 283/782 [02:37<04:35,  1.81it/s]#015 36%|███▋      | 284/782 [02:37<04:33,  1.82it/s]#015 36%|███▋      | 285/782 [02:38<04:33,  1.82it/s]#015 37%|███▋      | 286/782 [02:38<04:32,  1.82it/s]#015 37%|███▋      | 287/782 [02:39<04:36,  1.79it/s]#015 37%|███▋      | 288/782 [02:39<04:38,  1.77it/s]#015 37%|███▋      | 289/782 [02:40<04:35,  1.79it/s]#015 37%|███▋      | 290/782 [02:41<04:32,  1.80it/s]#015 37%|███▋      | 291/782 [02:41<04:30,  1.81it/s]#015 37%|███▋      | 292/782 [02:42<04:29,  1.82it/s]#015 37%|███▋      | 293/782 [02:42<04:28,  1.82it/s]#015 38%|███▊      | 294/782 [02:43<04:27,  1.82it/s]#015 38%|███▊      | 295/782 [02:43<04:28,  1.82it/s]#015 38%|███▊      | 296/782 [02:44<04:27,  1.82it/s]#015 38%|███▊      | 297/782 [02:44<04:27,  1.81it/s]#015 38%|███▊      | 298/782 [02:45<04:28,  1.81it/s]#015 38%|███▊      | 299/782 [02:46<04:26,  1.81it/s]#015 38%|███▊      | 300/782 [02:46<04:25,  1.81it/s]#015 38%|███▊      | 301/782 [02:47<04:24,  1.82it/s]#015 39%|\u001b[0m\n",
      "\u001b[34m███▊      | 302/782 [02:47<04:23,  1.82it/s]#015 39%|███▊      | 303/782 [02:48<04:22,  1.82it/s]#015 39%|███▉      | 304/782 [02:48<04:23,  1.82it/s]#015 39%|███▉      | 305/782 [02:49<04:23,  1.81it/s]#015 39%|███▉      | 306/782 [02:49<04:21,  1.82it/s]#015 39%|███▉      | 307/782 [02:50<04:21,  1.82it/s]#015 39%|███▉      | 308/782 [02:50<04:20,  1.82it/s]#015 40%|███▉      | 309/782 [02:51<04:21,  1.81it/s]#015 40%|███▉      | 310/782 [02:52<04:23,  1.79it/s]#015 40%|███▉      | 311/782 [02:52<04:22,  1.80it/s]#015 40%|███▉      | 312/782 [02:53<04:19,  1.81it/s]#015 40%|████      | 313/782 [02:53<04:18,  1.82it/s]#015 40%|████      | 314/782 [02:54<04:16,  1.83it/s]#015 40%|████      | 315/782 [02:54<04:14,  1.83it/s]#015 40%|████      | 316/782 [02:55<04:14,  1.83it/s]#015 41%|████      | 317/782 [02:55<04:13,  1.84it/s]#015 41%|████      | 318/782 [02:56<04:14,  1.83it/s]#015 41%|████      | 319/782 [02:57<04:13,  1.83it/s]#015 41%|████      | 320/782 [02:57<04:13,  1.82it/s]#015 41%|████      | 321/782 [02:58<04:12,  1.82it/s]#015 41%|████      | 322/782 [02:58<04:13,  1.81it/s]#015 41%|████▏     | 323/782 [02:59<04:12,  1.82it/s]#015 41%|████▏     | 324/782 [02:59<04:13,  1.81it/s]#015 42%|████▏     | 325/782 [03:00<04:12,  1.81it/s]#015 42%|████▏     | 326/782 [03:00<04:12,  1.81it/s]#015 42%|████▏     | 327/782 [03:01<04:12,  1.80it/s]#015 42%|████▏     | 328/782 [03:01<04:10,  1.81it/s]#015 42%|████▏     | 329/782 [03:02<04:16,  1.76it/s]#015 42%|████▏     | 330/782 [03:03<04:15,  1.77it/s]#015 42%|████▏     | 331/782 [03:03<04:13,  1.78it/s]#015 42%|████▏     | 332/782 [03:04<04:11,  1.79it/s]#015 43%|████▎     | 333/782 [03:04<04:11,  1.79it/s]#015 43%|████▎     | 334/782 [03:05<04:08,  1.80it/s]#015 43%|████▎     | 335/782 [03:05<04:07,  1.81it/s]#015 43%|████▎     | 336/782 [03:06<04:05,  1.82it/s]#015 43%|████▎     | 337/782 [03:06<04:04,  1.82it/s]#015 43%|████▎     | 338/782 [03:07<04:03,  1.82it/s]#015 43%|████▎     | 339/782 [03:08<04:02,  1.83it/s]#015 43%|████▎     | 340/782 [03:08<04:01,  1.83it/s]#015 44%|████▎     | 341/782 [03:09<04:03,  1.81it/s]#015 44%|████▎     | 342/782 [03:09<04:02,  1.82it/s]#015 44%|████▍     | 343/782 [03:10<04:01,  1.82it/s]#015 44%|████▍     | 344/782 [03:10<04:02,  1.81it/s]#015 44%|████▍     | 345/782 [03:11<04:00,  1.82it/s]#015 44%|████▍     | 346/782 [03:11<04:01,  1.81it/s]#015 44%|████▍     | 347/782 [03:12<03:59,  1.82it/s]#015 45%|████▍     | 348/782 [03:13<03:58,  1.82it/s]#015 45%|████▍     | 349/782 [03:13<03:57,  1.82it/s]#015 45%|████▍     | 350/782 [03:14<03:57,  1.82it/s]#015 45%|████▍     | 351/782 [03:14<03:56,  1.82it/s]#015 45%|████▌     | 352/782 [03:15<03:55,  1.83it/s]#015 45%|████▌     | 353/782 [03:15<03:54,  1.83it/s]#015 45%|████▌     | 354/782 [03:16<03:53,  1.83it/s]#015 45%|████▌     | 355/782 [03:16<03:53,  1.83it/s]#015 46%|████▌     | 356/782 [03:17<03:53,  1.82it/s]#015 46%|████▌     | 357/782 [03:17<03:53,  1.82it/s]#015 46%|████▌     | 358/782 [03:18<03:52,  1.82it/s]#015 46%|████▌     | 359/782 [03:19<03:52,  1.82it/s]#015 46%|████▌     | 360/782 [03:19<03:51,  1.82it/s]#015 46%|████▌     | 361/782 [03:20<03:51,  1.82it/s]#015 46%|████▋     | 362/782 [03:20<03:50,  1.82it/s]#015 46%|████▋     | 363/782 [03:21<03:48,  1.83it/s]#015 47%|████▋     | 364/782 [03:21<03:48,  1.83it/s]#015 47%|████▋     | 365/782 [03:22<03:48,  1.83it/s]#015 47%|████▋     | 366/782 [03:22<03:47,  1.83it/s]#015 47%|████▋     | 367/782 [03:23<03:46,  1.83it/s]#015 47%|████▋     | 368/782 [03:23<03:45,  1.83it/s]#015 47%|████▋     | 369/782 [03:24<03:47,  1.82it/s]#015 47%|████▋     | 370/782 [03:25<03:47,  1.81it/s]#015 47%|████▋     | 371/782 [03:25<03:45,  1.82it/s]#015 48%|████▊     | 372/782 [03:26<03:49,  1.79it/s]#015 48%|████▊     | 373/782 [03:26<03:46,  1.80it/s]#015 48%|████▊     | 374/782 [03:27<03:45,  1.81it/s]#015 48%|████▊     | 375/782 [03:27<03:43,  1.82it/s]#015 48%|████▊     | 376/782 [03:28<03:42,  1.82it/s]#015 48%|████▊     | 377/782 [03:28<03:42,  1.82it/s]#015 48%|████▊     | 378/782 [03:29<03:42,  1.82it/s]#015 48%|████▊     | 379/782 [03:30<03:41,  1.82it/s]#015 49%|████▊     | 380/782 [03:30<03:41,  1.82it/s]#015 49%|████▊     | 381/782 [03:31<03:41,  1.81it/s]#015 49%|████▉     | 382/782 [03:31<03:39,  1.82it/s]#015 49%|████▉     | 383/782 [03:32<03:39,  1.82it/s]#015 49%|████▉     | 384/782 [03:32<03:38,  1.82it/s]#015 49%|████▉     | 385/782 [03:33<03:38,  1.82it/s]#015 49%|████▉     | 386/782 [03:33<03:37,  1.82it/s]#015 49%|████▉     | 387/782 [03:34<03:37,  1.82it/s]#015 50%|████▉     | 388/782 [03:35<03:36,  1.82it/s]#015 50%|████▉     | 389/782 [03:35<03:35,  1.82it/s]#015 50%|████▉     | 390/782 [03:36<03:34,  1.83it/s]#015 50%|█████     | 391/782 [03:36<03:34,  1.83it/s]#015 50%|█████     | 392/782 [03:37<03:34,  1.82it/s]#015 50%|█████     | 393/782 [03:37<03:34,  1.82it/s]#015 50%|█████     | 394/782 [03:38<03:34,  1.81it/s]#015 51%|█████     | 395/782 [03:38<03:32,  1.82it/s]#015 51%|█████     | 396/782 [03:39<03:32,  1.82it/s]#015 51%|█████     | 397/782 [03:39<03:32,  1.81it/s]#015 51%|█████     | 398/782 [03:40<03:31,  1.81it/s]#015 51%|█████     | 399/782 [03:41<03:30,  1.82it/s]#015 51%|█████     | 400/782 [03:41<03:29,  1.82it/s]#015 51%|█████▏    | 401/782 [03:42<03:28,  1.83it/s]#015 51%|█████▏    | 402/782 [03:42<03:27,  1.83it/s]#015 52%|█████▏    | 403/782 [03:43<03:26,  1.83it/s]#015 52%|█████▏    | 404/782 [03:43<03:26,  1.83it/s]#015 52%|█████▏    | 405/782 [03:44<03:26,  1.82it/s]#015 52%|█████▏    | 406/782 [03:44<03:26,  1.82it/s]#015 52%|█████▏    | 407/782 [03:45<03:27,  1.80it/s]#015 52%|█████▏    | 408/782 [03:46<03:25,  1.82it/s]#015 52%|█████▏    | 409/782 [03:46<03:24,  1.82it/s]#015 52%|█████▏    | 410/782 [03:47<03:23,  1.82it/s]#015 53%|█████▎    | 411/782 [03:47<03:23,  1.83it/s]#015 53%|█████▎    | 412/782 [03:48<03:22,  1.83it/s]#015 53%|█████▎    | 413/782 [03:48<03:21,  1.83it/s]#015 53%|█████▎    | 414/782 [03:49<03:21,  1.83it/s]#015 53%|█████▎    | 415/782 [03:49<03:21,  1.82it/s]#015 53%|█████▎    | 416/782 [03:50<03:20,  1.83it/s]#015 53%|█████▎    | 417/782 [03:50<03:22,  1.81it/s]#015 53%|█████▎    | 418/782 [03:51<03:22,  1.80it/s]#015 54%|█████▎    | 419/782 [03:52<03:20,  1.81it/s]#015 54%|█████▎    | 420/782 [03:52<03:19,  1.81it/s]#015 54%|█████▍    | 421/782 [03:53<03:18,  1.82it/s]#015 54%|█████▍    | 422/782 [03:53<03:19,  1.81it/s]#015 54%|█████▍    | 423/782 [03:54<03:18,  1.81it/s]#015 54%|█████▍    | 424/782 [03:54<03:16,  1.82it/s]#015 54%|█████▍    | 425/782 [03:55<03:15,  1.83it/s]#015 54%|█████▍    | 426/782 [03:55<03:14,  1.83it/s]#015 55%|█████▍    | 427/782 [03:56<03:14,  1.83it/s]#015 55%|█████▍    | 428/782 [03:56<03:14,  1.82it/s]#015 55%|█████▍    | 429/782 [03:57<03:13,  1.82it/s]#015 55%|█████▍    | 430/782 [03:58<03:15,  1.80it/s]#015 55%|█████▌    | 431/782 [03:58<03:17,  1.78it/s]#015 55%|█████▌    | 432/782 [03:59<03:18,  1.76it/s]#015 55%|█████▌    | 433/782 [03:59<03:18,  1.76it/s]#015 55%|█████▌    | 434/782 [04:00<03:17,  1.76it/s]#015 56%|█████▌    | 435/782 [04:00<03:16,  1.77it/s]#015 56%|█████▌    | 436/782 [04:01<03:15,  1.77it/s]#015 56%|█████▌    | 437/782 [04:02<03:13,  1.79it/s]#015 56%|█████▌    | 438/782 [04:02<03:11,  1.80it/s]#015 56%|█████▌    | 439/782 [04:03<03:09,  1.81it/s]#015 56%|█████▋    | 440/782 [04:03<03:09,  1.80it/s]#015 56%|█████▋    | 441/782 [04:04<03:08,  1.81it/s]#015 57%|█████▋    | 442/782 [04:04<03:07,  1.81it/s]#015 57%|█████▋    | 443/782 [04:05<03:06,  1.82it/s]#015 57%|█████▋    | 444/782 [04:05<03:05,  1.82it/s]#015 57%|█████▋    | 445/782 [04:06<03:04,  1.83it/s]#015 57%|█████▋    | 446/782 [04:07<03:04,  1.83it/s]#015 57%|█████▋    | 447/782 [04:07<03:03,  1.83it/s]#015 57%|█████▋    | 448/782 [04:08<03:02,  1.83it/s]#015 57%|█████▋    | 449/782 [04:08<03:02,  1.83it/s]#015 58%|█████▊    | 450/782 [04:09<03:01,  1.82it/s]#015 58%|█████▊    | 451/782 [04:09<03:01,  1.83it/s]#015 58%|█████▊    | 452/782 [04:10<03:00,  1.83it/s]#015 58%|█████▊    | 453/782 [04:10<03:00,  1.82it/s]#015 58%|█████▊    | 454/782 [04:11<03:00,  1.82it/s]#015 58%|█████▊    | 455/782 [04:11<02:59,  1.82it/s]#015 58%|█████▊    | 456/782 [04:12<02:58,  1.83it/s]#015 58%|█████▊    | 457/782 [04:13<03:04,  1.76it/s]#015 59%|█████▊    | 458/782 [04:13<03:02,  1.78it/s]#015 59%|█████▊    | 459/782 [04:14<03:00,  1.79it/s]#015 59%|█████▉    | 460/782 [04:14<02:57,  1.81it/s]#015 59%|█████▉    | 461/782 [04:15<02:57,  1.81it/s]#015 59%|█████▉    | 462/782 [04:15<02:56,  1.82it/s]#015 59%|█████▉    | 463/782 [04:16<02:56,  1.81it/s]#015 59%|█████▉    | 464/782 [04:16<02:56,  1.81it/s]#015 59%|█████▉    | 465/782 [04:17<02:55,  1.81it/s]#015 60%|█████▉    | 466/782 [04:18<02:54,  1.82it/s]#015 60%|█████▉    | 467/782 [04:18<02:53,  1.81it/s]#015 60%|█████▉    | 468/782 [04:19<02:53,  1.81it/s]#015 60%|█████▉    | 469/782 [04:19<02:52,  1.82it/s]#015 60%|██████    | 470/782 [04:20<02:51,  1.82it/s]#015 60%|██████    | 471/782 [04:20<02:50,  1.82it/s]#015 60%|██████    | 472/782 [04:21<02:50,  1.82it/s]#015 60%|██████    | 473/782 [04:21<02:49,  1.82it/s]#015 61%|██████    | 474/782 [04:22<02:49,  1.82it/s]#015 61%|██████    | 475/782 [04:23<02:49,  1.81it/s]#015 61%|██████    | 476/782 [04:23<02:48,  1.82it/s]#015 61%|██████    | 477/782 [04:24<02:49,  1.80it/s]#015 61%|██████    | 478/782 [04:24<02:47,  1.81it/s]#015 61%|██████▏   | 479/782 [04:25<02:46,  1.81it/s]#015 61%|██████▏   | 480/782 [04:25<02:45,  1.82it/s]#015 62%|██████▏   | 481/782 [04:26<02:45,  1.82it/s]#015 62%|██████▏   | 482/782 [04:26<02:44,  1.83it/s]#015 62%|██████▏   | 483/782 [04:27<02:43,  1.83it/s]#015 62%|██████▏   | 484/782 [04:27<02:42,  1.83it/s]#015 62%|██████▏   | 485/782 [04:28<02:42,  1.83it/s]#015 62%|██████▏   | 486/782 [04:29<02:41,  1.83it/s]#015 62%|██████▏   | 487/782 [04:29<02:41,  1.83it/s]#015 62%|██████▏   | 488/782 [04:30<02:43,  1.80it/s]#015 63%|██████▎   | 489/782 [04:30<02:41,  1.81it/s]#015 63%|██████▎   | 490/782 [04:31<02:40,  1.81it/s]#015 63%|██████▎   | 491/782 [04:31<02:40,  1.82it/s]#015 63%|██████▎   | 492/782 [04:32<02:40,  1.81it/s]#015 63%|██████▎   | 493/782 [04:32<02:39,  1.81it/s]#015 63%|██████▎   | 494/782 [04:33<02:38,  1.82it/s]#015 63%|██████▎   | 495/782 [04:34<02:37,  1.82it/s]#015 63%|██████▎   | 496/782 [04:34<02:36,  1.83it/s]#015 64%|██████▎   | 497/782 [04:35<02:35,  1.83it/s]#015 64%|██████▎   | 498/782 [04:35<02:34,  1.83it/s]#015 64%|██████▍   | 499/782 [04:36<02:34,  1.83it/s]#015 64%|██████▍   | 500/782 [04:36<02:34,  1.83it/s]#015                                                 #015#015 64%|██████▍   | 500/782 [04:36<02:34,  1.83it/s]#015 64%|██████▍   | 501/782 [04:39<05:25,  1.16s/it]#015 64%|██████▍   | 502/782 [04:39<04:32,  1.03it/s]#015 64%|██████▍   | 503/782 [04:40<03:55,  1.18it/s]#015 64%|██████▍   | 504/782 [04:40<03:29,  1.32it/s]#015 65%|██████▍   | 505/782 [04:41<03:11,  1.44it/s]#015 65%|██████▍   | 506/782 [04:42<02:58,  1.54it/s]#015 65%|██████▍   | 507/782 [04:42<02:50,  1.62it/s]#015 65%|██████▍   | 508/782 [04:43<02:43,  1.68it/s]#015 65%|██████▌   | 509/782 [04:43<02:42,  1.68it/s]#015 65%|██████▌   | 510/782 [04:44<02:38,  1.72it/s]#015 65%|██████▌   | 511/782 [04:44<02:34,  1.75it/s]#015 65%|██████▌   | 512/782 [04:45<02:32,  1.77it/s]#015 66%|██████▌   | 513/782 [04:45<02:30,  1.78it/s]#015 66%|██████▌   | 514/782 [04:46<02:29,  1.79it/s]#015 66%|██████▌   | 515/782 [04:47<02:27,  1.80it/s]#015 66%|██████▌   | 516/782 [04:47<02:27,  1.80it/s]#015 66%|██████▌   | 517/782 [04:48<02:26,  1.81it/s]#015 66%|██████▌   | 518/782 [04:48<02:25,  1.81it/s]#015 66%|██████▋   | 519/782 [04:49<02:24,  1.81it/s]#015 66%|██████▋   | 520/782 [04:49<02:24,  1.82it/s]#015 67%|██████▋   | 521/782 [04:50<02:23,  1.82it/s]#015 67%|██████▋   | 522/782 [04:50<02:22,  1.82it/s]#015 67%|██████▋   | 523/782 [04:51<02:22,  1.82it/s]#015 67%|██████▋   | 524/782 [04:51<02:21,  1.83it/s]#015 67%|██████▋   | 525/782 [04:52<02:20,  1.83it/s]#015 67%|██████▋   | 526/782 [04:53<02:19,  1.83it/s]#015 67%|██████▋   | 527/782 [04:53<02:20,  1.82it/s]#015 68%|██████▊   | 528/782 [04:54<02:19,  1.82it/s]#015 68%|██████▊   | 529/782 [04:54<02:19,  1.82it/s]#015 68%|██████▊   | 530/782 [04:55<02:18,  1.81it/s]#015 68%|██████▊   | 531/782 [04:55<02:18,  1.82it/s]#015 68%|██████▊   | 532/782 [04:56<02:17,  1.82it/s]#015 68%|██████▊   | 533/782 [04:56<02:16,  1.82it/s]#015 68%|██████▊   | 534/782 [04:57<02:15,  1.83it/s]#015 68%|██████▊   | 535/782 [04:58<02:18,  1.79it/s]#015 69%|██████▊   | 536/782 [04:58<02:17,  1.79it/s]#015 69%|██████▊   | 537/782 [04:59<02:16,  1.80it/s]#015 69%|██████▉   | 538/782 [04:59<02:16,  1.79it/s]#015 69%|██████▉   | 539/782 [05:00<02:15,  1.80it/s]#015 69%|██████▉   | 540/782 [05:00<02:16,  1.78it/s]#015 69%|██████▉   | 541/782 [05:01<02:15,  1.78it/s]#015 69%|██████▉   | 542/782 [05:01<02:14,  1.78it/s]#015 69%|██████▉   | 543/782 [05:02<02:12,  1.80it/s]#015 70%|██████▉   | 544/782 [05:03<02:11,  1.80it/s]#015 70%|██████▉   | 545/782 [05:03<02:10,  1.82it/s]#015 70%|██████▉   | 546/782 [05:04<02:09,  1.82it/s]#015 70%|██████▉   | 547/782 [05:04<02:09,  1.82it/s]#015 70%|███████   | 548/782 [05:05<02:08,  1.82it/s]#015 70%|███████   | 549/782 [05:05<02:08,  1.82it/s]#015 70%|███████   | 550/782 [05:06<02:07,  1.82it/s]#015 70%|███████   | 551/782 [05:06<02:06,  1.82it/s]#015 71%|███████   | 552/782 [05:07<02:06,  1.82it/s]#015 71%|███████   | 553/782 [05:07<02:05,  1.82it/s]#015 71%|███████   | 554/782 [05:08<02:08,  1.78it/s]#015 71%|███████   | 555/782 [05:09<02:06,  1.79it/s]#015 71%|███████   | 556/782 [05:09<02:05,  1.80it/s]#015 71%|███████   | 557/782 [05:10<02:04,  1.81it/s]#015 71%|███████▏  | 558/782 [05:10<02:03,  1.82it/s]#015 71%|███████▏  | 559/782 [05:11<02:04,  1.79it/s]#015 72%|███████▏  | 560/782 [05:11<02:04,  1.78it/s]#015 72%|███████▏  | 561/782 [05:12<02:06,  1.75it/s]#015 72%|███████▏  | 562/782 [05:13<02:03,  1.77it/s]#015 72%|███████▏  | 563/782 [05:13<02:01,  1.80it/s]#015 72%|███████▏  | 564/782 [05:14<02:00,  1.81it/s]#015 72%|█████�\u001b[0m\n",
      "\u001b[34m�█▏  | 565/782 [05:14<01:59,  1.81it/s]#015 72%|███████▏  | 566/782 [05:15<01:58,  1.82it/s]#015 73%|███████▎  | 567/782 [05:15<01:58,  1.82it/s]#015 73%|███████▎  | 568/782 [05:16<01:58,  1.81it/s]#015 73%|███████▎  | 569/782 [05:16<01:57,  1.82it/s]#015 73%|███████▎  | 570/782 [05:17<01:56,  1.82it/s]#015 73%|███████▎  | 571/782 [05:17<01:56,  1.81it/s]#015 73%|███████▎  | 572/782 [05:18<01:56,  1.81it/s]#015 73%|███████▎  | 573/782 [05:19<01:55,  1.81it/s]#015 73%|███████▎  | 574/782 [05:19<02:06,  1.64it/s]#015 74%|███████▎  | 575/782 [05:20<02:17,  1.50it/s]#015 74%|███████▎  | 576/782 [05:21<02:14,  1.53it/s]#015 74%|███████▍  | 577/782 [05:21<02:07,  1.61it/s]#015 74%|███████▍  | 578/782 [05:22<02:01,  1.68it/s]#015 74%|███████▍  | 579/782 [05:22<01:57,  1.73it/s]#015 74%|███████▍  | 580/782 [05:23<01:55,  1.75it/s]#015 74%|███████▍  | 581/782 [05:23<01:53,  1.77it/s]#015 74%|███████▍  | 582/782 [05:24<01:51,  1.79it/s]#015 75%|███████▍  | 583/782 [05:25<01:50,  1.80it/s]#015 75%|███████▍  | 584/782 [05:25<01:49,  1.81it/s]#015 75%|███████▍  | 585/782 [05:26<01:48,  1.81it/s]#015 75%|███████▍  | 586/782 [05:26<01:48,  1.81it/s]#015 75%|███████▌  | 587/782 [05:27<01:47,  1.81it/s]#015 75%|███████▌  | 588/782 [05:27<01:46,  1.81it/s]#015 75%|███████▌  | 589/782 [05:28<01:46,  1.82it/s]#015 75%|███████▌  | 590/782 [05:28<01:45,  1.83it/s]#015 76%|███████▌  | 591/782 [05:29<01:44,  1.82it/s]#015 76%|███████▌  | 592/782 [05:30<01:44,  1.82it/s]#015 76%|███████▌  | 593/782 [05:30<01:43,  1.82it/s]#015 76%|███████▌  | 594/782 [05:31<01:43,  1.82it/s]#015 76%|███████▌  | 595/782 [05:31<01:43,  1.81it/s]#015 76%|███████▌  | 596/782 [05:32<01:42,  1.81it/s]#015 76%|███████▋  | 597/782 [05:32<01:42,  1.81it/s]#015 76%|███████▋  | 598/782 [05:33<01:42,  1.79it/s]#015 77%|███████▋  | 599/782 [05:33<01:41,  1.81it/s]#015 77%|███████▋  | 600/782 [05:34<01:40,  1.82it/s]#015 77%|███████▋  | 601/782 [05:34<01:39,  1.82it/s]#015 77%|███████▋  | 602/782 [05:35<01:38,  1.82it/s]#015 77%|███████▋  | 603/782 [05:36<01:38,  1.82it/s]#015 77%|███████▋  | 604/782 [05:36<01:38,  1.81it/s]#015 77%|███████▋  | 605/782 [05:37<01:37,  1.81it/s]#015 77%|███████▋  | 606/782 [05:37<01:36,  1.82it/s]#015 78%|███████▊  | 607/782 [05:38<01:36,  1.81it/s]#015 78%|███████▊  | 608/782 [05:38<01:35,  1.82it/s]#015 78%|███████▊  | 609/782 [05:39<01:35,  1.82it/s]#015 78%|███████▊  | 610/782 [05:39<01:34,  1.82it/s]#015 78%|███████▊  | 611/782 [05:40<01:33,  1.82it/s]#015 78%|███████▊  | 612/782 [05:41<01:33,  1.82it/s]#015 78%|███████▊  | 613/782 [05:41<01:33,  1.81it/s]#015 79%|███████▊  | 614/782 [05:42<01:32,  1.81it/s]#015 79%|███████▊  | 615/782 [05:42<01:31,  1.82it/s]#015 79%|███████▉  | 616/782 [05:43<01:31,  1.82it/s]#015 79%|███████▉  | 617/782 [05:43<01:30,  1.82it/s]#015 79%|███████▉  | 618/782 [05:44<01:29,  1.82it/s]#015 79%|███████▉  | 619/782 [05:44<01:29,  1.83it/s]#015 79%|███████▉  | 620/782 [05:45<01:29,  1.81it/s]#015 79%|███████▉  | 621/782 [05:45<01:28,  1.82it/s]#015 80%|███████▉  | 622/782 [05:46<01:28,  1.82it/s]#015 80%|███████▉  | 623/782 [05:47<01:29,  1.78it/s]#015 80%|███████▉  | 624/782 [05:47<01:28,  1.79it/s]#015 80%|███████▉  | 625/782 [05:48<01:33,  1.68it/s]#015 80%|████████  | 626/782 [05:49<01:39,  1.56it/s]#015 80%|████████  | 627/782 [05:49<01:43,  1.50it/s]#015 80%|████████  | 628/782 [05:50<01:37,  1.58it/s]#015 80%|████████  | 629/782 [05:50<01:33,  1.64it/s]#015 81%|████████  | 630/782 [05:51<01:29,  1.70it/s]#015 81%|████████  | 631/782 [05:52<01:27,  1.73it/s]#015 81%|████████  | 632/782 [05:52<01:25,  1.75it/s]#015 81%|████████  | 633/782 [05:53<01:24,  1.77it/s]#015 81%|████████  | 634/782 [05:53<01:23,  1.78it/s]#015 81%|████████  | 635/782 [05:54<01:22,  1.79it/s]#015 81%|████████▏ | 636/782 [05:54<01:20,  1.81it/s]#015 81%|████████▏ | 637/782 [05:55<01:22,  1.76it/s]#015 82%|████████▏ | 638/782 [05:55<01:20,  1.78it/s]#015 82%|████████▏ | 639/782 [05:56<01:19,  1.80it/s]#015 82%|████████▏ | 640/782 [05:57<01:20,  1.76it/s]#015 82%|████████▏ | 641/782 [05:57<01:19,  1.78it/s]#015 82%|████████▏ | 642/782 [05:58<01:18,  1.79it/s]#015 82%|████████▏ | 643/782 [05:58<01:17,  1.79it/s]#015 82%|████████▏ | 644/782 [05:59<01:16,  1.79it/s]#015 82%|████████▏ | 645/782 [05:59<01:16,  1.78it/s]#015 83%|████████▎ | 646/782 [06:00<01:16,  1.78it/s]#015 83%|████████▎ | 647/782 [06:00<01:15,  1.78it/s]#015 83%|████████▎ | 648/782 [06:01<01:15,  1.77it/s]#015 83%|████████▎ | 649/782 [06:02<01:16,  1.73it/s]#015 83%|████████▎ | 650/782 [06:02<01:14,  1.76it/s]#015 83%|████████▎ | 651/782 [06:03<01:13,  1.78it/s]#015 83%|████████▎ | 652/782 [06:03<01:12,  1.79it/s]#015 84%|████████▎ | 653/782 [06:04<01:11,  1.80it/s]#015 84%|████████▎ | 654/782 [06:04<01:10,  1.80it/s]#015 84%|████████▍ | 655/782 [06:05<01:09,  1.82it/s]#015 84%|████████▍ | 656/782 [06:05<01:09,  1.82it/s]#015 84%|████████▍ | 657/782 [06:06<01:08,  1.82it/s]#015 84%|████████▍ | 658/782 [06:07<01:08,  1.81it/s]#015 84%|████████▍ | 659/782 [06:07<01:07,  1.81it/s]#015 84%|████████▍ | 660/782 [06:08<01:08,  1.79it/s]#015 85%|████████▍ | 661/782 [06:08<01:07,  1.80it/s]#015 85%|████████▍ | 662/782 [06:09<01:06,  1.80it/s]#015 85%|████████▍ | 663/782 [06:09<01:06,  1.78it/s]#015 85%|████████▍ | 664/782 [06:10<01:05,  1.80it/s]#015 85%|████████▌ | 665/782 [06:11<01:05,  1.80it/s]#015 85%|████████▌ | 666/782 [06:11<01:04,  1.81it/s]#015 85%|████████▌ | 667/782 [06:12<01:03,  1.81it/s]#015 85%|████████▌ | 668/782 [06:12<01:02,  1.81it/s]#015 86%|████████▌ | 669/782 [06:13<01:02,  1.80it/s]#015 86%|████████▌ | 670/782 [06:13<01:01,  1.81it/s]#015 86%|████████▌ | 671/782 [06:14<01:01,  1.81it/s]#015 86%|████████▌ | 672/782 [06:14<01:00,  1.81it/s]#015 86%|████████▌ | 673/782 [06:15<01:01,  1.78it/s]#015 86%|████████▌ | 674/782 [06:16<01:00,  1.78it/s]#015 86%|████████▋ | 675/782 [06:16<00:59,  1.81it/s]#015 86%|████████▋ | 676/782 [06:17<00:58,  1.80it/s]#015 87%|████████▋ | 677/782 [06:17<00:57,  1.82it/s]#015 87%|████████▋ | 678/782 [06:18<00:57,  1.82it/s]#015 87%|████████▋ | 679/782 [06:18<00:56,  1.82it/s]#015 87%|████████▋ | 680/782 [06:19<00:56,  1.81it/s]#015 87%|████████▋ | 681/782 [06:19<00:56,  1.79it/s]#015 87%|████████▋ | 682/782 [06:20<00:55,  1.81it/s]#015 87%|████████▋ | 683/782 [06:20<00:54,  1.81it/s]#015 87%|████████▋ | 684/782 [06:21<00:54,  1.81it/s]#015 88%|████████▊ | 685/782 [06:22<00:53,  1.82it/s]#015 88%|████████▊ | 686/782 [06:22<00:52,  1.82it/s]#015 88%|████████▊ | 687/782 [06:23<00:53,  1.79it/s]#015 88%|████████▊ | 688/782 [06:23<00:52,  1.80it/s]#015 88%|████████▊ | 689/782 [06:24<00:51,  1.81it/s]#015 88%|████████▊ | 690/782 [06:24<00:50,  1.82it/s]#015 88%|████████▊ | 691/782 [06:25<00:49,  1.83it/s]#015 88%|████████▊ | 692/782 [06:25<00:49,  1.83it/s]#015 89%|████████▊ | 693/782 [06:26<00:48,  1.83it/s]#015 89%|████████▊ | 694/782 [06:27<00:48,  1.82it/s]#015 89%|████████▉ | 695/782 [06:27<00:48,  1.81it/s]#015 89%|████████▉ | 696/782 [06:28<00:47,  1.82it/s]#015 89%|████████▉ | 697/782 [06:28<00:46,  1.82it/s]#015 89%|████████▉ | 698/782 [06:29<00:46,  1.82it/s]#015 89%|████████▉ | 699/782 [06:29<00:45,  1.82it/s]#015 90%|████████▉ | 700/782 [06:30<00:45,  1.82it/s]#015 90%|████████▉ | 701/782 [06:30<00:44,  1.82it/s]#015 90%|████████▉ | 702/782 [06:31<00:43,  1.83it/s]#015 90%|████████▉ | 703/782 [06:31<00:43,  1.82it/s]#015 90%|█████████ | 704/782 [06:32<00:43,  1.80it/s]#015 90%|█████████ | 705/782 [06:33<00:42,  1.80it/s]#015 90%|█████████ | 706/782 [06:33<00:41,  1.81it/s]#015 90%|█████████ | 707/782 [06:34<00:41,  1.81it/s]#015 91%|█████████ | 708/782 [06:34<00:40,  1.81it/s]#015 91%|█████████ | 709/782 [06:35<00:40,  1.81it/s]#015 91%|█████████ | 710/782 [06:35<00:39,  1.81it/s]#015 91%|█████████ | 711/782 [06:36<00:39,  1.80it/s]#015 91%|█████████ | 712/782 [06:36<00:38,  1.81it/s]#015 91%|█████████ | 713/782 [06:37<00:38,  1.81it/s]#015 91%|█████████▏| 714/782 [06:38<00:37,  1.81it/s]#015 91%|█████████▏| 715/782 [06:38<00:36,  1.81it/s]#015 92%|█████████▏| 716/782 [06:39<00:36,  1.82it/s]#015 92%|█████████▏| 717/782 [06:39<00:35,  1.82it/s]#015 92%|█████████▏| 718/782 [06:40<00:35,  1.83it/s]#015 92%|█████████▏| 719/782 [06:40<00:34,  1.82it/s]#015 92%|█████████▏| 720/782 [06:41<00:35,  1.76it/s]#015 92%|█████████▏| 721/782 [06:41<00:34,  1.76it/s]#015 92%|█████████▏| 722/782 [06:42<00:33,  1.77it/s]#015 92%|█████████▏| 723/782 [06:43<00:33,  1.75it/s]#015 93%|█████████▎| 724/782 [06:43<00:32,  1.77it/s]#015 93%|█████████▎| 725/782 [06:44<00:32,  1.78it/s]#015 93%|█████████▎| 726/782 [06:44<00:32,  1.74it/s]#015 93%|█████████▎| 727/782 [06:45<00:31,  1.75it/s]#015 93%|█████████▎| 728/782 [06:45<00:30,  1.77it/s]#015 93%|█████████▎| 729/782 [06:46<00:29,  1.79it/s]#015 93%|█████████▎| 730/782 [06:47<00:28,  1.80it/s]#015 93%|█████████▎| 731/782 [06:47<00:28,  1.79it/s]#015 94%|█████████▎| 732/782 [06:48<00:27,  1.80it/s]#015 94%|█████████▎| 733/782 [06:48<00:27,  1.81it/s]#015 94%|█████████▍| 734/782 [06:49<00:26,  1.81it/s]#015 94%|█████████▍| 735/782 [06:49<00:25,  1.82it/s]#015 94%|█████████▍| 736/782 [06:50<00:25,  1.83it/s]#015 94%|█████████▍| 737/782 [06:50<00:24,  1.83it/s]#015 94%|█████████▍| 738/782 [06:51<00:24,  1.83it/s]#015 95%|█████████▍| 739/782 [06:51<00:23,  1.83it/s]#015 95%|█████████▍| 740/782 [06:52<00:22,  1.83it/s]#015 95%|█████████▍| 741/782 [06:53<00:22,  1.84it/s]#015 95%|█████████▍| 742/782 [06:53<00:21,  1.84it/s]#015 95%|█████████▌| 743/782 [06:54<00:21,  1.83it/s]#015 95%|█████████▌| 744/782 [06:54<00:20,  1.82it/s]#015 95%|█████████▌| 745/782 [06:55<00:20,  1.82it/s]#015 95%|█████████▌| 746/782 [06:55<00:19,  1.82it/s]#015 96%|█████████▌| 747/782 [06:56<00:19,  1.82it/s]#015 96%|█████████▌| 748/782 [06:56<00:18,  1.81it/s]#015 96%|█████████▌| 749/782 [06:57<00:18,  1.82it/s]#015 96%|█████████▌| 750/782 [06:58<00:17,  1.81it/s]#015 96%|█████████▌| 751/782 [06:58<00:17,  1.81it/s]#015 96%|█████████▌| 752/782 [06:59<00:16,  1.81it/s]#015 96%|█████████▋| 753/782 [06:59<00:16,  1.78it/s]#015 96%|█████████▋| 754/782 [07:00<00:15,  1.77it/s]#015 97%|█████████▋| 755/782 [07:00<00:15,  1.78it/s]#015 97%|█████████▋| 756/782 [07:01<00:14,  1.77it/s]#015 97%|█████████▋| 757/782 [07:01<00:14,  1.76it/s]#015 97%|█████████▋| 758/782 [07:02<00:13,  1.78it/s]#015 97%|█████████▋| 759/782 [07:03<00:12,  1.79it/s]#015 97%|█████████▋| 760/782 [07:03<00:12,  1.81it/s]#015 97%|█████████▋| 761/782 [07:04<00:11,  1.82it/s]#015 97%|█████████▋| 762/782 [07:04<00:10,  1.82it/s]#015 98%|█████████▊| 763/782 [07:05<00:10,  1.77it/s]#015 98%|█████████▊| 764/782 [07:05<00:10,  1.79it/s]#015 98%|█████████▊| 765/782 [07:06<00:09,  1.80it/s]#015 98%|█████████▊| 766/782 [07:06<00:08,  1.81it/s]#015 98%|█████████▊| 767/782 [07:07<00:08,  1.81it/s]#015 98%|█████████▊| 768/782 [07:08<00:07,  1.82it/s]#015 98%|█████████▊| 769/782 [07:08<00:07,  1.82it/s]#015 98%|█████████▊| 770/782 [07:09<00:06,  1.82it/s]#015 99%|█████████▊| 771/782 [07:09<00:06,  1.81it/s]#015 99%|█████████▊| 772/782 [07:10<00:05,  1.82it/s]#015 99%|█████████▉| 773/782 [07:10<00:04,  1.83it/s]#015 99%|█████████▉| 774/782 [07:11<00:04,  1.82it/s]#015 99%|█████████▉| 775/782 [07:11<00:03,  1.82it/s]#015 99%|█████████▉| 776/782 [07:12<00:03,  1.82it/s]#015 99%|█████████▉| 777/782 [07:13<00:02,  1.78it/s]#015 99%|█████████▉| 778/782 [07:13<00:02,  1.80it/s]#015100%|█████████▉| 779/782 [07:14<00:01,  1.81it/s]#015100%|█████████▉| 780/782 [07:14<00:01,  1.82it/s]#015100%|█████████▉| 781/782 [07:15<00:00,  1.82it/s]#015100%|██████████| 782/782 [07:15<00:00,  2.23it/s]\u001b[0m\n",
      "\u001b[34m#015  0%|          | 0/157 [00:00<?, ?it/s]#033[A\u001b[0m\n",
      "\u001b[34m#015  1%|▏         | 2/157 [00:00<00:24,  6.31it/s]#033[A\u001b[0m\n",
      "\u001b[34m#015  2%|▏         | 3/157 [00:00<00:31,  4.86it/s]#033[A\u001b[0m\n",
      "\u001b[34m#015  3%|▎         | 4/157 [00:00<00:36,  4.14it/s]#033[A\u001b[0m\n",
      "\u001b[34m2022-01-12 23:24:00,283 sagemaker-training-toolkit INFO     Reporting training SUCCESS\u001b[0m\n",
      "\u001b[34m#015  3%|▎         | 5/157 [00:01<00:40,  3.79it/s]#033[A\u001b[0m\n",
      "\u001b[34m#015  4%|▍         | 6/157 [00:01<00:42,  3.58it/s]#033[A\u001b[0m\n",
      "\u001b[34m#015  4%|▍         | 7/157 [00:01<00:43,  3.44it/s]#033[A\u001b[0m\n",
      "\u001b[34m#015  5%|▌         | 8/157 [00:02<00:44,  3.34it/s]#033[A\u001b[0m\n",
      "\u001b[34m#015  6%|▌         | 9/157 [00:02<00:45,  3.27it/s]#033[A\u001b[0m\n",
      "\u001b[34m#015  6%|▋         | 10/157 [00:02<00:45,  3.21it/s]#033[A\u001b[0m\n",
      "\u001b[34m#015  7%|▋         | 11/157 [00:03<00:45,  3.19it/s]#033[A\u001b[0m\n",
      "\u001b[34m#015  8%|▊         | 12/157 [00:03<00:45,  3.18it/s]#033[A\u001b[0m\n",
      "\u001b[34m#015  8%|▊         | 13/157 [00:03<00:45,  3.18it/s]#033[A\u001b[0m\n",
      "\u001b[34m#015  9%|▉         | 14/157 [00:04<00:45,  3.17it/s]#033[A\u001b[0m\n",
      "\u001b[34m#015 10%|▉         | 15/157 [00:04<00:44,  3.17it/s]#033[A\u001b[0m\n",
      "\u001b[34m#015 10%|█         | 16/157 [00:04<00:44,  3.16it/s]#033[A\u001b[0m\n",
      "\u001b[34m#015 11%|█         | 17/157 [00:05<00:44,  3.16it/s]#033[A\u001b[0m\n",
      "\u001b[34m#015 11%|█▏        | 18/157 [00:05<00:43,  3.16it/s]#033[A\u001b[0m\n",
      "\u001b[34m#015 12%|█▏        | 19/157 [00:05<00:43,  3.16it/s]#033[A\u001b[0m\n",
      "\u001b[34m#015 13%|█▎        | 20/157 [00:06<00:43,  3.15it/s]#033[A\u001b[0m\n",
      "\u001b[34m#015 13%|█▎        | 21/157 [00:06<00:43,  3.15it/s]#033[A\u001b[0m\n",
      "\u001b[34m#015 14%|█▍        | 22/157 [00:06<00:42,  3.14it/s]#033[A\u001b[0m\n",
      "\u001b[34m#015 15%|█▍        | 23/157 [00:06<00:42,  3.15it/s]#033[A\u001b[0m\n",
      "\u001b[34m#015 15%|█▌        | 24/157 [00:07<00:42,  3.16it/s]#033[A\u001b[0m\n",
      "\u001b[34m#015 16%|█▌        | 25/157 [00:07<00:41,  3.15it/s]#033[A\u001b[0m\n",
      "\u001b[34m#015 17%|█▋        | 26/157 [00:07<00:42,  3.11it/s]#033[A\u001b[0m\n",
      "\u001b[34m#015 17%|█▋        | 27/157 [00:08<00:41,  3.13it/s]#033[A\u001b[0m\n",
      "\u001b[34m#015 18%|█▊        | 28/157 [00:08<00:41,  3.14it/s]#033[A\u001b[0m\n",
      "\u001b[34m#015 18%|█▊        | 29/157 [00:08<00:40,  3.14it/s]#033[A\u001b[0m\n",
      "\u001b[34m#015 19%|█▉        | 30/157 [00:09<00:40,  3.15it/s]#033[A\u001b[0m\n",
      "\u001b[34m#015 20%|█▉        | 31/157 [00:09<00:39,  3.15it/s]#033[A\u001b[0m\n",
      "\u001b[34m#015 20%|██        | 32/157 [00:09<00:39,  3.15it/s]#033[A\u001b[0m\n",
      "\u001b[34m#015 21%|██        | 33/157 [00:10<00:39,  3.16it/s]#033[A\u001b[0m\n",
      "\u001b[34m#015 22%|██▏       | 34/157 [00:10<00:38,  3.16it/s]#033[A\u001b[0m\n",
      "\u001b[34m#015 22%|██▏       | 35/157 [00:10<00:38,  3.16it/s]#033[A\u001b[0m\n",
      "\u001b[34m#015 23%|██▎       | 36/157 [00:11<00:38,  3.16it/s]#033[A\u001b[0m\n",
      "\u001b[34m#015 24%|██▎       | 37/157 [00:11<00:38,  3.16it/s]#033[A\u001b[0m\n",
      "\u001b[34m#015 24%|██▍       | 38/157 [00:11<00:37,  3.15it/s]#033[A\u001b[0m\n",
      "\u001b[34m#015 25%|██▍       | 39/157 [00:12<00:37,  3.15it/s]#033[A\u001b[0m\n",
      "\u001b[34m#015 25%|██▌       | 40/157 [00:12<00:37,  3.16it/s]#033[A\u001b[0m\n",
      "\u001b[34m#015 26%|██▌       | 41/157 [00:12<00:36,  3.15it/s]#033[A\u001b[0m\n",
      "\u001b[34m#015 27%|██▋       | 42/157 [00:13<00:36,  3.14it/s]#033[A\u001b[0m\n",
      "\u001b[34m#015 27%|██▋       | 43/157 [00:13<00:36,  3.14it/s]#033[A\u001b[0m\n",
      "\u001b[34m#015 28%|██▊       | 44/157 [00:13<00:35,  3.15it/s]#033[A\u001b[0m\n",
      "\u001b[34m#015 29%|██▊       | 45/157 [00:13<00:35,  3.15it/s]#033[A\u001b[0m\n",
      "\u001b[34m#015 29%|██▉       | 46/157 [00:14<00:35,  3.15it/s]#033[A\u001b[0m\n",
      "\u001b[34m#015 30%|██▉       | 47/157 [00:14<00:34,  3.15it/s]#033[A\u001b[0m\n",
      "\u001b[34m#015 31%|███       | 48/157 [00:14<00:34,  3.15it/s]#033[A\u001b[0m\n",
      "\u001b[34m#015 31%|███       | 49/157 [00:15<00:34,  3.16it/s]#033[A\u001b[0m\n",
      "\u001b[34m#015 32%|███▏      | 50/157 [00:15<00:33,  3.16it/s]#033[A\u001b[0m\n",
      "\u001b[34m#015 32%|███▏      | 51/157 [00:15<00:33,  3.16it/s]#033[A\u001b[0m\n",
      "\u001b[34m#015 33%|███▎      | 52/157 [00:16<00:33,  3.16it/s]#033[A\u001b[0m\n",
      "\u001b[34m#015 34%|███▍      | 53/157 [00:16<00:32,  3.16it/s]#033[A\u001b[0m\n",
      "\u001b[34m#015 34%|███▍      | 54/157 [00:16<00:32,  3.16it/s]#033[A\u001b[0m\n",
      "\u001b[34m#015 35%|███▌      | 55/157 [00:17<00:32,  3.16it/s]#033[A\u001b[0m\n",
      "\u001b[34m#015 36%|███▌      | 56/157 [00:17<00:31,  3.16it/s]#033[A\u001b[0m\n",
      "\u001b[34m#015 36%|███▋      | 57/157 [00:17<00:31,  3.15it/s]#033[A\u001b[0m\n",
      "\u001b[34m#015 37%|███▋      | 58/157 [00:18<00:31,  3.13it/s]#033[A\u001b[0m\n",
      "\u001b[34m#015 38%|███▊      | 59/157 [00:18<00:31,  3.13it/s]#033[A\u001b[0m\n",
      "\u001b[34m#015 38%|███▊      | 60/157 [00:18<00:30,  3.14it/s]#033[A\u001b[0m\n",
      "\u001b[34m#015 39%|███▉      | 61/157 [00:19<00:30,  3.14it/s]#033[A\u001b[0m\n",
      "\u001b[34m#015 39%|███▉      | 62/157 [00:19<00:30,  3.15it/s]#033[A\u001b[0m\n",
      "\u001b[34m#015 40%|████      | 63/157 [00:19<00:29,  3.15it/s]#033[A\u001b[0m\n",
      "\u001b[34m#015 41%|████      | 64/157 [00:20<00:29,  3.14it/s]#033[A\u001b[0m\n",
      "\u001b[34m#015 41%|████▏     | 65/157 [00:20<00:29,  3.15it/s]#033[A\u001b[0m\n",
      "\u001b[34m#015 42%|████▏     | 66/157 [00:20<00:28,  3.15it/s]#033[A\u001b[0m\n",
      "\u001b[34m#015 43%|████▎     | 67/157 [00:20<00:28,  3.15it/s]#033[A\u001b[0m\n",
      "\u001b[34m#015 43%|████▎     | 68/157 [00:21<00:28,  3.16it/s]#033[A\u001b[0m\n",
      "\u001b[34m#015 44%|████▍     | 69/157 [00:21<00:27,  3.15it/s]#033[A\u001b[0m\n",
      "\u001b[34m#015 45%|████▍     | 70/157 [00:21<00:27,  3.15it/s]#033[A\u001b[0m\n",
      "\u001b[34m#015 45%|████▌     | 71/157 [00:22<00:27,  3.15it/s]#033[A\u001b[0m\n",
      "\u001b[34m#015 46%|████▌     | 72/157 [00:22<00:26,  3.16it/s]#033[A\u001b[0m\n",
      "\u001b[34m#015 46%|████▋     | 73/157 [00:22<00:26,  3.15it/s]#033[A\u001b[0m\n",
      "\u001b[34m#015 47%|████▋     | 74/157 [00:23<00:26,  3.14it/s]#033[A\u001b[0m\n",
      "\u001b[34m#015 48%|████▊     | 75/157 [00:23<00:26,  3.14it/s]#033[A\u001b[0m\n",
      "\u001b[34m#015 48%|████▊     | 76/157 [00:23<00:25,  3.15it/s]#033[A\u001b[0m\n",
      "\u001b[34m#015 49%|████▉     | 77/157 [00:24<00:25,  3.15it/s]#033[A\u001b[0m\n",
      "\u001b[34m#015 50%|████▉     | 78/157 [00:24<00:25,  3.15it/s]#033[A\u001b[0m\n",
      "\u001b[34m#015 50%|█████     | 79/157 [00:24<00:24,  3.16it/s]#033[A\u001b[0m\n",
      "\u001b[34m#015 51%|█████     | 80/157 [00:25<00:24,  3.16it/s]#033[A\u001b[0m\n",
      "\u001b[34m#015 52%|█████▏    | 81/157 [00:25<00:24,  3.15it/s]#033[A\u001b[0m\n",
      "\u001b[34m#015 52%|█████▏    | 82/157 [00:25<00:23,  3.15it/s]#033[A\u001b[0m\n",
      "\u001b[34m#015 53%|█████▎    | 83/157 [00:26<00:23,  3.15it/s]#033[A\u001b[0m\n",
      "\u001b[34m#015 54%|█████▎    | 84/157 [00:26<00:23,  3.16it/s]#033[A\u001b[0m\n",
      "\u001b[34m#015 54%|█████▍    | 85/157 [00:26<00:22,  3.16it/s]#033[A\u001b[0m\n",
      "\u001b[34m#015 55%|█████▍    | 86/157 [00:27<00:22,  3.14it/s]#033[A\u001b[0m\n",
      "\u001b[34m#015 55%|█████▌    | 87/157 [00:27<00:22,  3.13it/s]#033[A\u001b[0m\n",
      "\u001b[34m#015 56%|█████▌    | 88/157 [00:27<00:22,  3.13it/s]#033[A\u001b[0m\n",
      "\u001b[34m#015 57%|█████▋    | 89/157 [00:27<00:21,  3.12it/s]#033[A\u001b[0m\n",
      "\u001b[34m#015 57%|█████▋    | 90/157 [00:28<00:21,  3.10it/s]#033[A\u001b[0m\n",
      "\u001b[34m#015 58%|█████▊    | 91/157 [00:28<00:21,  3.12it/s]#033[A\u001b[0m\n",
      "\u001b[34m#015 59%|█████▊    | 92/157 [00:28<00:20,  3.13it/s]#033[A\u001b[0m\n",
      "\u001b[34m#015 59%|█████▉    | 93/157 [00:29<00:20,  3.14it/s]#033[A\u001b[0m\n",
      "\u001b[34m#015 60%|█████▉    | 94/157 [00:29<00:20,  3.15it/s]#033[A\u001b[0m\n",
      "\u001b[34m#015 61%|██████    | 95/157 [00:29<00:19,  3.15it/s]#033[A\u001b[0m\n",
      "\u001b[34m#015 61%|██████    | 96/157 [00:30<00:19,  3.15it/s]#033[A\u001b[0m\n",
      "\u001b[34m#015 62%|██████▏   | 97/157 [00:30<00:19,  3.15it/s]#033[A\u001b[0m\n",
      "\u001b[34m#015 62%|██████▏   | 98/157 [00:30<00:18,  3.16it/s]#033[A\u001b[0m\n",
      "\u001b[34m#015 63%|██████▎   | 99/157 [00:31<00:18,  3.16it/s]#033[A\u001b[0m\n",
      "\u001b[34m#015 64%|██████▎   | 100/157 [00:31<00:18,  3.16it/s]#033[A\u001b[0m\n",
      "\u001b[34m#015 64%|██████▍   | 101/157 [00:31<00:17,  3.16it/s]#033[A\u001b[0m\n",
      "\u001b[34m#015 65%|██████▍   | 102/157 [00:32<00:17,  3.14it/s]#033[A\u001b[0m\n",
      "\u001b[34m#015 66%|██████▌   | 103/157 [00:32<00:17,  3.15it/s]#033[A\u001b[0m\n",
      "\u001b[34m#015 66%|██████▌   | 104/157 [00:32<00:16,  3.14it/s]#033[A\u001b[0m\n",
      "\u001b[34m#015 67%|██████▋   | 105/157 [00:33<00:16,  3.12it/s]#033[A\u001b[0m\n",
      "\u001b[34m#015 68%|██████▊   | 106/157 [00:33<00:16,  3.11it/s]#033[A\u001b[0m\n",
      "\u001b[34m#015 68%|██████▊   | 107/157 [00:33<00:16,  3.12it/s]#033[A\u001b[0m\n",
      "\u001b[34m#015 69%|██████▉   | 108/157 [00:34<00:15,  3.13it/s]#033[A\u001b[0m\n",
      "\u001b[34m#015 69%|██████▉   | 109/157 [00:34<00:15,  3.14it/s]#033[A\u001b[0m\n",
      "\u001b[34m#015 70%|███████   | 110/157 [00:34<00:14,  3.14it/s]#033[A\u001b[0m\n",
      "\u001b[34m#015 71%|███████   | 111/157 [00:34<00:14,  3.15it/s]#033[A\u001b[0m\n",
      "\u001b[34m#015 71%|███████▏  | 112/157 [00:35<00:14,  3.15it/s]#033[A\u001b[0m\n",
      "\u001b[34m#015 72%|███████▏  | 113/157 [00:35<00:13,  3.15it/s]#033[A\u001b[0m\n",
      "\u001b[34m#015 73%|███████▎  | 114/157 [00:35<00:13,  3.15it/s]#033[A\u001b[0m\n",
      "\u001b[34m#015 73%|███████▎  | 115/157 [00:36<00:13,  3.15it/s]#033[A\u001b[0m\n",
      "\u001b[34m#015 74%|███████▍  | 116/157 [00:36<00:12,  3.15it/s]#033[A\u001b[0m\n",
      "\u001b[34m#015 75%|███████▍  | 117/157 [00:36<00:12,  3.15it/s]#033[A\u001b[0m\n",
      "\u001b[34m#015 75%|███████▌  | 118/157 [00:37<00:12,  3.14it/s]#033[A\u001b[0m\n",
      "\u001b[34m#015 76%|███████▌  | 119/157 [00:37<00:12,  3.15it/s]#033[A\u001b[0m\n",
      "\u001b[34m#015 76%|███████▋  | 120/157 [00:37<00:11,  3.16it/s]#033[A\u001b[0m\n",
      "\u001b[34m#015 77%|███████▋  | 121/157 [00:38<00:11,  3.15it/s]#033[A\u001b[0m\n",
      "\u001b[34m#015 78%|███████▊  | 122/157 [00:38<00:11,  3.14it/s]#033[A\u001b[0m\n",
      "\u001b[34m#015 78%|███████▊  | 123/157 [00:38<00:10,  3.15it/s]#033[A\u001b[0m\n",
      "\u001b[34m#015 79%|███████▉  | 124/157 [00:39<00:10,  3.14it/s]#033[A\u001b[0m\n",
      "\u001b[34m#015 80%|███████▉  | 125/157 [00:39<00:10,  3.14it/s]#033[A\u001b[0m\n",
      "\u001b[34m#015 80%|████████  | 126/157 [00:39<00:09,  3.15it/s]#033[A\u001b[0m\n",
      "\u001b[34m#015 81%|████████  | 127/157 [00:40<00:09,  3.15it/s]#033[A\u001b[0m\n",
      "\u001b[34m#015 82%|████████▏ | 128/157 [00:40<00:09,  3.16it/s]#033[A\u001b[0m\n",
      "\u001b[34m#015 82%|████████▏ | 129/157 [00:40<00:08,  3.16it/s]#033[A\u001b[0m\n",
      "\u001b[34m#015 83%|████████▎ | 130/157 [00:41<00:08,  3.14it/s]#033[A\u001b[0m\n",
      "\u001b[34m#015 83%|████████▎ | 131/157 [00:41<00:08,  3.13it/s]#033[A\u001b[0m\n",
      "\u001b[34m#015 84%|████████▍ | 132/157 [00:41<00:08,  3.12it/s]#033[A\u001b[0m\n",
      "\u001b[34m#015 85%|████████▍ | 133/157 [00:41<00:07,  3.13it/s]#033[A\u001b[0m\n",
      "\u001b[34m#015 85%|████████▌ | 134/157 [00:42<00:07,  3.14it/s]#033[A\u001b[0m\n",
      "\u001b[34m#015 86%|████████▌ | 135/157 [00:42<00:07,  3.14it/s]#033[A\u001b[0m\n",
      "\u001b[34m#015 87%|████████▋ | 136/157 [00:42<00:06,  3.12it/s]#033[A\u001b[0m\n",
      "\u001b[34m#015 87%|████████▋ | 137/157 [00:43<00:06,  3.11it/s]#033[A\u001b[0m\n",
      "\u001b[34m#015 88%|████████▊ | 138/157 [00:43<00:06,  3.10it/s]#033[A\u001b[0m\n",
      "\u001b[34m#015 89%|████████▊ | 139/157 [00:43<00:05,  3.10it/s]#033[A\u001b[0m\n",
      "\u001b[34m#015 89%|████████▉ | 140/157 [00:44<00:05,  3.11it/s]#033[A\u001b[0m\n",
      "\u001b[34m#015 90%|████████▉ | 141/157 [00:44<00:05,  3.10it/s]#033[A\u001b[0m\n",
      "\u001b[34m#015 90%|█████████ | 142/157 [00:44<00:04,  3.11it/s]#033[A\u001b[0m\n",
      "\u001b[34m#015 91%|█████████ | 143/157 [00:45<00:04,  3.11it/s]#033[A\u001b[0m\n",
      "\u001b[34m#015 92%|█████████▏| 144/157 [00:45<00:04,  3.12it/s]#033[A\u001b[0m\n",
      "\u001b[34m#015 92%|█████████▏| 145/157 [00:45<00:03,  3.12it/s]#033[A\u001b[0m\n",
      "\u001b[34m#015 93%|█████████▎| 146/157 [00:46<00:03,  3.10it/s]#033[A\u001b[0m\n",
      "\u001b[34m#015 94%|█████████▎| 147/157 [00:46<00:03,  3.10it/s]#033[A\u001b[0m\n",
      "\u001b[34m#015 94%|█████████▍| 148/157 [00:46<00:02,  3.11it/s]#033[A\u001b[0m\n",
      "\u001b[34m#015 95%|█████████▍| 149/157 [00:47<00:02,  3.13it/s]#033[A\u001b[0m\n",
      "\u001b[34m#015 96%|█████████▌| 150/157 [00:47<00:02,  3.13it/s]#033[A\u001b[0m\n",
      "\u001b[34m#015 96%|█████████▌| 151/157 [00:47<00:01,  3.14it/s]#033[A\u001b[0m\n",
      "\u001b[34m#015 97%|█████████▋| 152/157 [00:48<00:01,  3.15it/s]#033[A\u001b[0m\n",
      "\u001b[34m#015 97%|█████████▋| 153/157 [00:48<00:01,  3.13it/s]#033[A\u001b[0m\n",
      "\u001b[34m#015 98%|█████████▊| 154/157 [00:48<00:00,  3.12it/s]#033[A\u001b[0m\n",
      "\u001b[34m#015 99%|█████████▊| 155/157 [00:49<00:00,  3.13it/s]#033[A\u001b[0m\n",
      "\u001b[34m#015 99%|█████████▉| 156/157 [00:49<00:00,  3.13it/s]#033[A#015                                                 #015\u001b[0m\n",
      "\u001b[34m#015                                                 #015#033[A#015100%|██████████| 782/782 [08:05<00:00,  2.23it/s]\u001b[0m\n",
      "\u001b[34m#015100%|██████████| 157/157 [00:49<00:00,  3.13it/s]#033[A\u001b[0m\n",
      "\u001b[34m#015                                                 #033[A#015                                                 #015#015100%|██████████| 782/782 [08:05<00:00,  2.23it/s]#015100%|██████████| 782/782 [08:05<00:00,  1.61it/s]\u001b[0m\n",
      "\u001b[34m#015  0%|          | 0/157 [00:00<?, ?it/s]#015  1%|▏         | 2/157 [00:00<00:24,  6.34it/s]#015  2%|▏         | 3/157 [00:00<00:31,  4.87it/s]#015  3%|▎         | 4/157 [00:00<00:36,  4.20it/s]#015  3%|▎         | 5/157 [00:01<00:39,  3.80it/s]#015  4%|▍         | 6/157 [00:01<00:42,  3.56it/s]#015  4%|▍         | 7/157 [00:01<00:43,  3.42it/s]#015  5%|▌         | 8/157 [00:02<00:44,  3.32it/s]#015  6%|▌         | 9/157 [00:02<00:45,  3.27it/s]#015  6%|▋         | 10/157 [00:02<00:45,  3.24it/s]#015  7%|▋         | 11/157 [00:03<00:45,  3.22it/s]#015  8%|▊         | 12/157 [00:03<00:45,  3.20it/s]#015  8%|▊         | 13/157 [00:03<00:45,  3.17it/s]#015  9%|▉         | 14/157 [00:04<00:45,  3.17it/s]#015 10%|▉         | 15/157 [00:04<00:44,  3.16it/s]#015 10%|█         | 16/157 [00:04<00:44,  3.16it/s]#015 11%|█         | 17/157 [00:05<00:44,  3.17it/s]#015 11%|█▏        | 18/157 [00:05<00:43,  3.16it/s]#015 12%|█▏        | 19/157 [00:05<00:43,  3.16it/s]#015 13%|█▎        | 20/157 [00:06<00:43,  3.16it/s]#015 13%|█▎        | 21/157 [00:06<00:42,  3.16it/s]#015 14%|█▍        | 22/157 [00:06<00:42,  3.17it/s]#015 15%|█▍        | 23/157 [00:06<00:42,  3.16it/s]#015 15%|█▌        | 24/157 [00:07<00:42,  3.16it/s]#015 16%|█▌        | 25/157 [00:07<00:41,  3.16it/s]#015 17%|█▋        | 26/157 [00:07<00:41,  3.15it/s]#015 17%|█▋        | 27/157 [00:08<00:41,  3.16it/s]#015 18%|█▊        | 28/157 [00:08<00:41,  3.15it/s]#015 18%|█▊        | 29/157 [00:08<00:40,  3.14it/s]#015 19%|█▉        | 30/157 [00:09<00:40,  3.15it/s]#015 20%|█▉        | 31/157 [00:09<00:40,  3.14it/s]#015 20%|██        | 32/157 [00:09<00:39,  3.15it/s]#015 21%|██        | 33/157 [00:10<00:39,  3.16it/s]#015 22%|██▏       | 34/157 [00:10<00:38,  3.16it/s]#015 22%|██▏       | 35/157 [00:10<00:38,  3.16it/s]#015 23%|██▎       | 36/157 [00:11<00:38,  3.16it/s]#015 24%|██▎       | 37/157 [00:11<00:37,  3.16it/s]#015 24%|██▍       | 38/157 [00:11<00:37,  3.16it/s]#015 25%|██▍       | 39/157 [00:12<00:37,  3.17it/s]#015 25%|██▌       | 40/157 [00:12<00:36,  3.16it/s]#015 26%|██▌       | 41/157 [00:12<00:36,  3.17it/s]#015 27%|██▋       | 42/157 [00:12<00:36,  3.17it/s]#015 27%|██▋       | 43/157 [00:13<00:36,  3.16it/s]#015 28%|██▊       | 44/157 [00:13<00:35,  3.15it/s]#015 29%|██▊       | 45/157 [00:13<00:35,  3.15it/s]#015 29%|██▉       | 46/157 [00:14<00:35,  3.16it/s]#015 30%|██▉       | 47/157 [00:14<00:34,  3.16it/s]#015 31%|███       | 48/157 [00:14<00:34,  3.16it/s]#015 31%|███       | 49/157 [00:15<00:34,  3.15it/s]#015 32%|███▏      | 50/157 [00:15<00:33,  3.16it/s]#015 32%|███▏      | 51/157 [00:15<00:33,  3.16it/s]#015 33%|███▎      | 52/157 [00:16<00:33,  3.16it/s]#015 34%|███▍      | 53/157 [00:16<00:32,  3.17it/s]#015 34%|███▍      | 54/157 [00:16<00:32,  3.17it/s]#015 35%|███▌      | 55/157 [00:17<00:32,  3.17it/s]#015 36%|███▌      | 56/157 [00:17<00:31,  3.17it/s]#015 36%|███▋      | 57/157 [00:17<00:31,  3.16it/s]#015 37%|███▋      | 58/157 [00:18<00:31,  3.17it/s]#015 38%|███▊      | 59/157 [00:18<00:30,  3.17it/s]#015 38%|███▊      | 60/157 [00:18<00:30,  3.15it/s]#015 39%|███▉      | 61/157 [00:19<00:30,  3.16it/s]#015 39%|███▉      | 62/157 [00:19<00:30,  3.14it/s]#015 40%|████      | 63/157 [00:19<00:29,  3.15it/s]#015 41%|████      | 64/157 [00:19<00:29,  3.14it/s]#015 41%|████▏     | 65/157 [00:20<00:29,  3.14it/s]#015 42%|████▏     | 66/157 [00:20<00:28,  3.15it/s]#015 43%|████▎     | 67/157 [00:20<00:28,  3.15it/s]#015 43%|████▎     | 68/157 [00:21<00:28,  3.16it/s]#015 44%|████▍     | 69/157 [00:21<00:27,  3.16it/s]#015 45%|████▍     | 70/157 [00:21<00:27,  3.16it/s]#015 45%|████▌     | 71/157 [00:22<00:27,  3.16it/s]#015 46%|████▌     | 72/157 [00:22<00:27,  3.15it/s]#015 46%|████▋     | 73/157 [00:22<00:26,  3.14it/s]#015 47%|████▋     | 74/157 [00:23<00:26,  3.13it/s]#015 48%|████▊     | 75/157 [00:23<00:26,  3.13it/s]#015 48%|████▊     | 76/157 [00:23<00:25,  3.14it/s]#015 49%|████▉     | 77/157 [00:24<00:25,  3.15it/s]#015 50%|████▉     | 78/157 [00:24<00:25,  3.15it/s]#015 50%|█████     | 79/157 [00:24<00:24,  3.15it/s]#015 51%|█████     | 80/157 [00:25<00:24,  3.16it/s]#015 52%|█████▏    | 81/157 [00:25<00:24,  3.16it/s]#015 52%|█████▏    | 82/157 [00:25<00:23,  3.17it/s]#015 53%|█████▎    | 83/157 [00:25<00:23,  3.16it/s]#015 54%|█████▎    | 84/157 [00:26<00:23,  3.16it/s]#015 54%|█████▍    | 85/157 [00:26<00:22,  3.17it/s]#015 55%|█████▍    | 86/157 [00:26<00:22,  3.17it/s]#015 55%|█████▌    | 87/157 [00:27<00:22,  3.16it/s]#015 56%|█████▌    | 88/157 [00:27<00:21,  3.16it/s]#015 57%|█████▋    | 89/157 [00:27<00:21,  3.16it/s]#015 57%|█████▋    | 90/157 [00:28<00:21,  3.16it/s]#015 58%|█████▊    | 91/157 [00:28<00:20,  3.16it/s]#015 59%|█████▊    | 92/157 [00:28<00:20,  3.15it/s]#015 59%|█████▉    | 93/157 [00:29<00:20,  3.15it/s]#015 60%|█████▉    | 94/157 [00:29<00:19,  3.16it/s]#015 61%|██████    | 95/157 [00:29<00:19,  3.16it/s]#015 61%|██████    | 96/157 [00:30<00:19,  3.17it/s]#015 62%|██████▏   | 97/157 [00:30<00:18,  3.16it/s]#015 62%|██████▏   | 98/157 [00:30<00:18,  3.16it/s]#015 63%|██████▎   | 99/157 [00:31<00:18,  3.17it/s]#015 64%|██████▎   | 100/157 [00:31<00:18,  3.14it/s]#015 64%|██████▍   | 101/157 [00:31<00:17,  3.15it/s]#015 65%|██████▍   | 102/157 [00:32<00:17,  3.15it/s]#015 66%|██████▌   | 103/157 [00:32<00:17,  3.16it/s]#015 66%|██████▌   | 104/157 [00:32<00:16,  3.16it/s]#015 67%|██████▋   | 105/157 [00:32<00:16,  3.16it/s]#015 68%|██████▊   | 106/157 [00:33<00:16,  3.17it/s]#015 68%|██████▊   | 107/157 [00:33<00:15,  3.17it/s]#015 69%|██████▉   | 108/157 [00:33<00:15,  3.17it/s]#015 69%|██████▉   | 109/157 [00:34<00:15,  3.17it/s]#015 70%|███████   | 110/157 [00:34<00:14,  3.17it/s]#015 71%|███████   | 111/157 [00:34<00:14,  3.17it/s]#015 71%|███████▏  | 112/157 [00:35<00:14,  3.17it/s]#015 72%|███████▏  | 113/157 [00:35<00:13,  3.16it/s]#015 73%|███████▎  | 114/157 [00:35<00:13,  3.17it/s]#015 73%|███████▎  | 115/157 [00:36<00:13,  3.17it/s]#015 74%|███████▍  | 116/157 [00:36<00:12,  3.17it/s]#015 75%|███████▍  | 117/157 [00:36<00:12,  3.17it/s]#015 75%|███████▌  | 118/157 [00:37<00:12,  3.17it/s]#015 76%|███████▌  | 119/157 [00:37<00:11,  3.17it/s]#015 76%|███████▋  | 120/157 [00:37<00:11,  3.17it/s]#015 77%|███████▋  | 121/157 [00:38<00:11,  3.16it/s]#015 78%|███████▊  | 122/157 [00:38<00:11,  3.16it/s]#015 78%|███████▊  | 123/157 [00:38<00:10,  3.16it/s]#015 79%|███████▉  | 124/157 [00:38<00:10,  3.16it/s]#015 80%|███████▉  | 125/157 [00:39<00:10,  3.16it/s]#015 80%|████████  | 126/157 [00:39<00:09,  3.16it/s]#015 81%|████████  | 127/157 [00:39<00:09,  3.17it/s]#015 82%|████████▏ | 128/157 [00:40<00:09,  3.17it/s]#015 82%|████████▏ | 129/157 [00:40<00:08,  3.16it/s]#015 83%|████████▎ | 130/157 [00:40<00:08,  3.17it/s]#015 83%|████████▎ | 131/157 [00:41<00:08,  3.17it/s]#015 84%|████████▍ | 132/157 [00:41<00:07,  3.16it/s]#015 85%|████████▍ | 133/157 [00:41<00:07,  3.16it/s]#015 85%|████████▌ | 134/157 [00:42<00:07,  3.16it/s]#015 86%|████████▌ | 135/157 [00:42<00:06,  3.15it/s]#015 87%|████████▋ | 136/157 [00:42<00:06,  3.14it/s]#015 87%|████████▋ | 137/157 [00:43<00:06,  3.13it/s]#015 88%|████████▊ | 138/157 [00:43<00:06,  3.13it/s]#015 89%|████████▊ | 139/157 [00:43<00:05,  3.14it/s]#015 89%|████████▉ | 140/157 [00:44<00:05,  3.12it/s]#015 90%|████████▉ | 141/157 [00:44<00:05,  3.12it/s]#015 90%|█████████ | 142/157 [00:44<00:04,  3.12it/s]#015 91%|█████████ | 143/157 [00:45<00:04,  3.12it/s]#015 92%|█████████▏| 144/157 [00:45<00:04,  3.12it/s]#015 92%|█████████▏| 145/157 [00:45<00:03,  3.12it/s]#015 93%|█████████▎| 146/157 [00:45<00:03,  3.12it/s]#015 94%|█████████▎| 147/157 [00:46<00:03,  3.12it/s]#015 94%|█████████▍| 148/157 [00:46<00:02,  3.12it/s]#015 95%|█████████▍| 149/157 [00:46<00:02,  3.12it/s]#015 96%|█████████▌| 150/157 [00:47<00:02,  3.12it/s]#015 96%|█████████▌| 151/157 [00:47<00:01,  3.12it/s]#015 97%|█████████▋| 152/157 [00:47<00:01,  3.12it/s]#015 97%|█████████▋| 153/157 [00:48<00:01,  3.13it/s]#015 98%|█████████▊| 154/157 [00:48<00:00,  3.14it/s]#015 99%|█████████▊| 155/157 [00:48<00:00,  3.15it/s]#015 99%|█████████▉| 156/157 [00:49<00:00,  3.16it/s]#015100%|██████████| 157/157 [00:49<00:00,  3.19it/s]\u001b[0m\n",
      "\n",
      "2022-01-12 23:25:11 Uploading - Uploading generated training model\n",
      "2022-01-12 23:27:13 Completed - Training job completed\n",
      "Training seconds: 959\n",
      "Billable seconds: 959\n"
     ]
    }
   ],
   "source": [
    "# starting the train job with our uploaded datasets as input\n",
    "huggingface_estimator.fit({'train': training_input_path, 'test': test_input_path})"
   ]
  },
  {
   "cell_type": "markdown",
   "metadata": {},
   "source": [
    "## Deployment"
   ]
  },
  {
   "cell_type": "markdown",
   "metadata": {},
   "source": [
    "After training the model, retrieve the model artifacts so that we can deploy the model to an endpoint."
   ]
  },
  {
   "cell_type": "code",
   "execution_count": 11,
   "metadata": {},
   "outputs": [
    {
     "data": {
      "text/plain": [
       "'s3://sagemaker-us-east-1-757967535041/huggingface-pytorch-training-2022-01-12-23-08-22-234/output/model.tar.gz'"
      ]
     },
     "execution_count": 11,
     "metadata": {},
     "output_type": "execute_result"
    }
   ],
   "source": [
    "# Retrieve model data from training job\n",
    "model_artifacts = huggingface_estimator.model_data\n",
    "model_artifacts"
   ]
  },
  {
   "cell_type": "markdown",
   "metadata": {},
   "source": [
    "### Model Creation\n",
    "Create a model by providing your model artifacts, the container image URI, environment variables for the container (if applicable), a model name, and the SageMaker IAM role."
   ]
  },
  {
   "cell_type": "code",
   "execution_count": 12,
   "metadata": {},
   "outputs": [],
   "source": [
    "# Setup clients\n",
    "import boto3\n",
    "\n",
    "client = boto3.client(service_name=\"sagemaker\")\n",
    "runtime = boto3.client(service_name=\"sagemaker-runtime\")"
   ]
  },
  {
   "cell_type": "code",
   "execution_count": 13,
   "metadata": {},
   "outputs": [
    {
     "data": {
      "text/plain": [
       "'763104351884.dkr.ecr.us-east-1.amazonaws.com/huggingface-pytorch-inference:1.7-transformers4.6-cpu-py36-ubuntu18.04'"
      ]
     },
     "execution_count": 13,
     "metadata": {},
     "output_type": "execute_result"
    }
   ],
   "source": [
    "region = boto3.session.Session().region_name\n",
    "\n",
    "image_uri = sagemaker.image_uris.retrieve(\n",
    "    framework='huggingface',\n",
    "    base_framework_version='pytorch1.7',\n",
    "    region=region,\n",
    "    version='4.6',\n",
    "    py_version='py36',\n",
    "    instance_type='ml.m5.large',\n",
    "    image_scope='inference'\n",
    ")\n",
    "image_uri"
   ]
  },
  {
   "cell_type": "code",
   "execution_count": 14,
   "metadata": {},
   "outputs": [
    {
     "name": "stdout",
     "output_type": "stream",
     "text": [
      "Model name: hf-serverless2022-01-12-23-27-36\n",
      "Model Arn: arn:aws:sagemaker:us-east-1:757967535041:model/hf-serverless2022-01-12-23-27-36\n"
     ]
    }
   ],
   "source": [
    "from time import gmtime, strftime\n",
    "\n",
    "model_name = \"hf-serverless\" + strftime(\"%Y-%m-%d-%H-%M-%S\", gmtime())\n",
    "print(\"Model name: \" + model_name)\n",
    "\n",
    "create_model_response = client.create_model(\n",
    "    ModelName=model_name,\n",
    "    Containers=[\n",
    "        {\n",
    "            \"Image\": image_uri,\n",
    "            \"Mode\": \"SingleModel\",\n",
    "            \"ModelDataUrl\": model_artifacts,\n",
    "        }\n",
    "    ],\n",
    "    ExecutionRoleArn=role,\n",
    ")\n",
    "\n",
    "print(\"Model Arn: \" + create_model_response[\"ModelArn\"])"
   ]
  },
  {
   "cell_type": "markdown",
   "metadata": {},
   "source": [
    "### Endpoint Configuration Creation\n",
    "\n",
    "This is where you can adjust the <b>Serverless Configuration</b> for your endpoint. The current max concurrent invocations for a single endpoint, known as <b>MaxConcurrency</b>, can be any value from <b>1 to 50</b>, and <b>MemorySize</b> can be any of the following: <b>1024 MB, 2048 MB, 3072 MB, 4096 MB, 5120 MB, or 6144 MB</b>."
   ]
  },
  {
   "cell_type": "code",
   "execution_count": 19,
   "metadata": {},
   "outputs": [
    {
     "name": "stdout",
     "output_type": "stream",
     "text": [
      "Endpoint Configuration Arn: arn:aws:sagemaker:us-east-1:757967535041:endpoint-config/hf-serverless-epc2022-01-12-23-31-31\n"
     ]
    }
   ],
   "source": [
    "epc_name = \"hf-serverless-epc\" + strftime(\"%Y-%m-%d-%H-%M-%S\", gmtime())\n",
    "\n",
    "endpoint_config_response = client.create_endpoint_config(\n",
    "    EndpointConfigName=epc_name,\n",
    "    ProductionVariants=[\n",
    "        {\n",
    "            'VariantName': 'single-variant',\n",
    "            'ModelName': model_name,\n",
    "            'ServerlessConfig': {\n",
    "                'MemorySizeInMB': 6144,\n",
    "                'MaxConcurrency': 8,\n",
    "            },\n",
    "        },\n",
    "    ],\n",
    ")\n",
    "\n",
    "print(\"Endpoint Configuration Arn: \" + endpoint_config_response[\"EndpointConfigArn\"])"
   ]
  },
  {
   "cell_type": "markdown",
   "metadata": {},
   "source": [
    "### Serverless Endpoint Creation\n",
    "Now that we have an endpoint configuration, we can create a serverless endpoint and deploy our model to it. When creating the endpoint, provide the name of your endpoint configuration and a name for the new endpoint."
   ]
  },
  {
   "cell_type": "code",
   "execution_count": 20,
   "metadata": {},
   "outputs": [
    {
     "name": "stdout",
     "output_type": "stream",
     "text": [
      "Endpoint Arn: arn:aws:sagemaker:us-east-1:757967535041:endpoint/hf-serverless-ep2022-01-12-23-31-33\n"
     ]
    }
   ],
   "source": [
    "endpoint_name = \"hf-serverless-ep\" + strftime(\"%Y-%m-%d-%H-%M-%S\", gmtime())\n",
    "\n",
    "create_endpoint_response = client.create_endpoint(\n",
    "    EndpointName=endpoint_name,\n",
    "    EndpointConfigName=epc_name,\n",
    ")\n",
    "\n",
    "print(\"Endpoint Arn: \" + create_endpoint_response[\"EndpointArn\"])"
   ]
  },
  {
   "cell_type": "markdown",
   "metadata": {},
   "source": [
    "Wait until the endpoint status is InService before invoking the endpoint."
   ]
  },
  {
   "cell_type": "code",
   "execution_count": 21,
   "metadata": {},
   "outputs": [
    {
     "name": "stdout",
     "output_type": "stream",
     "text": [
      "Creating\n",
      "Creating\n",
      "Creating\n",
      "Creating\n",
      "Creating\n",
      "Creating\n",
      "Creating\n",
      "Creating\n",
      "Creating\n",
      "Creating\n",
      "Creating\n",
      "Creating\n",
      "InService\n"
     ]
    },
    {
     "data": {
      "text/plain": [
       "{'EndpointName': 'hf-serverless-ep2022-01-12-23-31-33',\n",
       " 'EndpointArn': 'arn:aws:sagemaker:us-east-1:757967535041:endpoint/hf-serverless-ep2022-01-12-23-31-33',\n",
       " 'EndpointConfigName': 'hf-serverless-epc2022-01-12-23-31-31',\n",
       " 'ProductionVariants': [{'VariantName': 'single-variant',\n",
       "   'DeployedImages': [{'SpecifiedImage': '763104351884.dkr.ecr.us-east-1.amazonaws.com/huggingface-pytorch-inference:1.7-transformers4.6-cpu-py36-ubuntu18.04',\n",
       "     'ResolvedImage': '763104351884.dkr.ecr.us-east-1.amazonaws.com/huggingface-pytorch-inference@sha256:97cdf11484b82818b195579c7b5d8f16bc97d600ae352f47667e0587de7ae7f0',\n",
       "     'ResolutionTime': datetime.datetime(2022, 1, 12, 23, 31, 34, 262000, tzinfo=tzlocal())}],\n",
       "   'CurrentWeight': 1.0,\n",
       "   'DesiredWeight': 1.0,\n",
       "   'CurrentInstanceCount': 0,\n",
       "   'CurrentServerlessConfig': {'MemorySizeInMB': 6144, 'MaxConcurrency': 8}}],\n",
       " 'EndpointStatus': 'InService',\n",
       " 'CreationTime': datetime.datetime(2022, 1, 12, 23, 31, 33, 623000, tzinfo=tzlocal()),\n",
       " 'LastModifiedTime': datetime.datetime(2022, 1, 12, 23, 34, 24, 975000, tzinfo=tzlocal()),\n",
       " 'ResponseMetadata': {'RequestId': 'da2828d1-9512-42f0-8b20-d9cc4be2838f',\n",
       "  'HTTPStatusCode': 200,\n",
       "  'HTTPHeaders': {'x-amzn-requestid': 'da2828d1-9512-42f0-8b20-d9cc4be2838f',\n",
       "   'content-type': 'application/x-amz-json-1.1',\n",
       "   'content-length': '858',\n",
       "   'date': 'Wed, 12 Jan 2022 23:34:38 GMT'},\n",
       "  'RetryAttempts': 0}}"
      ]
     },
     "execution_count": 21,
     "metadata": {},
     "output_type": "execute_result"
    }
   ],
   "source": [
    "# wait for endpoint to reach a terminal state (InService) using describe endpoint\n",
    "import time\n",
    "\n",
    "describe_endpoint_response = client.describe_endpoint(EndpointName=endpoint_name)\n",
    "\n",
    "while describe_endpoint_response[\"EndpointStatus\"] == \"Creating\":\n",
    "    describe_endpoint_response = client.describe_endpoint(EndpointName=endpoint_name)\n",
    "    print(describe_endpoint_response[\"EndpointStatus\"])\n",
    "    time.sleep(15)\n",
    "\n",
    "describe_endpoint_response"
   ]
  },
  {
   "cell_type": "markdown",
   "metadata": {},
   "source": [
    "### Endpoint Invocation\n",
    "Invoke the endpoint by sending a request to it. The following is a sample data point grabbed from the CSV file downloaded from the public Abalone dataset."
   ]
  },
  {
   "cell_type": "code",
   "execution_count": 22,
   "metadata": {},
   "outputs": [
    {
     "name": "stdout",
     "output_type": "stream",
     "text": [
      "b'[{\"label\":\"LABEL_1\",\"score\":0.9309329390525818}]'\n"
     ]
    }
   ],
   "source": [
    "import json\n",
    "sentiment_input = {\"inputs\": \"I love using the new Serverless Inference on SageMaker.\"}\n",
    "\n",
    "response = runtime.invoke_endpoint(\n",
    "    EndpointName=endpoint_name,\n",
    "    Body=json.dumps(sentiment_input),\n",
    "    ContentType=\"application/json\",\n",
    ")\n",
    "\n",
    "print(response[\"Body\"].read())"
   ]
  },
  {
   "cell_type": "markdown",
   "metadata": {},
   "source": [
    "## Clean Up\n",
    "Delete any resources you created in this notebook that you no longer wish to use."
   ]
  },
  {
   "cell_type": "code",
   "execution_count": 52,
   "metadata": {},
   "outputs": [],
   "source": [
    "# client.delete_model(ModelName=model_name)\n",
    "# client.delete_endpoint_config(EndpointConfigName=epc_name)\n",
    "# client.delete_endpoint(EndpointName=endpoint_name)"
   ]
  }
 ],
 "metadata": {
  "instance_type": "ml.t3.medium",
  "interpreter": {
   "hash": "c281c456f1b8161c8906f4af2c08ed2c40c50136979eaae69688b01f70e9f4a9"
  },
  "kernelspec": {
   "display_name": "Python 3 (Data Science)",
   "language": "python",
   "name": "python3__SAGEMAKER_INTERNAL__arn:aws:sagemaker:us-east-1:081325390199:image/datascience-1.0"
  },
  "language_info": {
   "codemirror_mode": {
    "name": "ipython",
    "version": 3
   },
   "file_extension": ".py",
   "mimetype": "text/x-python",
   "name": "python",
   "nbconvert_exporter": "python",
   "pygments_lexer": "ipython3",
   "version": "3.7.10"
  }
 },
 "nbformat": 4,
 "nbformat_minor": 4
}
