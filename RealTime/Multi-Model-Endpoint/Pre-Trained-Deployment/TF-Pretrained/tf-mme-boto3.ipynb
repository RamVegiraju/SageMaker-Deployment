{
 "cells": [
  {
   "cell_type": "markdown",
   "id": "2e9d75b4",
   "metadata": {},
   "source": [
    "# TF MME W/ Boto3\n",
    "\n",
    "<b>Setting</b>: conda_tf2_p38 & Classic Notebook Instances"
   ]
  },
  {
   "cell_type": "markdown",
   "id": "2785b0b3",
   "metadata": {},
   "source": [
    "## Local Model Training"
   ]
  },
  {
   "cell_type": "code",
   "execution_count": 5,
   "id": "887b5f84",
   "metadata": {},
   "outputs": [
    {
     "name": "stdout",
     "output_type": "stream",
     "text": [
      "Writing local_tf.py\n"
     ]
    }
   ],
   "source": [
    "%%writefile local_tf.py\n",
    "import pandas as pd\n",
    "import numpy as np\n",
    "from sklearn import datasets\n",
    "from sklearn.model_selection import train_test_split\n",
    "import tensorflow as tf\n",
    "from tensorflow.keras.models import Sequential\n",
    "from tensorflow.keras.layers import Dense\n",
    "from tensorflow.keras.callbacks import EarlyStopping\n",
    "\n",
    "\n",
    "#ANN Model\n",
    "def createModel():\n",
    "    model = Sequential()\n",
    "    model.add(Dense(13, input_shape=(13,), activation='relu'))\n",
    "    model.add(Dense(28, activation='relu'))\n",
    "    model.add(Dense(13, activation='relu'))\n",
    "    model.add(Dense(8, activation='relu'))\n",
    "    model.add(Dense(1))\n",
    "    model.compile(optimizer='adam', loss='mse')\n",
    "    return model\n",
    "\n",
    "#Load data\n",
    "boston = datasets.load_boston()\n",
    "df = pd.DataFrame(boston.data, columns = boston.feature_names)\n",
    "df['MEDV'] = boston.target \n",
    "\n",
    "#Split Model\n",
    "X = df.drop(['MEDV'], axis = 1) \n",
    "y = df['MEDV']\n",
    "X_train, X_test, y_train, y_test = train_test_split(X, y, test_size = .2, random_state = 42)\n",
    "\n",
    "#minimum epochs 15\n",
    "model = createModel()\n",
    "monitor_val_acc = EarlyStopping(monitor = 'val_loss', patience=15)\n",
    "model.fit(X_train, y_train, validation_data=(X_test, y_test), callbacks=[monitor_val_acc], epochs=5)\n",
    "model.save('0000001')"
   ]
  },
  {
   "cell_type": "code",
   "execution_count": 6,
   "id": "19e26679",
   "metadata": {},
   "outputs": [
    {
     "name": "stdout",
     "output_type": "stream",
     "text": [
      "/home/ec2-user/anaconda3/envs/tensorflow2_p38/lib/python3.8/site-packages/sklearn/utils/deprecation.py:87: FutureWarning: Function load_boston is deprecated; `load_boston` is deprecated in 1.0 and will be removed in 1.2.\n",
      "\n",
      "    The Boston housing prices dataset has an ethical problem. You can refer to\n",
      "    the documentation of this function for further details.\n",
      "\n",
      "    The scikit-learn maintainers therefore strongly discourage the use of this\n",
      "    dataset unless the purpose of the code is to study and educate about\n",
      "    ethical issues in data science and machine learning.\n",
      "\n",
      "    In this special case, you can fetch the dataset from the original\n",
      "    source::\n",
      "\n",
      "        import pandas as pd\n",
      "        import numpy as np\n",
      "\n",
      "\n",
      "        data_url = \"http://lib.stat.cmu.edu/datasets/boston\"\n",
      "        raw_df = pd.read_csv(data_url, sep=\"\\s+\", skiprows=22, header=None)\n",
      "        data = np.hstack([raw_df.values[::2, :], raw_df.values[1::2, :2]])\n",
      "        target = raw_df.values[1::2, 2]\n",
      "\n",
      "    Alternative datasets include the California housing dataset (i.e.\n",
      "    :func:`~sklearn.datasets.fetch_california_housing`) and the Ames housing\n",
      "    dataset. You can load the datasets as follows::\n",
      "\n",
      "        from sklearn.datasets import fetch_california_housing\n",
      "        housing = fetch_california_housing()\n",
      "\n",
      "    for the California housing dataset and::\n",
      "\n",
      "        from sklearn.datasets import fetch_openml\n",
      "        housing = fetch_openml(name=\"house_prices\", as_frame=True)\n",
      "\n",
      "    for the Ames housing dataset.\n",
      "    \n",
      "  warnings.warn(msg, category=FutureWarning)\n",
      "Epoch 1/5\n",
      "13/13 [==============================] - 2s 14ms/step - loss: 17325.5781 - val_loss: 7239.3394\n",
      "Epoch 2/5\n",
      "13/13 [==============================] - 0s 4ms/step - loss: 3299.9038 - val_loss: 666.1292\n",
      "Epoch 3/5\n",
      "13/13 [==============================] - 0s 4ms/step - loss: 468.6982 - val_loss: 431.4523\n",
      "Epoch 4/5\n",
      "13/13 [==============================] - 0s 4ms/step - loss: 338.7923 - val_loss: 281.4613\n",
      "Epoch 5/5\n",
      "13/13 [==============================] - 0s 4ms/step - loss: 172.3889 - val_loss: 116.1818\n"
     ]
    }
   ],
   "source": [
    "!python local_tf.py"
   ]
  },
  {
   "cell_type": "markdown",
   "id": "74c7825a",
   "metadata": {},
   "source": [
    "## Package for SageMaker"
   ]
  },
  {
   "cell_type": "markdown",
   "id": "f6015a31",
   "metadata": {},
   "source": [
    "### Script for TF Serving to control pre/post processing"
   ]
  },
  {
   "cell_type": "code",
   "execution_count": 7,
   "id": "b6dbe27c",
   "metadata": {},
   "outputs": [
    {
     "name": "stdout",
     "output_type": "stream",
     "text": [
      "Overwriting inference.py\n"
     ]
    }
   ],
   "source": [
    "%%writefile inference.py\n",
    "\n",
    "import json\n",
    "\n",
    "def input_handler(data, context):\n",
    "    \"\"\" Pre-process request input before it is sent to TensorFlow Serving REST API\n",
    "    Args:\n",
    "        data (obj): the request data, in format of dict or string\n",
    "        context (Context): an object containing request and configuration details\n",
    "    Returns:\n",
    "        (dict): a JSON-serializable dict that contains request body and headers\n",
    "    \"\"\"\n",
    "    if context.request_content_type == 'application/json':\n",
    "        # pass through json (assumes it's correctly formed)\n",
    "        d = data.read().decode('utf-8')\n",
    "        print(\"------------\")\n",
    "        print(d)\n",
    "        print(type(d))\n",
    "        print(\"------------\")\n",
    "        return d if len(d) else ''\n",
    "\n",
    "    if context.request_content_type == 'text/csv':\n",
    "        # very simple csv handler\n",
    "        return json.dumps({\n",
    "            'instances': [float(x) for x in data.read().decode('utf-8').split(',')]\n",
    "        })\n",
    "\n",
    "    raise ValueError('{{\"error\": \"unsupported content type {}\"}}'.format(\n",
    "        context.request_content_type or \"unknown\"))\n",
    "\n",
    "\n",
    "def output_handler(data, context):\n",
    "    \"\"\"Post-process TensorFlow Serving output before it is returned to the client.\n",
    "    Args:\n",
    "        data (obj): the TensorFlow serving response\n",
    "        context (Context): an object containing request and configuration details\n",
    "    Returns:\n",
    "        (bytes, string): data to return to client, response content type\n",
    "    \"\"\"\n",
    "    if data.status_code != 200:\n",
    "        raise ValueError(data.content.decode('utf-8'))\n",
    "\n",
    "    response_content_type = context.accept_header\n",
    "    print(\"-------\")\n",
    "    print(data)\n",
    "    print(type(data))\n",
    "    print(\"-----\")\n",
    "    prediction = data.content\n",
    "    return prediction, response_content_type"
   ]
  },
  {
   "cell_type": "code",
   "execution_count": 9,
   "id": "5f77c25a",
   "metadata": {},
   "outputs": [
    {
     "name": "stdout",
     "output_type": "stream",
     "text": [
      "us-east-1\n"
     ]
    }
   ],
   "source": [
    "#Setup\n",
    "import boto3\n",
    "import json\n",
    "import os\n",
    "import joblib\n",
    "import pickle\n",
    "import tarfile\n",
    "import sagemaker\n",
    "from sagemaker.estimator import Estimator\n",
    "import time\n",
    "from time import gmtime, strftime\n",
    "import subprocess\n",
    "import shlex\n",
    "\n",
    "client = boto3.client(service_name=\"sagemaker\")\n",
    "runtime = boto3.client(service_name=\"sagemaker-runtime\")\n",
    "boto_session = boto3.session.Session()\n",
    "s3 = boto_session.resource('s3')\n",
    "region = boto_session.region_name\n",
    "print(region)\n",
    "sagemaker_session = sagemaker.Session()\n",
    "role = sagemaker.get_execution_role()\n",
    "#role"
   ]
  },
  {
   "cell_type": "code",
   "execution_count": 10,
   "id": "9f56b0c0",
   "metadata": {},
   "outputs": [],
   "source": [
    "#Copy inference.py into a code file for sm to recognize\n",
    "createDirectory = \"mkdir code\"\n",
    "copyInference = \"cp inference.py code\"\n",
    "p1 = subprocess.call(createDirectory, shell=True)\n",
    "p2 = subprocess.call(copyInference, shell=True)"
   ]
  },
  {
   "cell_type": "code",
   "execution_count": 11,
   "id": "449e1983",
   "metadata": {},
   "outputs": [],
   "source": [
    "#Tar file with model artifacts\n",
    "bashCommand = \"tar -cvpzf model.tar.gz ./0000001\"\n",
    "process = subprocess.Popen(bashCommand.split(), stdout=subprocess.PIPE)\n",
    "output, error = process.communicate()"
   ]
  },
  {
   "cell_type": "code",
   "execution_count": 12,
   "id": "17300e2a",
   "metadata": {},
   "outputs": [],
   "source": [
    "#Tar ball for inference code, inference.py is consistent across all models in an MME\n",
    "bashCommand = \"tar -cvpzf source.tar.gz inference.py\"\n",
    "process = subprocess.Popen(bashCommand.split(), stdout=subprocess.PIPE)\n",
    "output, error = process.communicate()"
   ]
  },
  {
   "cell_type": "code",
   "execution_count": 13,
   "id": "baaba07f",
   "metadata": {},
   "outputs": [
    {
     "name": "stdout",
     "output_type": "stream",
     "text": [
      "sagemaker-us-east-1-474422712127\n"
     ]
    }
   ],
   "source": [
    "#Bucket for model artifacts\n",
    "default_bucket = sagemaker_session.default_bucket()\n",
    "print(default_bucket)"
   ]
  },
  {
   "cell_type": "markdown",
   "id": "b793214f",
   "metadata": {},
   "source": [
    "### Make Copies Of Model Data In S3"
   ]
  },
  {
   "cell_type": "code",
   "execution_count": 39,
   "id": "15965000",
   "metadata": {},
   "outputs": [
    {
     "name": "stdout",
     "output_type": "stream",
     "text": [
      "upload: ./model.tar.gz to s3://sagemaker-us-east-1-474422712127/mme-tensorflow-boto3/tf-0.tar.gz\n",
      "upload: ./model.tar.gz to s3://sagemaker-us-east-1-474422712127/mme-tensorflow-boto3/tf-1.tar.gz\n",
      "upload: ./model.tar.gz to s3://sagemaker-us-east-1-474422712127/mme-tensorflow-boto3/tf-2.tar.gz\n",
      "upload: ./model.tar.gz to s3://sagemaker-us-east-1-474422712127/mme-tensorflow-boto3/tf-3.tar.gz\n",
      "upload: ./model.tar.gz to s3://sagemaker-us-east-1-474422712127/mme-tensorflow-boto3/tf-4.tar.gz\n",
      "upload: ./model.tar.gz to s3://sagemaker-us-east-1-474422712127/mme-tensorflow-boto3/tf-5.tar.gz\n"
     ]
    }
   ],
   "source": [
    "%%sh\n",
    "\n",
    "s3_bucket='sagemaker-us-east-1-474422712127' #replace this with your default bucket\n",
    "\n",
    "for i in {0..5}\n",
    "do\n",
    "  aws s3 cp model.tar.gz s3://$s3_bucket/mme-tensorflow-boto3/tf-$i.tar.gz \n",
    "done"
   ]
  },
  {
   "cell_type": "code",
   "execution_count": 15,
   "id": "09e4e046",
   "metadata": {},
   "outputs": [
    {
     "name": "stdout",
     "output_type": "stream",
     "text": [
      "2022-08-04 18:48:08      24348 tf-0.tar.gz\n",
      "2022-08-04 18:48:09      24348 tf-1.tar.gz\n",
      "2022-08-04 18:48:09      24348 tf-2.tar.gz\n",
      "2022-08-04 18:48:10      24348 tf-3.tar.gz\n",
      "2022-08-04 18:48:10      24348 tf-4.tar.gz\n",
      "2022-08-04 18:48:11      24348 tf-5.tar.gz\n"
     ]
    }
   ],
   "source": [
    "!aws s3 ls s3://sagemaker-us-east-1-474422712127/mme-tensorflow-boto3/ #replace with your default bucket value for this cell and following"
   ]
  },
  {
   "cell_type": "code",
   "execution_count": 16,
   "id": "39fca698",
   "metadata": {},
   "outputs": [
    {
     "name": "stdout",
     "output_type": "stream",
     "text": [
      "upload: ./source.tar.gz to s3://sagemaker-us-east-1-474422712127/mme-tf-inf-script/source.tar.gz\n"
     ]
    }
   ],
   "source": [
    "!aws s3 cp source.tar.gz s3://sagemaker-us-east-1-474422712127/mme-tf-inf-script/source.tar.gz"
   ]
  },
  {
   "cell_type": "code",
   "execution_count": 17,
   "id": "e0a5f0ac",
   "metadata": {},
   "outputs": [
    {
     "name": "stdout",
     "output_type": "stream",
     "text": [
      "2022-08-04 18:50:59        793 source.tar.gz\n"
     ]
    }
   ],
   "source": [
    "!aws s3 ls s3://sagemaker-us-east-1-474422712127/mme-tf-inf-script/"
   ]
  },
  {
   "cell_type": "code",
   "execution_count": 18,
   "id": "f21aee96",
   "metadata": {},
   "outputs": [],
   "source": [
    "source_dir = 's3://sagemaker-us-east-1-474422712127/mme-tf-inf-script/'"
   ]
  },
  {
   "cell_type": "code",
   "execution_count": 22,
   "id": "db127b60",
   "metadata": {},
   "outputs": [
    {
     "name": "stdout",
     "output_type": "stream",
     "text": [
      "2022-08-04 18:50:59        793 source.tar.gz\n"
     ]
    }
   ],
   "source": [
    "!aws s3 ls {source_dir}"
   ]
  },
  {
   "cell_type": "code",
   "execution_count": 19,
   "id": "6a16d3f0",
   "metadata": {},
   "outputs": [
    {
     "data": {
      "text/plain": [
       "'s3://sagemaker-us-east-1-474422712127/mme-tensorflow-boto3/'"
      ]
     },
     "execution_count": 19,
     "metadata": {},
     "output_type": "execute_result"
    }
   ],
   "source": [
    "s3_bucket='sagemaker-us-east-1-474422712127'\n",
    "model_url = 's3://{}/mme-tensorflow-boto3/'.format(s3_bucket) ## MODEL S3 URL\n",
    "model_url"
   ]
  },
  {
   "cell_type": "code",
   "execution_count": 20,
   "id": "d2b3ed4b",
   "metadata": {},
   "outputs": [
    {
     "name": "stdout",
     "output_type": "stream",
     "text": [
      "2022-08-04 18:48:08      24348 tf-0.tar.gz\n",
      "2022-08-04 18:48:09      24348 tf-1.tar.gz\n",
      "2022-08-04 18:48:09      24348 tf-2.tar.gz\n",
      "2022-08-04 18:48:10      24348 tf-3.tar.gz\n",
      "2022-08-04 18:48:10      24348 tf-4.tar.gz\n",
      "2022-08-04 18:48:11      24348 tf-5.tar.gz\n"
     ]
    }
   ],
   "source": [
    "!aws s3 ls {model_url}"
   ]
  },
  {
   "cell_type": "markdown",
   "id": "08f64f2d",
   "metadata": {},
   "source": [
    "### Retrieve Container"
   ]
  },
  {
   "cell_type": "code",
   "execution_count": 21,
   "id": "9b936d48",
   "metadata": {},
   "outputs": [
    {
     "data": {
      "text/plain": [
       "'763104351884.dkr.ecr.us-east-1.amazonaws.com/tensorflow-inference:2.3.0-cpu'"
      ]
     },
     "execution_count": 21,
     "metadata": {},
     "output_type": "execute_result"
    }
   ],
   "source": [
    "# retrieve tf image\n",
    "image_uri = sagemaker.image_uris.retrieve(\n",
    "    framework=\"tensorflow\",\n",
    "    region=\"us-east-1\",\n",
    "    version=\"2.3.0\",\n",
    "    py_version=\"py3\",\n",
    "    instance_type=\"ml.m5.xlarge\",\n",
    "    image_scope=\"inference\"\n",
    ")\n",
    "image_uri"
   ]
  },
  {
   "cell_type": "markdown",
   "id": "fd373b1e",
   "metadata": {},
   "source": [
    "### SageMaker Model Entity Creation\n",
    "\n",
    "API Call: https://boto3.amazonaws.com/v1/documentation/api/latest/reference/services/sagemaker.html#SageMaker.Client.create_model"
   ]
  },
  {
   "cell_type": "code",
   "execution_count": 23,
   "id": "74a2dafd",
   "metadata": {},
   "outputs": [
    {
     "name": "stdout",
     "output_type": "stream",
     "text": [
      "Model name: mme-tf2022-08-04-18-55-18\n",
      "Model data Url: s3://sagemaker-us-east-1-474422712127/mme-tensorflow-boto3/\n",
      "Model Arn: arn:aws:sagemaker:us-east-1:474422712127:model/mme-tf2022-08-04-18-55-18\n"
     ]
    }
   ],
   "source": [
    "from time import gmtime, strftime\n",
    "model_name = 'mme-tf' + strftime(\"%Y-%m-%d-%H-%M-%S\", gmtime())\n",
    "\n",
    "print('Model name: ' + model_name)\n",
    "print('Model data Url: ' + model_url)\n",
    "\n",
    "create_model_response = client.create_model(\n",
    "    ModelName=model_name,\n",
    "    Containers=[\n",
    "        {\n",
    "            \"Image\": image_uri,\n",
    "            \"Mode\": \"MultiModel\",\n",
    "            \"ModelDataUrl\": model_url,\n",
    "            \"Environment\": {'SAGEMAKER_SUBMIT_DIRECTORY': source_dir,\n",
    "                           'SAGEMAKER_PROGRAM': 'inference.py'} \n",
    "        }\n",
    "    ],\n",
    "    ExecutionRoleArn=role,\n",
    ")\n",
    "print(\"Model Arn: \" + create_model_response[\"ModelArn\"])"
   ]
  },
  {
   "cell_type": "markdown",
   "id": "fe6089ff",
   "metadata": {},
   "source": [
    "### Endpoint Config Creation\n",
    "\n",
    "API Call: https://boto3.amazonaws.com/v1/documentation/api/latest/reference/services/sagemaker.html#SageMaker.Client.create_endpoint_config"
   ]
  },
  {
   "cell_type": "code",
   "execution_count": 24,
   "id": "602f2e5f",
   "metadata": {},
   "outputs": [
    {
     "name": "stdout",
     "output_type": "stream",
     "text": [
      "Endpoint Configuration Arn: arn:aws:sagemaker:us-east-1:474422712127:endpoint-config/mme-tf2022-08-04-18-56-48\n"
     ]
    }
   ],
   "source": [
    "#Step 2: EPC Creation\n",
    "tf_epc_name = \"mme-tf\" + strftime(\"%Y-%m-%d-%H-%M-%S\", gmtime())\n",
    "endpoint_config_response = client.create_endpoint_config(\n",
    "    EndpointConfigName=tf_epc_name,\n",
    "    ProductionVariants=[\n",
    "        {\n",
    "            \"VariantName\": \"tfvariant\",\n",
    "            \"ModelName\": model_name,\n",
    "            \"InstanceType\": \"ml.c5.large\",\n",
    "            \"InitialInstanceCount\": 1\n",
    "        },\n",
    "    ],\n",
    ")\n",
    "print(\"Endpoint Configuration Arn: \" + endpoint_config_response[\"EndpointConfigArn\"])"
   ]
  },
  {
   "cell_type": "markdown",
   "id": "2208613b",
   "metadata": {},
   "source": [
    "### Endpoint Creation\n",
    "\n",
    "API Call: https://boto3.amazonaws.com/v1/documentation/api/latest/reference/services/sagemaker.html#SageMaker.Client.create_endpoint"
   ]
  },
  {
   "cell_type": "code",
   "execution_count": 25,
   "id": "93500ad0",
   "metadata": {},
   "outputs": [
    {
     "name": "stdout",
     "output_type": "stream",
     "text": [
      "Endpoint Arn: arn:aws:sagemaker:us-east-1:474422712127:endpoint/mme-tf2022-08-04-18-56-52\n"
     ]
    }
   ],
   "source": [
    "#Step 3: EP Creation\n",
    "endpoint_name = \"mme-tf\" + strftime(\"%Y-%m-%d-%H-%M-%S\", gmtime())\n",
    "create_endpoint_response = client.create_endpoint(\n",
    "    EndpointName=endpoint_name,\n",
    "    EndpointConfigName=tf_epc_name,\n",
    ")\n",
    "print(\"Endpoint Arn: \" + create_endpoint_response[\"EndpointArn\"])"
   ]
  },
  {
   "cell_type": "code",
   "execution_count": 26,
   "id": "b36bee64",
   "metadata": {},
   "outputs": [
    {
     "name": "stdout",
     "output_type": "stream",
     "text": [
      "Creating\n",
      "Creating\n",
      "Creating\n",
      "Creating\n",
      "Creating\n",
      "Creating\n",
      "Creating\n",
      "Creating\n",
      "Creating\n",
      "Creating\n",
      "Creating\n",
      "Creating\n",
      "Creating\n",
      "Creating\n",
      "Creating\n",
      "Creating\n",
      "Creating\n",
      "Creating\n",
      "Creating\n",
      "Creating\n",
      "Creating\n",
      "Creating\n",
      "Creating\n",
      "Creating\n",
      "Creating\n",
      "Creating\n",
      "InService\n",
      "{'EndpointName': 'mme-tf2022-08-04-18-56-52', 'EndpointArn': 'arn:aws:sagemaker:us-east-1:474422712127:endpoint/mme-tf2022-08-04-18-56-52', 'EndpointConfigName': 'mme-tf2022-08-04-18-56-48', 'ProductionVariants': [{'VariantName': 'tfvariant', 'DeployedImages': [{'SpecifiedImage': '763104351884.dkr.ecr.us-east-1.amazonaws.com/tensorflow-inference:2.3.0-cpu', 'ResolvedImage': '763104351884.dkr.ecr.us-east-1.amazonaws.com/tensorflow-inference@sha256:91ebb7428846c5f7b515d5d9b8389a14c73d0c5d02657f4a6413592124333278', 'ResolutionTime': datetime.datetime(2022, 8, 4, 18, 56, 56, 660000, tzinfo=tzlocal())}], 'CurrentWeight': 1.0, 'DesiredWeight': 1.0, 'CurrentInstanceCount': 1, 'DesiredInstanceCount': 1}], 'EndpointStatus': 'InService', 'CreationTime': datetime.datetime(2022, 8, 4, 18, 56, 52, 418000, tzinfo=tzlocal()), 'LastModifiedTime': datetime.datetime(2022, 8, 4, 19, 3, 17, 303000, tzinfo=tzlocal()), 'ResponseMetadata': {'RequestId': '0036c2b4-a938-4df0-9fc5-81c907ddc5b6', 'HTTPStatusCode': 200, 'HTTPHeaders': {'x-amzn-requestid': '0036c2b4-a938-4df0-9fc5-81c907ddc5b6', 'content-type': 'application/x-amz-json-1.1', 'content-length': '728', 'date': 'Thu, 04 Aug 2022 19:03:27 GMT'}, 'RetryAttempts': 0}}\n"
     ]
    }
   ],
   "source": [
    "#Monitor creation\n",
    "describe_endpoint_response = client.describe_endpoint(EndpointName=endpoint_name)\n",
    "while describe_endpoint_response[\"EndpointStatus\"] == \"Creating\":\n",
    "    describe_endpoint_response = client.describe_endpoint(EndpointName=endpoint_name)\n",
    "    print(describe_endpoint_response[\"EndpointStatus\"])\n",
    "    time.sleep(15)\n",
    "print(describe_endpoint_response)"
   ]
  },
  {
   "cell_type": "markdown",
   "id": "1f601993",
   "metadata": {},
   "source": [
    "### Invoke MME"
   ]
  },
  {
   "cell_type": "code",
   "execution_count": 29,
   "id": "db0da88e",
   "metadata": {},
   "outputs": [
    {
     "name": "stdout",
     "output_type": "stream",
     "text": [
      "{'inputs': [[0.00632, 18.0, 2.31, 0.0, 0.538, 6.575, 65.2, 4.09, 1.0, 296.0, 15.3, 396.9, 4.98]]}\n"
     ]
    }
   ],
   "source": [
    "import boto3\n",
    "import json\n",
    "from sagemaker.serializers import JSONSerializer\n",
    "import pandas as pd\n",
    "\n",
    "test = df[:1]\n",
    "testX = test.drop(\"TARGET\", axis=1)\n",
    "testX = testX[:1].values.tolist()\n",
    "sampInput = {\"inputs\": testX}\n",
    "print(sampInput)"
   ]
  },
  {
   "cell_type": "code",
   "execution_count": 32,
   "id": "1b0d04ff",
   "metadata": {},
   "outputs": [
    {
     "data": {
      "text/plain": [
       "[[20.5638695]]"
      ]
     },
     "execution_count": 32,
     "metadata": {},
     "output_type": "execute_result"
    }
   ],
   "source": [
    "runtime_sm_client = boto3.client(service_name='sagemaker-runtime')\n",
    "jsons = JSONSerializer()\n",
    "content_type = \"application/json\"\n",
    "payload = jsons.serialize(sampInput)\n",
    "response = runtime_sm_client.invoke_endpoint(\n",
    "        EndpointName=endpoint_name,\n",
    "        Body=payload,\n",
    "        ContentType=content_type,\n",
    "        TargetModel = \"tf-1.tar.gz\")\n",
    "result = json.loads(response['Body'].read().decode())['outputs']\n",
    "result"
   ]
  },
  {
   "cell_type": "code",
   "execution_count": 37,
   "id": "8a46b0b0",
   "metadata": {},
   "outputs": [
    {
     "name": "stdout",
     "output_type": "stream",
     "text": [
      "tf-0.tar.gz\n",
      "[[20.5638695]]\n",
      "tf-1.tar.gz\n",
      "[[20.5638695]]\n",
      "tf-2.tar.gz\n",
      "[[20.5638695]]\n",
      "tf-3.tar.gz\n",
      "[[20.5638695]]\n",
      "tf-4.tar.gz\n",
      "[[20.5638695]]\n",
      "tf-5.tar.gz\n",
      "[[20.5638695]]\n"
     ]
    }
   ],
   "source": [
    "for i in range (0,6):\n",
    "    target_model = \"tf-{}.tar.gz\".format(i)\n",
    "    print(target_model)\n",
    "    response = runtime_sm_client.invoke_endpoint(\n",
    "        EndpointName=endpoint_name,\n",
    "        Body=payload,\n",
    "        ContentType=content_type,\n",
    "        TargetModel = target_model)\n",
    "    print(json.loads(response['Body'].read().decode())['outputs'])"
   ]
  }
 ],
 "metadata": {
  "kernelspec": {
   "display_name": "conda_tensorflow2_p38",
   "language": "python",
   "name": "conda_tensorflow2_p38"
  },
  "language_info": {
   "codemirror_mode": {
    "name": "ipython",
    "version": 3
   },
   "file_extension": ".py",
   "mimetype": "text/x-python",
   "name": "python",
   "nbconvert_exporter": "python",
   "pygments_lexer": "ipython3",
   "version": "3.8.12"
  }
 },
 "nbformat": 4,
 "nbformat_minor": 5
}
