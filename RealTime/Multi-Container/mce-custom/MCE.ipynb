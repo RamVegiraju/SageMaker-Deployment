{
 "cells": [
  {
   "cell_type": "markdown",
   "id": "c06ca564",
   "metadata": {},
   "source": [
    "# Multi-Container Endpoints Custom Container Example\n",
    "\n",
    "#### Container 1: [spacy](https://spacy.io/)\n",
    "#### Container 2: [textblob](https://textblob.readthedocs.io/en/dev/)"
   ]
  },
  {
   "cell_type": "code",
   "execution_count": 1,
   "id": "cc72b3fa",
   "metadata": {},
   "outputs": [],
   "source": [
    "import boto3\n",
    "from sagemaker import get_execution_role\n",
    "\n",
    "sm_client = boto3.client(service_name='sagemaker')\n",
    "runtime_sm_client = boto3.client(service_name='sagemaker-runtime')\n",
    "account_id = boto3.client('sts').get_caller_identity()['Account']\n",
    "region = boto3.Session().region_name\n",
    "role = get_execution_role()"
   ]
  },
  {
   "cell_type": "markdown",
   "id": "bf66b69c",
   "metadata": {},
   "source": [
    "## Container 1: Spacy"
   ]
  },
  {
   "cell_type": "code",
   "execution_count": 2,
   "id": "941c0d7b",
   "metadata": {},
   "outputs": [
    {
     "name": "stdout",
     "output_type": "stream",
     "text": [
      "Login Succeeded\n",
      "Sending build context to Docker daemon  22.02kB\n",
      "Step 1/11 : FROM python:3.8\n",
      " ---> 5c4350efb04f\n",
      "Step 2/11 : RUN apt-get -y update && apt-get install -y --no-install-recommends          wget          python3          nginx          ca-certificates     && rm -rf /var/lib/apt/lists/*\n",
      " ---> Using cache\n",
      " ---> eb9fd35375b2\n",
      "Step 3/11 : RUN wget https://bootstrap.pypa.io/get-pip.py && python3 get-pip.py &&     pip install flask gevent gunicorn &&         rm -rf /root/.cache\n",
      " ---> Using cache\n",
      " ---> 84058e0d6278\n",
      "Step 4/11 : RUN pip install spacy\n",
      " ---> Using cache\n",
      " ---> 4810a52bed63\n",
      "Step 5/11 : RUN python -m spacy download en\n",
      " ---> Using cache\n",
      " ---> 8fd0cb27a2c9\n",
      "Step 6/11 : LABEL com.amazonaws.sagemaker.capabilities.accept-bind-to-port=true\n",
      " ---> Using cache\n",
      " ---> 01163a42ea92\n",
      "Step 7/11 : ENV PYTHONUNBUFFERED=TRUE\n",
      " ---> Using cache\n",
      " ---> e69e45ca212f\n",
      "Step 8/11 : ENV PYTHONDONTWRITEBYTECODE=TRUE\n",
      " ---> Using cache\n",
      " ---> 70a780eaf91e\n",
      "Step 9/11 : ENV PATH=\"/opt/program:${PATH}\"\n",
      " ---> Using cache\n",
      " ---> b44b37f1c513\n",
      "Step 10/11 : COPY NER /opt/program\n",
      " ---> Using cache\n",
      " ---> f2a252ade1b6\n",
      "Step 11/11 : WORKDIR /opt/program\n",
      " ---> Using cache\n",
      " ---> d60dbcb7599c\n",
      "Successfully built d60dbcb7599c\n",
      "Successfully tagged mce-spacy-container:latest\n",
      "The push refers to repository [474422712127.dkr.ecr.us-east-1.amazonaws.com/mce-spacy-container]\n",
      "32c711f21a60: Preparing\n",
      "68c846f3ed56: Preparing\n",
      "b025736fe4a3: Preparing\n",
      "c6a25838d4ff: Preparing\n",
      "676d3317e9b3: Preparing\n",
      "82b375d6a9af: Preparing\n",
      "ba00c52d3702: Preparing\n",
      "04e8f209746d: Preparing\n",
      "7ed1d87a050a: Preparing\n",
      "3ffc178e6d86: Preparing\n",
      "327e42081bbe: Preparing\n",
      "6e632f416458: Preparing\n",
      "e019be289189: Preparing\n",
      "c9a63110150b: Preparing\n",
      "82b375d6a9af: Waiting\n",
      "ba00c52d3702: Waiting\n",
      "04e8f209746d: Waiting\n",
      "7ed1d87a050a: Waiting\n",
      "3ffc178e6d86: Waiting\n",
      "327e42081bbe: Waiting\n",
      "6e632f416458: Waiting\n",
      "e019be289189: Waiting\n",
      "c9a63110150b: Waiting\n",
      "676d3317e9b3: Layer already exists\n",
      "68c846f3ed56: Layer already exists\n",
      "b025736fe4a3: Layer already exists\n",
      "32c711f21a60: Layer already exists\n",
      "c6a25838d4ff: Layer already exists\n",
      "ba00c52d3702: Layer already exists\n",
      "04e8f209746d: Layer already exists\n",
      "7ed1d87a050a: Layer already exists\n",
      "82b375d6a9af: Layer already exists\n",
      "3ffc178e6d86: Layer already exists\n",
      "327e42081bbe: Layer already exists\n",
      "6e632f416458: Layer already exists\n",
      "e019be289189: Layer already exists\n",
      "c9a63110150b: Layer already exists\n",
      "latest: digest: sha256:5e3440a579eb2657cef580e4eb892ebd4e392a0f68fcb5483242a435480e03be size: 3275\n"
     ]
    },
    {
     "name": "stderr",
     "output_type": "stream",
     "text": [
      "WARNING! Your password will be stored unencrypted in /home/ec2-user/.docker/config.json.\n",
      "Configure a credential helper to remove this warning. See\n",
      "https://docs.docker.com/engine/reference/commandline/login/#credentials-store\n",
      "\n"
     ]
    }
   ],
   "source": [
    "%%sh\n",
    "\n",
    "# Name of algo -> ECR\n",
    "algorithm_name=mce-spacy-container\n",
    "\n",
    "cd container-spacy\n",
    "\n",
    "#make serve executable\n",
    "chmod +x NER/serve\n",
    "\n",
    "account=$(aws sts get-caller-identity --query Account --output text)\n",
    "\n",
    "# Region, defaults to us-west-2\n",
    "region=$(aws configure get region)\n",
    "region=${region:-us-east-1}\n",
    "\n",
    "fullname=\"${account}.dkr.ecr.${region}.amazonaws.com/${algorithm_name}:latest\"\n",
    "\n",
    "# If the repository doesn't exist in ECR, create it.\n",
    "aws ecr describe-repositories --repository-names \"${algorithm_name}\" > /dev/null 2>&1\n",
    "\n",
    "if [ $? -ne 0 ]\n",
    "then\n",
    "    aws ecr create-repository --repository-name \"${algorithm_name}\" > /dev/null\n",
    "fi\n",
    "\n",
    "# Get the login command from ECR and execute it directly\n",
    "aws ecr get-login-password --region ${region}|docker login --username AWS --password-stdin ${fullname}\n",
    "\n",
    "# Build the docker image locally with the image name and then push it to ECR\n",
    "# with the full name.\n",
    "\n",
    "docker build  -t ${algorithm_name} .\n",
    "docker tag ${algorithm_name} ${fullname}\n",
    "\n",
    "docker push ${fullname}"
   ]
  },
  {
   "cell_type": "code",
   "execution_count": 3,
   "id": "5281069c",
   "metadata": {},
   "outputs": [
    {
     "data": {
      "text/plain": [
       "'474422712127.dkr.ecr.us-east-1.amazonaws.com/mce-spacy-container:latest'"
      ]
     },
     "execution_count": 3,
     "metadata": {},
     "output_type": "execute_result"
    }
   ],
   "source": [
    "spacy_mce_container = '{}.dkr.ecr.{}.amazonaws.com/mce-spacy-container:latest'.format(account_id, region)\n",
    "spacy_mce_container"
   ]
  },
  {
   "cell_type": "markdown",
   "id": "1e8ce093",
   "metadata": {},
   "source": [
    "## TextBlob Push"
   ]
  },
  {
   "cell_type": "code",
   "execution_count": 4,
   "id": "cc7c8d22",
   "metadata": {},
   "outputs": [
    {
     "name": "stdout",
     "output_type": "stream",
     "text": [
      "Login Succeeded\n",
      "Sending build context to Docker daemon  23.04kB\n",
      "Step 1/10 : FROM python:3.8\n",
      " ---> 5c4350efb04f\n",
      "Step 2/10 : RUN apt-get -y update && apt-get install -y --no-install-recommends          wget          python3          nginx          ca-certificates     && rm -rf /var/lib/apt/lists/*\n",
      " ---> Using cache\n",
      " ---> eb9fd35375b2\n",
      "Step 3/10 : RUN wget https://bootstrap.pypa.io/get-pip.py && python3 get-pip.py &&     pip install flask gevent gunicorn &&         rm -rf /root/.cache\n",
      " ---> Using cache\n",
      " ---> 84058e0d6278\n",
      "Step 4/10 : RUN pip install textblob\n",
      " ---> Using cache\n",
      " ---> 52f026decb4e\n",
      "Step 5/10 : LABEL com.amazonaws.sagemaker.capabilities.accept-bind-to-port=true\n",
      " ---> Using cache\n",
      " ---> 10cf9f647cb9\n",
      "Step 6/10 : ENV PYTHONUNBUFFERED=TRUE\n",
      " ---> Using cache\n",
      " ---> 74cc93a19690\n",
      "Step 7/10 : ENV PYTHONDONTWRITEBYTECODE=TRUE\n",
      " ---> Using cache\n",
      " ---> 4a244d07e518\n",
      "Step 8/10 : ENV PATH=\"/opt/program:${PATH}\"\n",
      " ---> Using cache\n",
      " ---> 6759414d97ed\n",
      "Step 9/10 : COPY Sentiment /opt/program\n",
      " ---> Using cache\n",
      " ---> 9a24b2a2363a\n",
      "Step 10/10 : WORKDIR /opt/program\n",
      " ---> Using cache\n",
      " ---> f6704a660e5c\n",
      "Successfully built f6704a660e5c\n",
      "Successfully tagged mce-textblob-container:latest\n",
      "The push refers to repository [474422712127.dkr.ecr.us-east-1.amazonaws.com/mce-textblob-container]\n",
      "ff792a3fb456: Preparing\n",
      "46e1c62dc76b: Preparing\n",
      "c6a25838d4ff: Preparing\n",
      "676d3317e9b3: Preparing\n",
      "82b375d6a9af: Preparing\n",
      "ba00c52d3702: Preparing\n",
      "04e8f209746d: Preparing\n",
      "7ed1d87a050a: Preparing\n",
      "3ffc178e6d86: Preparing\n",
      "327e42081bbe: Preparing\n",
      "6e632f416458: Preparing\n",
      "e019be289189: Preparing\n",
      "c9a63110150b: Preparing\n",
      "ba00c52d3702: Waiting\n",
      "04e8f209746d: Waiting\n",
      "7ed1d87a050a: Waiting\n",
      "3ffc178e6d86: Waiting\n",
      "327e42081bbe: Waiting\n",
      "6e632f416458: Waiting\n",
      "e019be289189: Waiting\n",
      "c9a63110150b: Waiting\n",
      "46e1c62dc76b: Layer already exists\n",
      "ff792a3fb456: Layer already exists\n",
      "676d3317e9b3: Layer already exists\n",
      "c6a25838d4ff: Layer already exists\n",
      "82b375d6a9af: Layer already exists\n",
      "ba00c52d3702: Layer already exists\n",
      "04e8f209746d: Layer already exists\n",
      "3ffc178e6d86: Layer already exists\n",
      "7ed1d87a050a: Layer already exists\n",
      "327e42081bbe: Layer already exists\n",
      "6e632f416458: Layer already exists\n",
      "e019be289189: Layer already exists\n",
      "c9a63110150b: Layer already exists\n",
      "latest: digest: sha256:618090b94062362ea9de7c04da7746f8259d63af7daa01d04792ec4866b576da size: 3061\n"
     ]
    },
    {
     "name": "stderr",
     "output_type": "stream",
     "text": [
      "WARNING! Your password will be stored unencrypted in /home/ec2-user/.docker/config.json.\n",
      "Configure a credential helper to remove this warning. See\n",
      "https://docs.docker.com/engine/reference/commandline/login/#credentials-store\n",
      "\n"
     ]
    }
   ],
   "source": [
    "%%sh\n",
    "\n",
    "# Name of algo -> ECR\n",
    "algorithm_name=mce-textblob-container\n",
    "\n",
    "cd container-textblob\n",
    "\n",
    "#make serve executable\n",
    "chmod +x Sentiment/serve\n",
    "\n",
    "account=$(aws sts get-caller-identity --query Account --output text)\n",
    "\n",
    "# Region, defaults to us-west-2\n",
    "region=$(aws configure get region)\n",
    "region=${region:-us-east-1}\n",
    "\n",
    "fullname=\"${account}.dkr.ecr.${region}.amazonaws.com/${algorithm_name}:latest\"\n",
    "\n",
    "# If the repository doesn't exist in ECR, create it.\n",
    "aws ecr describe-repositories --repository-names \"${algorithm_name}\" > /dev/null 2>&1\n",
    "\n",
    "if [ $? -ne 0 ]\n",
    "then\n",
    "    aws ecr create-repository --repository-name \"${algorithm_name}\" > /dev/null\n",
    "fi\n",
    "\n",
    "# Get the login command from ECR and execute it directly\n",
    "aws ecr get-login-password --region ${region}|docker login --username AWS --password-stdin ${fullname}\n",
    "\n",
    "# Build the docker image locally with the image name and then push it to ECR\n",
    "# with the full name.\n",
    "\n",
    "docker build  -t ${algorithm_name} .\n",
    "docker tag ${algorithm_name} ${fullname}\n",
    "\n",
    "docker push ${fullname}"
   ]
  },
  {
   "cell_type": "code",
   "execution_count": 5,
   "id": "d8d67b75",
   "metadata": {},
   "outputs": [
    {
     "data": {
      "text/plain": [
       "'474422712127.dkr.ecr.us-east-1.amazonaws.com/mce-textblob-container:latest'"
      ]
     },
     "execution_count": 5,
     "metadata": {},
     "output_type": "execute_result"
    }
   ],
   "source": [
    "textblob_mce_container = '{}.dkr.ecr.{}.amazonaws.com/mce-textblob-container:latest'.format(account_id, region)\n",
    "textblob_mce_container"
   ]
  },
  {
   "cell_type": "markdown",
   "id": "bdef0172",
   "metadata": {},
   "source": [
    "# SageMaker Client Setup\n",
    "\n",
    "- [SageMaker Client](https://boto3.amazonaws.com/v1/documentation/api/latest/reference/services/sagemaker.html#SageMaker.Client.create_model): Model, Endpoint Config, and Endpoint Creation\n",
    "- [SageMaker RunTime Client](https://boto3.amazonaws.com/v1/documentation/api/latest/reference/services/sagemaker-runtime.html#SageMakerRuntime.Client.invoke_endpoint): Endpoint Invocation/Testing"
   ]
  },
  {
   "cell_type": "markdown",
   "id": "a23da9ea",
   "metadata": {},
   "source": [
    "## Model Creation"
   ]
  },
  {
   "cell_type": "code",
   "execution_count": 6,
   "id": "aed9b9eb",
   "metadata": {},
   "outputs": [],
   "source": [
    "container1 = {'Image':spacy_mce_container,'ContainerHostname': 'spacyContainer'}\n",
    "container2 = {'Image':textblob_mce_container,'ContainerHostname': 'textblobContainer'}\n",
    "inferenceExecutionConfig = {'Mode': 'Direct'}   "
   ]
  },
  {
   "cell_type": "code",
   "execution_count": 7,
   "id": "5064513e",
   "metadata": {},
   "outputs": [],
   "source": [
    "import boto3\n",
    "from time import gmtime, strftime\n",
    "sm_client = boto3.Session().client('sagemaker')\n",
    "\n",
    "#define our MCE in the containers param\n",
    "model_name = \"multi-container-ep-custom\" + strftime(\"%Y-%m-%d-%H-%M-%S\", gmtime())\n",
    "response = sm_client.create_model(\n",
    "              ModelName = model_name,\n",
    "              InferenceExecutionConfig = inferenceExecutionConfig,\n",
    "              ExecutionRoleArn = role,\n",
    "              Containers = [container1, container2])"
   ]
  },
  {
   "cell_type": "markdown",
   "id": "6d8417d7",
   "metadata": {},
   "source": [
    "### Endpoint Config Creation"
   ]
  },
  {
   "cell_type": "code",
   "execution_count": 8,
   "id": "55299509",
   "metadata": {},
   "outputs": [],
   "source": [
    "epc_config_name = \"multi-container-epc\" + strftime(\"%Y-%m-%d-%H-%M-%S\", gmtime())\n",
    "endpoint_config = sm_client.create_endpoint_config(\n",
    "    EndpointConfigName=epc_config_name,\n",
    "    ProductionVariants=[\n",
    "        {\n",
    "            \"VariantName\": \"prod\",\n",
    "            \"ModelName\": model_name,\n",
    "            \"InitialInstanceCount\": 1,\n",
    "            \"InstanceType\": \"ml.r5.24xlarge\",\n",
    "        },\n",
    "    ],\n",
    ")"
   ]
  },
  {
   "cell_type": "markdown",
   "id": "226d7b8b",
   "metadata": {},
   "source": [
    "### Endpoint Creation"
   ]
  },
  {
   "cell_type": "code",
   "execution_count": 9,
   "id": "a0e425d5",
   "metadata": {},
   "outputs": [],
   "source": [
    "endpoint_name = \"mce-custom\" + strftime(\"%Y-%m-%d-%H-%M-%S\", gmtime())\n",
    "endpoint = sm_client.create_endpoint(\n",
    "    EndpointName=endpoint_name, EndpointConfigName=epc_config_name\n",
    ")"
   ]
  },
  {
   "cell_type": "code",
   "execution_count": 10,
   "id": "f89e5217",
   "metadata": {},
   "outputs": [
    {
     "name": "stdout",
     "output_type": "stream",
     "text": [
      "Current endpoint status is: Creating, Trying again...\n",
      "Current endpoint status is: Creating, Trying again...\n",
      "Current endpoint status is: Creating, Trying again...\n",
      "Current endpoint status is: Creating, Trying again...\n",
      "Current endpoint status is: Creating, Trying again...\n",
      "Current endpoint status is: Creating, Trying again...\n",
      "Endpoint status changed to 'InService'\n"
     ]
    }
   ],
   "source": [
    "import time\n",
    "describe_endpoint = sm_client.describe_endpoint(EndpointName=endpoint_name)\n",
    "\n",
    "endpoint_status = describe_endpoint[\"EndpointStatus\"]\n",
    "\n",
    "while endpoint_status != \"InService\":\n",
    "    print(\"Current endpoint status is: {}, Trying again...\".format(endpoint_status))\n",
    "    time.sleep(60)\n",
    "    resp = sm_client.describe_endpoint(EndpointName=endpoint_name)\n",
    "    endpoint_status = resp[\"EndpointStatus\"]\n",
    "\n",
    "print(\"Endpoint status changed to 'InService'\")"
   ]
  },
  {
   "cell_type": "markdown",
   "id": "49f12555",
   "metadata": {},
   "source": [
    "### Test Spacy Container"
   ]
  },
  {
   "cell_type": "code",
   "execution_count": 13,
   "id": "c3410d71",
   "metadata": {},
   "outputs": [
    {
     "data": {
      "text/plain": [
       "{'output': [['NER', 'ORG'],\n",
       "  ['America', 'GPE'],\n",
       "  ['Amazon', 'ORG'],\n",
       "  ['Microsoft', 'ORG'],\n",
       "  ['Seattle', 'GPE']]}"
      ]
     },
     "execution_count": 13,
     "metadata": {},
     "output_type": "execute_result"
    }
   ],
   "source": [
    "import json\n",
    "content_type = \"application/json\"\n",
    "request_body = {\"input\": \"This is a test with NER in America with Amazon and Microsoft in Seattle, writing random stuff.\"}\n",
    "\n",
    "#Serialize data for endpoint\n",
    "data = json.loads(json.dumps(request_body))\n",
    "payload = json.dumps(data)\n",
    "\n",
    "#Endpoint invocation\n",
    "response = runtime_sm_client.invoke_endpoint(\n",
    "    EndpointName=endpoint_name,\n",
    "    ContentType=content_type,\n",
    "    Body=payload,\n",
    "    TargetContainerHostname=\"spacyContainer\")\n",
    "\n",
    "#Parse results\n",
    "result = json.loads(response['Body'].read().decode())\n",
    "result"
   ]
  },
  {
   "cell_type": "markdown",
   "id": "52d53af0",
   "metadata": {},
   "source": [
    "### Test Textblob Container"
   ]
  },
  {
   "cell_type": "code",
   "execution_count": 14,
   "id": "fda06d40",
   "metadata": {},
   "outputs": [
    {
     "data": {
      "text/plain": [
       "{'Polarity': -0.5, 'Subjectivity': 0.5}"
      ]
     },
     "execution_count": 14,
     "metadata": {},
     "output_type": "execute_result"
    }
   ],
   "source": [
    "import json\n",
    "content_type = \"application/json\"\n",
    "request_body = {\"input\": \"This is a test with NER in America with Amazon and Microsoft in Seattle, writing random stuff.\"}\n",
    "\n",
    "#Serialize data for endpoint\n",
    "data = json.loads(json.dumps(request_body))\n",
    "payload = json.dumps(data)\n",
    "\n",
    "#Endpoint invocation\n",
    "response = runtime_sm_client.invoke_endpoint(\n",
    "    EndpointName=endpoint_name,\n",
    "    ContentType=content_type,\n",
    "    Body=payload,\n",
    "    TargetContainerHostname=\"textblobContainer\")\n",
    "\n",
    "#Parse results\n",
    "result = json.loads(response['Body'].read().decode())\n",
    "result"
   ]
  }
 ],
 "metadata": {
  "kernelspec": {
   "display_name": "conda_python3",
   "language": "python",
   "name": "conda_python3"
  },
  "language_info": {
   "codemirror_mode": {
    "name": "ipython",
    "version": 3
   },
   "file_extension": ".py",
   "mimetype": "text/x-python",
   "name": "python",
   "nbconvert_exporter": "python",
   "pygments_lexer": "ipython3",
   "version": "3.6.13"
  }
 },
 "nbformat": 4,
 "nbformat_minor": 5
}
