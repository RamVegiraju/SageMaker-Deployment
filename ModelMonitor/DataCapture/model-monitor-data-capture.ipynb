{
 "cells": [
  {
   "cell_type": "markdown",
   "id": "21bb0ce3-6a85-4bb3-897d-796882ea1dac",
   "metadata": {},
   "source": [
    "## Model Monitor: Monitor Data Quality\n",
    "\n",
    "For this example we will utilize an existing [XGBoost Regression Example](https://github.com/RamVegiraju/SageMaker-Deployment/blob/master/RealTime/Built-In/XGBoost/XGBoost-Abalone.ipynb), to create a real-time endpoint which we will enable data capture and model monitoring capabilities for. "
   ]
  },
  {
   "cell_type": "code",
   "execution_count": null,
   "id": "baaf50c8-b062-4b35-965b-e890841fab85",
   "metadata": {
    "tags": []
   },
   "outputs": [],
   "source": [
    "import boto3\n",
    "import sagemaker\n",
    "from sagemaker.estimator import Estimator\n",
    "\n",
    "boto_session = boto3.session.Session()\n",
    "region = boto_session.region_name\n",
    "\n",
    "sagemaker_session = sagemaker.Session()\n",
    "base_job_prefix = 'xgboost-example'\n",
    "role = sagemaker.get_execution_role()\n",
    "\n",
    "default_bucket = sagemaker_session.default_bucket()\n",
    "s3_prefix = base_job_prefix\n",
    "\n",
    "training_instance_type = 'ml.m5.xlarge'"
   ]
  },
  {
   "cell_type": "markdown",
   "id": "81041059-a5a9-4898-89a0-09098e302a7a",
   "metadata": {},
   "source": [
    "## Download Data and Prepare Training Input in S3"
   ]
  },
  {
   "cell_type": "code",
   "execution_count": null,
   "id": "41e894c0-330c-4730-b6a6-579a724c3095",
   "metadata": {
    "tags": []
   },
   "outputs": [],
   "source": [
    "!aws s3 cp s3://sagemaker-sample-files/datasets/tabular/uci_abalone/train_csv/abalone_dataset1_train.csv ."
   ]
  },
  {
   "cell_type": "code",
   "execution_count": null,
   "id": "c1d166d3-6b2c-4527-b41e-6fbc7b1bd35c",
   "metadata": {
    "tags": []
   },
   "outputs": [],
   "source": [
    "!aws s3 cp abalone_dataset1_train.csv s3://{default_bucket}/xgboost-regression/train.csv"
   ]
  },
  {
   "cell_type": "markdown",
   "id": "27ae6f36-e8b5-4d62-87a6-fad9e94f3539",
   "metadata": {},
   "source": [
    "We also need to download the Abalone dataset with headers, headers are required for Model Monitoring."
   ]
  },
  {
   "cell_type": "code",
   "execution_count": null,
   "id": "601bc02e-d015-46b1-a70d-7f96dc2f4ea8",
   "metadata": {
    "tags": []
   },
   "outputs": [],
   "source": [
    "!aws s3 cp s3://sagemaker-sample-files/datasets/tabular/uci_abalone/abalone-with-headers.csv abalone-headers.csv"
   ]
  },
  {
   "cell_type": "code",
   "execution_count": null,
   "id": "a14d41fb-d684-48a5-b11c-3f86d408e06e",
   "metadata": {
    "tags": []
   },
   "outputs": [],
   "source": [
    "import pandas as pd\n",
    "df = pd.read_csv(\"abalone-headers.csv\")\n",
    "df.head()"
   ]
  },
  {
   "cell_type": "code",
   "execution_count": null,
   "id": "1edc0dcf-b17d-4dea-9397-ced5bf7ab4e2",
   "metadata": {
    "tags": []
   },
   "outputs": [],
   "source": [
    "columns = list(df.columns)\n",
    "columns"
   ]
  },
  {
   "cell_type": "code",
   "execution_count": null,
   "id": "ae2ea5d2-020d-43a8-9fb7-e0c7714ef758",
   "metadata": {
    "tags": []
   },
   "outputs": [],
   "source": [
    "df = df[['Rings','Sex',\n",
    " 'Length',\n",
    " 'Diameter',\n",
    " 'Height',\n",
    " 'Whole weight',\n",
    " 'Shucked weight',\n",
    " 'Viscera weight',\n",
    " 'Shell weight']]"
   ]
  },
  {
   "cell_type": "code",
   "execution_count": null,
   "id": "1defd23b-50dc-464b-94d4-b3c0d893e147",
   "metadata": {
    "tags": []
   },
   "outputs": [],
   "source": [
    "df.head()"
   ]
  },
  {
   "cell_type": "code",
   "execution_count": null,
   "id": "49654500-8a73-4318-b0c7-4ce1057b016d",
   "metadata": {
    "tags": []
   },
   "outputs": [],
   "source": [
    "df.to_csv(\"mm-headers.csv\", index = False)"
   ]
  },
  {
   "cell_type": "code",
   "execution_count": null,
   "id": "fe84dd8d-19e8-422b-8599-64bc05c31401",
   "metadata": {
    "tags": []
   },
   "outputs": [],
   "source": [
    "!aws s3 cp mm-headers.csv s3://{default_bucket}/xgboost-regression/baseline/mm-headers.csv"
   ]
  },
  {
   "cell_type": "code",
   "execution_count": null,
   "id": "bd341654-93ad-48bf-b811-9dc8f71bf18d",
   "metadata": {
    "tags": []
   },
   "outputs": [],
   "source": [
    "from sagemaker.inputs import TrainingInput\n",
    "training_path = f's3://{default_bucket}/xgboost-regression/train.csv'\n",
    "headers_path = f's3://{default_bucket}/xgboost-regression/baseline/mm-headers.csv'\n",
    "train_input = TrainingInput(training_path, content_type=\"text/csv\")"
   ]
  },
  {
   "cell_type": "markdown",
   "id": "2c93152b-e244-4a3b-8e45-89d2e2942ee7",
   "metadata": {},
   "source": [
    "## Retrieve XGBoost Image and Prepare Training Estimator W/ HyperParameters"
   ]
  },
  {
   "cell_type": "code",
   "execution_count": null,
   "id": "54648b68-6a0e-438b-b9c6-996f7d1282b9",
   "metadata": {
    "tags": []
   },
   "outputs": [],
   "source": [
    "model_path = f's3://{default_bucket}/{s3_prefix}/xgb_model'\n",
    "\n",
    "image_uri = sagemaker.image_uris.retrieve(\n",
    "    framework=\"xgboost\",\n",
    "    region=region,\n",
    "    version=\"1.0-1\",\n",
    "    py_version=\"py3\",\n",
    "    instance_type=training_instance_type,\n",
    ")\n",
    "\n",
    "xgb_train = Estimator(\n",
    "    image_uri=image_uri,\n",
    "    instance_type=training_instance_type,\n",
    "    instance_count=1,\n",
    "    output_path=model_path,\n",
    "    sagemaker_session=sagemaker_session,\n",
    "    role=role\n",
    ")\n",
    "\n",
    "xgb_train.set_hyperparameters(\n",
    "    objective=\"reg:linear\",\n",
    "    num_round=50,\n",
    "    max_depth=5,\n",
    "    eta=0.2,\n",
    "    gamma=4,\n",
    "    min_child_weight=6,\n",
    "    subsample=0.7,\n",
    "    silent=0,\n",
    ")"
   ]
  },
  {
   "cell_type": "markdown",
   "id": "0f347ce8-cae4-465d-8da5-8edb6505b1e7",
   "metadata": {},
   "source": [
    "## Model Training"
   ]
  },
  {
   "cell_type": "code",
   "execution_count": null,
   "id": "1e94d50e-19bb-427d-b4ba-bfcbd728ec5d",
   "metadata": {
    "tags": []
   },
   "outputs": [],
   "source": [
    "xgb_train.fit({'train': train_input})"
   ]
  },
  {
   "cell_type": "markdown",
   "id": "dadd79d2-f264-4e10-a2dd-260ac006afa0",
   "metadata": {},
   "source": [
    "## Retrieve Model Data"
   ]
  },
  {
   "cell_type": "code",
   "execution_count": null,
   "id": "3fcac586-7cf7-48e8-86e5-1b2bc844f702",
   "metadata": {
    "tags": []
   },
   "outputs": [],
   "source": [
    "model_artifacts = xgb_train.model_data\n",
    "model_artifacts"
   ]
  },
  {
   "cell_type": "markdown",
   "id": "d343ad0e-2685-4143-acb0-c223b42b58bf",
   "metadata": {},
   "source": [
    "## Create SM Client to Create Model, EP Config, EP"
   ]
  },
  {
   "cell_type": "code",
   "execution_count": null,
   "id": "8e7d1745-39db-407b-b603-ca38cd77aaad",
   "metadata": {
    "tags": []
   },
   "outputs": [],
   "source": [
    "sm_client = boto3.client(service_name='sagemaker')"
   ]
  },
  {
   "cell_type": "markdown",
   "id": "48758c90-e58d-4e9d-ad9f-673b33e9a9f1",
   "metadata": {},
   "source": [
    "## Model Creation"
   ]
  },
  {
   "cell_type": "code",
   "execution_count": null,
   "id": "463a6994-02c9-4326-b839-cd096cbcc3de",
   "metadata": {
    "tags": []
   },
   "outputs": [],
   "source": [
    "from time import gmtime, strftime\n",
    "model_name = 'xgboost-reg' + strftime(\"%Y-%m-%d-%H-%M-%S\", gmtime())\n",
    "print('Model name: ' + model_name)\n",
    "\n",
    "reference_container = {\n",
    "    \"Image\": image_uri,\n",
    "    \"ModelDataUrl\": model_artifacts\n",
    "}\n",
    "\n",
    "create_model_response = sm_client.create_model(\n",
    "    ModelName = model_name,\n",
    "    ExecutionRoleArn = role,\n",
    "    PrimaryContainer= reference_container)\n",
    "\n",
    "print(\"Model Arn: \" + create_model_response['ModelArn'])"
   ]
  },
  {
   "cell_type": "markdown",
   "id": "f381b71c-f2ca-411f-bbd5-35a91ac73a47",
   "metadata": {},
   "source": [
    "## Endpoint Config Creation\n",
    "\n",
    "The main difference in our endpoint configuration is we enable data capture on a per inference basis for our real-time endpoint."
   ]
  },
  {
   "cell_type": "code",
   "execution_count": null,
   "id": "e30dad36-31a4-4f96-aff1-f2065dc69ec2",
   "metadata": {
    "tags": []
   },
   "outputs": [],
   "source": [
    "# Sampling percentage. Choose an integer value between 0 and 100\n",
    "initial_sampling_percentage = 50                                                                                                                                                                                                                      \n",
    "\n",
    "# The S3 URI containing the captured data\n",
    "s3_capture_upload_path = f's3://{default_bucket}/{s3_prefix}/captured-data'\n",
    "\n",
    "# Capture Input and Output of Inference\n",
    "capture_modes = [ \"Input\",  \"Output\" ] "
   ]
  },
  {
   "cell_type": "code",
   "execution_count": null,
   "id": "7fa2181b-f40f-4a13-af3e-a49c985a5ea7",
   "metadata": {
    "tags": []
   },
   "outputs": [],
   "source": [
    "endpoint_config_name = 'xgboost-config' + strftime(\"%Y-%m-%d-%H-%M-%S\", gmtime())\n",
    "instance_type='ml.c5d.2xlarge'\n",
    "print('Endpoint config name: ' + endpoint_config_name)\n",
    "\n",
    "create_endpoint_config_response = sm_client.create_endpoint_config(\n",
    "    EndpointConfigName = endpoint_config_name,\n",
    "    ProductionVariants=[{\n",
    "        'InstanceType': instance_type,\n",
    "        'InitialInstanceCount': 1,\n",
    "        'InitialVariantWeight': 1,\n",
    "        'ModelName': model_name,\n",
    "        'VariantName': 'AllTraffic',\n",
    "        }],\n",
    "    DataCaptureConfig= {\n",
    "        'EnableCapture': True,\n",
    "        'InitialSamplingPercentage' : initial_sampling_percentage,\n",
    "        'DestinationS3Uri': s3_capture_upload_path,\n",
    "        'CaptureOptions': [{\"CaptureMode\" : capture_mode} for capture_mode in capture_modes]\n",
    "    })\n",
    "\n",
    "print(\"Endpoint config Arn: \" + create_endpoint_config_response['EndpointConfigArn'])"
   ]
  },
  {
   "cell_type": "markdown",
   "id": "5d73f251-b866-4e44-a3f4-a1c3751d7abd",
   "metadata": {},
   "source": [
    "## Endpoint Creation"
   ]
  },
  {
   "cell_type": "code",
   "execution_count": null,
   "id": "dd25c1af-6a31-4bb6-ba25-870f50d55afb",
   "metadata": {
    "tags": []
   },
   "outputs": [],
   "source": [
    "%%time\n",
    "\n",
    "import time\n",
    "\n",
    "endpoint_name = 'xgboost-reg' + strftime(\"%Y-%m-%d-%H-%M-%S\", gmtime())\n",
    "print('Endpoint name: ' + endpoint_name)\n",
    "\n",
    "create_endpoint_response = sm_client.create_endpoint(\n",
    "    EndpointName=endpoint_name,\n",
    "    EndpointConfigName=endpoint_config_name)\n",
    "print('Endpoint Arn: ' + create_endpoint_response['EndpointArn'])\n",
    "\n",
    "resp = sm_client.describe_endpoint(EndpointName=endpoint_name)\n",
    "status = resp['EndpointStatus']\n",
    "print(\"Endpoint Status: \" + status)\n",
    "\n",
    "print('Waiting for {} endpoint to be in service...'.format(endpoint_name))\n",
    "waiter = sm_client.get_waiter('endpoint_in_service')\n",
    "waiter.wait(EndpointName=endpoint_name)"
   ]
  },
  {
   "cell_type": "markdown",
   "id": "2dca9366-7628-4cea-8ddd-4764d961836c",
   "metadata": {},
   "source": [
    "## Sample Invocation\n",
    "\n",
    "It may take a few minutes to see the results from Data Capture."
   ]
  },
  {
   "cell_type": "code",
   "execution_count": null,
   "id": "25b93c8f-99de-40fe-ab4c-a9ca16ac57b5",
   "metadata": {
    "tags": []
   },
   "outputs": [],
   "source": [
    "import boto3\n",
    "smr = boto3.client('sagemaker-runtime')"
   ]
  },
  {
   "cell_type": "code",
   "execution_count": null,
   "id": "473f36cc-e374-495d-9c6a-eb7b128bd196",
   "metadata": {
    "tags": []
   },
   "outputs": [],
   "source": [
    "%%time\n",
    "for i in range(1000):\n",
    "    resp = smr.invoke_endpoint(EndpointName=endpoint_name, Body=b'.345,0.224414,.131102,0.042329,.279923,-0.110329,-0.099358,0.0', \n",
    "                               ContentType='text/csv')"
   ]
  },
  {
   "cell_type": "markdown",
   "id": "c57b0289-1ee6-4b21-96a8-55c5d2e19ad0",
   "metadata": {},
   "source": [
    "## Parse Data Capture Results"
   ]
  },
  {
   "cell_type": "code",
   "execution_count": null,
   "id": "3fa406a4-163c-4dc0-aef4-66b47ac10a15",
   "metadata": {
    "tags": []
   },
   "outputs": [],
   "source": [
    "!pip install jsonlines"
   ]
  },
  {
   "cell_type": "code",
   "execution_count": null,
   "id": "9a67bd02-628c-4b4a-9c6c-d888610d40d3",
   "metadata": {
    "tags": []
   },
   "outputs": [],
   "source": [
    "# Replace this with the S3 Path found in your Data Capture config in the Endpoint console\n",
    "!aws s3 cp <replace with your S3 URL > results.jsonl"
   ]
  },
  {
   "cell_type": "code",
   "execution_count": null,
   "id": "8744f0a3-d3e9-4301-b61f-5bbcad8d31c5",
   "metadata": {
    "tags": []
   },
   "outputs": [],
   "source": [
    "import jsonlines\n",
    "\n",
    "with jsonlines.open('results.jsonl') as f:\n",
    "    for line in f.iter():\n",
    "        print(line)"
   ]
  },
  {
   "cell_type": "markdown",
   "id": "1b22c180-4537-4c1c-98e3-5605502f63ab",
   "metadata": {},
   "source": [
    "## Create A Baseline Dataset\n",
    "\n",
    "For this we will utilize the Abalone dataset with headers, it will create a Processing Job to execute "
   ]
  },
  {
   "cell_type": "code",
   "execution_count": null,
   "id": "3c47d84f-5321-4e03-a3c3-cb852a3a3f5e",
   "metadata": {
    "tags": []
   },
   "outputs": [],
   "source": [
    "baseline_results_uri = f's3://{default_bucket}/{s3_prefix}/baseline-results-xgboost'"
   ]
  },
  {
   "cell_type": "code",
   "execution_count": null,
   "id": "f9c75cbc-baf0-4bf5-ba73-5c7776fc3ef0",
   "metadata": {
    "tags": []
   },
   "outputs": [],
   "source": [
    "from sagemaker.model_monitor import DefaultModelMonitor\n",
    "from sagemaker.model_monitor.dataset_format import DatasetFormat\n",
    "\n",
    "my_default_monitor = DefaultModelMonitor(\n",
    "    role=role,\n",
    "    instance_count=1,\n",
    "    instance_type='ml.m5.xlarge',\n",
    "    volume_size_in_gb=20,\n",
    "    max_runtime_in_seconds=3600,\n",
    ")\n",
    "\n",
    "#we pass in the dataset with headers, note the target column is the first column for Model Monitor\n",
    "my_default_monitor.suggest_baseline(\n",
    "    baseline_dataset=headers_path,\n",
    "    dataset_format=DatasetFormat.csv(header=True),\n",
    "    output_s3_uri=baseline_results_uri,\n",
    "    wait=True\n",
    ")"
   ]
  }
 ],
 "metadata": {
  "kernelspec": {
   "display_name": "conda_python3",
   "language": "python",
   "name": "conda_python3"
  },
  "language_info": {
   "codemirror_mode": {
    "name": "ipython",
    "version": 3
   },
   "file_extension": ".py",
   "mimetype": "text/x-python",
   "name": "python",
   "nbconvert_exporter": "python",
   "pygments_lexer": "ipython3",
   "version": "3.10.8"
  }
 },
 "nbformat": 4,
 "nbformat_minor": 5
}
